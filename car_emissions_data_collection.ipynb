{
  "cells": [
    {
      "cell_type": "markdown",
      "metadata": {
        "id": "view-in-github",
        "colab_type": "text"
      },
      "source": [
        "<a href=\"https://colab.research.google.com/github/chloebs4590/Metis-Engineering/blob/main/car_emissions_data_collection.ipynb\" target=\"_parent\"><img src=\"https://colab.research.google.com/assets/colab-badge.svg\" alt=\"Open In Colab\"/></a>"
      ]
    },
    {
      "cell_type": "markdown",
      "metadata": {
        "id": "WekUKzDruMMB"
      },
      "source": [
        "# Description of Notebook\n",
        "This notebook is for car emissions data collection"
      ]
    },
    {
      "cell_type": "code",
      "execution_count": null,
      "metadata": {
        "id": "6gJI0g9JmkKG"
      },
      "outputs": [],
      "source": [
        "reset -fs"
      ]
    },
    {
      "cell_type": "code",
      "source": [
        "!pip install googlemaps"
      ],
      "metadata": {
        "id": "oU-R787CjkRC"
      },
      "execution_count": null,
      "outputs": []
    },
    {
      "cell_type": "code",
      "execution_count": null,
      "metadata": {
        "id": "pw1mHqUjmsxb"
      },
      "outputs": [],
      "source": [
        "import pandas as pd\n",
        "import numpy as np\n",
        "import os\n",
        "from itertools import combinations\n",
        "import itertools\n",
        "import time\n",
        "import pickle\n",
        "import requests\n",
        "import googlemaps"
      ]
    },
    {
      "cell_type": "code",
      "execution_count": null,
      "metadata": {
        "colab": {
          "base_uri": "https://localhost:8080/"
        },
        "id": "NMZ8eAv9mydb",
        "outputId": "a56ca2dc-b077-40d9-ffb4-b8ab73193e91"
      },
      "outputs": [
        {
          "output_type": "stream",
          "name": "stdout",
          "text": [
            "/content/drive\n",
            "Drive already mounted at /content/drive; to attempt to forcibly remount, call drive.mount(\"/content/drive\", force_remount=True).\n"
          ]
        }
      ],
      "source": [
        "# mount Google Drive\n",
        "from google.colab import drive # import drive from google colab\n",
        "from os.path import join\n",
        "ROOT = \"/content/drive\"     # default location for the drive\n",
        "print(ROOT)                 # print content of ROOT (Optional)\n",
        "\n",
        "drive.mount(ROOT)           # we mount the google drive at /content/drive"
      ]
    },
    {
      "cell_type": "code",
      "execution_count": null,
      "metadata": {
        "id": "ErnfPLrxm10S"
      },
      "outputs": [],
      "source": [
        "from google.colab import auth\n",
        "auth.authenticate_user()\n",
        "\n",
        "import gspread\n",
        "from google.auth import default\n",
        "creds, _ = default()\n",
        "\n",
        "gc = gspread.authorize(creds)"
      ]
    },
    {
      "cell_type": "code",
      "execution_count": null,
      "metadata": {
        "id": "jjOJPfwYm5dV"
      },
      "outputs": [],
      "source": [
        "os.chdir('/content/drive/MyDrive/Data Science Metis/Engineering')"
      ]
    },
    {
      "cell_type": "markdown",
      "metadata": {
        "id": "c5rdyUgBvW9d"
      },
      "source": [
        "Read in data"
      ]
    },
    {
      "cell_type": "code",
      "execution_count": null,
      "metadata": {
        "id": "iDLTKrBN7tXx"
      },
      "outputs": [],
      "source": [
        "worksheet = gc.open('Amtrak Routes and Train Stations_rev').sheet1\n",
        "rows = worksheet.get_all_values()\n",
        "routes_stations = pd.DataFrame.from_records(rows[1:])"
      ]
    },
    {
      "cell_type": "code",
      "execution_count": null,
      "metadata": {
        "id": "ccwwy8Id7vCA"
      },
      "outputs": [],
      "source": [
        "routes_stations.columns = ['route','station_name']"
      ]
    },
    {
      "cell_type": "code",
      "execution_count": null,
      "metadata": {
        "id": "f5T6IsHbs80l"
      },
      "outputs": [],
      "source": [
        "# read in stations_locations_geocoded\n",
        "\n",
        "with open('stations_locations_geocoded.pkl','rb') as fid:\n",
        "  stations_locations = pickle.load(fid)"
      ]
    },
    {
      "cell_type": "code",
      "execution_count": null,
      "metadata": {
        "id": "OV3kS-7RtBc3"
      },
      "outputs": [],
      "source": [
        "# convert latitude and longitude columns to numeric\n",
        "\n",
        "stations_locations[['latitude', 'longitude']] = stations_locations[['latitude', 'longitude']].apply(pd.to_numeric)"
      ]
    },
    {
      "cell_type": "code",
      "execution_count": null,
      "metadata": {
        "id": "IvjKqORctESJ"
      },
      "outputs": [],
      "source": [
        "# merge latitude and longitude columns\n",
        "\n",
        "stations_locations['coordinates'] = stations_locations[['latitude', 'longitude']].apply(tuple, axis=1)"
      ]
    },
    {
      "cell_type": "code",
      "execution_count": null,
      "metadata": {
        "id": "1KZuzEvEtGMk"
      },
      "outputs": [],
      "source": [
        "# keep only necessary columns\n",
        "\n",
        "stations_locations = stations_locations.drop(columns=['longitude', 'latitude','objectid_1','objectid','station_descripton',\n",
        "                                                      'bus_or_train','address_2','name'])"
      ]
    },
    {
      "cell_type": "code",
      "execution_count": null,
      "metadata": {
        "id": "PQxmqiugtIWT"
      },
      "outputs": [],
      "source": [
        "stations_locations = stations_locations.drop(columns=['x', 'y'])"
      ]
    },
    {
      "cell_type": "code",
      "execution_count": null,
      "metadata": {
        "colab": {
          "base_uri": "https://localhost:8080/"
        },
        "id": "pdSt55OAwgyO",
        "outputId": "15fc015c-431c-4ae7-ea57-c79a71799884"
      },
      "outputs": [
        {
          "output_type": "execute_result",
          "data": {
            "text/plain": [
              "(540, 9)"
            ]
          },
          "metadata": {},
          "execution_count": 60
        }
      ],
      "source": [
        "stations_locations.shape"
      ]
    },
    {
      "cell_type": "code",
      "execution_count": null,
      "metadata": {
        "colab": {
          "base_uri": "https://localhost:8080/",
          "height": 337
        },
        "id": "ZUwcsnR4Ckjt",
        "outputId": "3174a8de-ab24-4650-e09a-d99ab54efe56"
      },
      "outputs": [
        {
          "output_type": "execute_result",
          "data": {
            "text/plain": [
              "  zip_code state         city               address_1 code  \\\n",
              "0    21001    MD     Aberdeen  18 East Bel Air Avenue  ABE   \n",
              "1    12144    NY   Rensselaer         525 East Street  ALB   \n",
              "2    97321    OR       Albany      110 10th Avenue SW  ALY   \n",
              "3    49224    MI       Albion  300 North Eaton Street  ALI   \n",
              "4    87102    NM  Albuquerque       320 1st Street SW  ABQ   \n",
              "\n",
              "            station_name   state_rev  \\\n",
              "0           Aberdeen, MD    Maryland   \n",
              "1  Albany-Rensselaer, NY    New York   \n",
              "2             Albany, OR      Oregon   \n",
              "3             Albion, MI    Michigan   \n",
              "4        Albuquerque, NM  New Mexico   \n",
              "\n",
              "                                       full_address  \\\n",
              "0  18 East Bel Air Avenue, Aberdeen, Maryland 21001   \n",
              "1       525 East Street, Rensselaer, New York 12144   \n",
              "2          110 10th Avenue SW, Albany, Oregon 97321   \n",
              "3    300 North Eaton Street, Albion, Michigan 49224   \n",
              "4  320 1st Street SW, Albuquerque, New Mexico 87102   \n",
              "\n",
              "                  coordinates  \n",
              "0    (39.5084117, -76.163203)  \n",
              "1   (42.6413525, -73.7411492)  \n",
              "2  (44.6301042, -123.1029538)  \n",
              "3   (42.2472581, -84.7556711)  \n",
              "4  (35.0819655, -106.6476898)  "
            ],
            "text/html": [
              "\n",
              "  <div id=\"df-de5c1929-17bf-4b72-9e26-06ae9e44eec7\">\n",
              "    <div class=\"colab-df-container\">\n",
              "      <div>\n",
              "<style scoped>\n",
              "    .dataframe tbody tr th:only-of-type {\n",
              "        vertical-align: middle;\n",
              "    }\n",
              "\n",
              "    .dataframe tbody tr th {\n",
              "        vertical-align: top;\n",
              "    }\n",
              "\n",
              "    .dataframe thead th {\n",
              "        text-align: right;\n",
              "    }\n",
              "</style>\n",
              "<table border=\"1\" class=\"dataframe\">\n",
              "  <thead>\n",
              "    <tr style=\"text-align: right;\">\n",
              "      <th></th>\n",
              "      <th>zip_code</th>\n",
              "      <th>state</th>\n",
              "      <th>city</th>\n",
              "      <th>address_1</th>\n",
              "      <th>code</th>\n",
              "      <th>station_name</th>\n",
              "      <th>state_rev</th>\n",
              "      <th>full_address</th>\n",
              "      <th>coordinates</th>\n",
              "    </tr>\n",
              "  </thead>\n",
              "  <tbody>\n",
              "    <tr>\n",
              "      <th>0</th>\n",
              "      <td>21001</td>\n",
              "      <td>MD</td>\n",
              "      <td>Aberdeen</td>\n",
              "      <td>18 East Bel Air Avenue</td>\n",
              "      <td>ABE</td>\n",
              "      <td>Aberdeen, MD</td>\n",
              "      <td>Maryland</td>\n",
              "      <td>18 East Bel Air Avenue, Aberdeen, Maryland 21001</td>\n",
              "      <td>(39.5084117, -76.163203)</td>\n",
              "    </tr>\n",
              "    <tr>\n",
              "      <th>1</th>\n",
              "      <td>12144</td>\n",
              "      <td>NY</td>\n",
              "      <td>Rensselaer</td>\n",
              "      <td>525 East Street</td>\n",
              "      <td>ALB</td>\n",
              "      <td>Albany-Rensselaer, NY</td>\n",
              "      <td>New York</td>\n",
              "      <td>525 East Street, Rensselaer, New York 12144</td>\n",
              "      <td>(42.6413525, -73.7411492)</td>\n",
              "    </tr>\n",
              "    <tr>\n",
              "      <th>2</th>\n",
              "      <td>97321</td>\n",
              "      <td>OR</td>\n",
              "      <td>Albany</td>\n",
              "      <td>110 10th Avenue SW</td>\n",
              "      <td>ALY</td>\n",
              "      <td>Albany, OR</td>\n",
              "      <td>Oregon</td>\n",
              "      <td>110 10th Avenue SW, Albany, Oregon 97321</td>\n",
              "      <td>(44.6301042, -123.1029538)</td>\n",
              "    </tr>\n",
              "    <tr>\n",
              "      <th>3</th>\n",
              "      <td>49224</td>\n",
              "      <td>MI</td>\n",
              "      <td>Albion</td>\n",
              "      <td>300 North Eaton Street</td>\n",
              "      <td>ALI</td>\n",
              "      <td>Albion, MI</td>\n",
              "      <td>Michigan</td>\n",
              "      <td>300 North Eaton Street, Albion, Michigan 49224</td>\n",
              "      <td>(42.2472581, -84.7556711)</td>\n",
              "    </tr>\n",
              "    <tr>\n",
              "      <th>4</th>\n",
              "      <td>87102</td>\n",
              "      <td>NM</td>\n",
              "      <td>Albuquerque</td>\n",
              "      <td>320 1st Street SW</td>\n",
              "      <td>ABQ</td>\n",
              "      <td>Albuquerque, NM</td>\n",
              "      <td>New Mexico</td>\n",
              "      <td>320 1st Street SW, Albuquerque, New Mexico 87102</td>\n",
              "      <td>(35.0819655, -106.6476898)</td>\n",
              "    </tr>\n",
              "  </tbody>\n",
              "</table>\n",
              "</div>\n",
              "      <button class=\"colab-df-convert\" onclick=\"convertToInteractive('df-de5c1929-17bf-4b72-9e26-06ae9e44eec7')\"\n",
              "              title=\"Convert this dataframe to an interactive table.\"\n",
              "              style=\"display:none;\">\n",
              "        \n",
              "  <svg xmlns=\"http://www.w3.org/2000/svg\" height=\"24px\"viewBox=\"0 0 24 24\"\n",
              "       width=\"24px\">\n",
              "    <path d=\"M0 0h24v24H0V0z\" fill=\"none\"/>\n",
              "    <path d=\"M18.56 5.44l.94 2.06.94-2.06 2.06-.94-2.06-.94-.94-2.06-.94 2.06-2.06.94zm-11 1L8.5 8.5l.94-2.06 2.06-.94-2.06-.94L8.5 2.5l-.94 2.06-2.06.94zm10 10l.94 2.06.94-2.06 2.06-.94-2.06-.94-.94-2.06-.94 2.06-2.06.94z\"/><path d=\"M17.41 7.96l-1.37-1.37c-.4-.4-.92-.59-1.43-.59-.52 0-1.04.2-1.43.59L10.3 9.45l-7.72 7.72c-.78.78-.78 2.05 0 2.83L4 21.41c.39.39.9.59 1.41.59.51 0 1.02-.2 1.41-.59l7.78-7.78 2.81-2.81c.8-.78.8-2.07 0-2.86zM5.41 20L4 18.59l7.72-7.72 1.47 1.35L5.41 20z\"/>\n",
              "  </svg>\n",
              "      </button>\n",
              "      \n",
              "  <style>\n",
              "    .colab-df-container {\n",
              "      display:flex;\n",
              "      flex-wrap:wrap;\n",
              "      gap: 12px;\n",
              "    }\n",
              "\n",
              "    .colab-df-convert {\n",
              "      background-color: #E8F0FE;\n",
              "      border: none;\n",
              "      border-radius: 50%;\n",
              "      cursor: pointer;\n",
              "      display: none;\n",
              "      fill: #1967D2;\n",
              "      height: 32px;\n",
              "      padding: 0 0 0 0;\n",
              "      width: 32px;\n",
              "    }\n",
              "\n",
              "    .colab-df-convert:hover {\n",
              "      background-color: #E2EBFA;\n",
              "      box-shadow: 0px 1px 2px rgba(60, 64, 67, 0.3), 0px 1px 3px 1px rgba(60, 64, 67, 0.15);\n",
              "      fill: #174EA6;\n",
              "    }\n",
              "\n",
              "    [theme=dark] .colab-df-convert {\n",
              "      background-color: #3B4455;\n",
              "      fill: #D2E3FC;\n",
              "    }\n",
              "\n",
              "    [theme=dark] .colab-df-convert:hover {\n",
              "      background-color: #434B5C;\n",
              "      box-shadow: 0px 1px 3px 1px rgba(0, 0, 0, 0.15);\n",
              "      filter: drop-shadow(0px 1px 2px rgba(0, 0, 0, 0.3));\n",
              "      fill: #FFFFFF;\n",
              "    }\n",
              "  </style>\n",
              "\n",
              "      <script>\n",
              "        const buttonEl =\n",
              "          document.querySelector('#df-de5c1929-17bf-4b72-9e26-06ae9e44eec7 button.colab-df-convert');\n",
              "        buttonEl.style.display =\n",
              "          google.colab.kernel.accessAllowed ? 'block' : 'none';\n",
              "\n",
              "        async function convertToInteractive(key) {\n",
              "          const element = document.querySelector('#df-de5c1929-17bf-4b72-9e26-06ae9e44eec7');\n",
              "          const dataTable =\n",
              "            await google.colab.kernel.invokeFunction('convertToInteractive',\n",
              "                                                     [key], {});\n",
              "          if (!dataTable) return;\n",
              "\n",
              "          const docLinkHtml = 'Like what you see? Visit the ' +\n",
              "            '<a target=\"_blank\" href=https://colab.research.google.com/notebooks/data_table.ipynb>data table notebook</a>'\n",
              "            + ' to learn more about interactive tables.';\n",
              "          element.innerHTML = '';\n",
              "          dataTable['output_type'] = 'display_data';\n",
              "          await google.colab.output.renderOutput(dataTable, element);\n",
              "          const docLink = document.createElement('div');\n",
              "          docLink.innerHTML = docLinkHtml;\n",
              "          element.appendChild(docLink);\n",
              "        }\n",
              "      </script>\n",
              "    </div>\n",
              "  </div>\n",
              "  "
            ]
          },
          "metadata": {},
          "execution_count": 61
        }
      ],
      "source": [
        "stations_locations.head()"
      ]
    },
    {
      "cell_type": "markdown",
      "metadata": {
        "id": "lTEiCqXv720Y"
      },
      "source": [
        "Clean up routes_stations for merging with stations_locations"
      ]
    },
    {
      "cell_type": "code",
      "execution_count": null,
      "metadata": {
        "id": "7cRRHyiT76jt"
      },
      "outputs": [],
      "source": [
        "# create code column\n",
        "\n",
        "def create_code_col(x):\n",
        "  code = x[-5:]\n",
        "  code = code[1:-1]\n",
        "  return code\n",
        "\n",
        "routes_stations['code'] = routes_stations['station_name'].map(create_code_col)"
      ]
    },
    {
      "cell_type": "code",
      "execution_count": null,
      "metadata": {
        "id": "vNgz5TFP78ci"
      },
      "outputs": [],
      "source": [
        "# remove code from station_name column\n",
        "\n",
        "routes_stations['station_name'] = routes_stations['station_name'].map(lambda x: x[:-6])"
      ]
    },
    {
      "cell_type": "markdown",
      "metadata": {
        "id": "36z71VEi8AUd"
      },
      "source": [
        "Left merge stations_locations on routes_stations"
      ]
    },
    {
      "cell_type": "code",
      "execution_count": null,
      "metadata": {
        "id": "aB631fZ28CoZ"
      },
      "outputs": [],
      "source": [
        "routes_stations_locations = routes_stations.merge(stations_locations, how='left', on='code',suffixes=('_route', '_location'))"
      ]
    },
    {
      "cell_type": "code",
      "execution_count": null,
      "metadata": {
        "colab": {
          "base_uri": "https://localhost:8080/"
        },
        "id": "9v4ktStvCpww",
        "outputId": "030a7ff0-0217-4c6a-99f7-9d22345add82"
      },
      "outputs": [
        {
          "output_type": "execute_result",
          "data": {
            "text/plain": [
              "(819, 11)"
            ]
          },
          "metadata": {},
          "execution_count": 65
        }
      ],
      "source": [
        "routes_stations_locations.shape"
      ]
    },
    {
      "cell_type": "code",
      "execution_count": null,
      "metadata": {
        "colab": {
          "base_uri": "https://localhost:8080/"
        },
        "id": "dcA3xg3n8Ecy",
        "outputId": "811b689b-b071-4302-8168-7e876c2c7530"
      },
      "outputs": [
        {
          "output_type": "stream",
          "name": "stdout",
          "text": [
            "19\n"
          ]
        }
      ],
      "source": [
        "# since I only really care about stations at the city level, I'll remove duplicate cities per route\n",
        "\n",
        "print(sum(routes_stations_locations.duplicated(subset=['station_name_location', 'route'])))\n",
        "\n",
        "routes_stations_locations = routes_stations_locations.drop_duplicates(subset=['station_name_location', 'route'])"
      ]
    },
    {
      "cell_type": "code",
      "execution_count": null,
      "metadata": {
        "colab": {
          "base_uri": "https://localhost:8080/"
        },
        "id": "7oJjZN-98gCu",
        "outputId": "42421ee9-00be-4418-997a-9b523258e430"
      },
      "outputs": [
        {
          "output_type": "execute_result",
          "data": {
            "text/plain": [
              "42"
            ]
          },
          "metadata": {},
          "execution_count": 67
        }
      ],
      "source": [
        "# get number of routes\n",
        "routes_stations_locations.route.nunique()"
      ]
    },
    {
      "cell_type": "code",
      "execution_count": null,
      "metadata": {
        "colab": {
          "base_uri": "https://localhost:8080/"
        },
        "id": "IBXCvFAo8hy5",
        "outputId": "bb080a94-964f-4634-92d2-9755742b0772"
      },
      "outputs": [
        {
          "output_type": "execute_result",
          "data": {
            "text/plain": [
              "42"
            ]
          },
          "metadata": {},
          "execution_count": 68
        }
      ],
      "source": [
        "# create list of all route names\n",
        "routes = list(routes_stations_locations.route.unique())\n",
        "len(routes)"
      ]
    },
    {
      "cell_type": "markdown",
      "metadata": {
        "id": "Y82wTo8R8m3L"
      },
      "source": [
        "Create a dictionary where key = route and values = tuples of all combinations of two stations within route"
      ]
    },
    {
      "cell_type": "code",
      "execution_count": null,
      "metadata": {
        "id": "duM2Cj-C8sfS"
      },
      "outputs": [],
      "source": [
        "route_combos_dict = {}\n",
        "\n",
        "for route in routes:\n",
        "  route_df = routes_stations_locations.loc[routes_stations_locations.route == route]\n",
        "  route_combos = list(combinations(route_df.code, 2))\n",
        "  route_combos_dict[route] = route_combos"
      ]
    },
    {
      "cell_type": "markdown",
      "metadata": {
        "id": "Vmi2TW1w3Qfc"
      },
      "source": [
        "Calculate distances using Google's Distance Matrix API. The below code comes from here: https://www.linkedin.com/pulse/calculating-distances-using-python-google-maps-r%C3%A9gis-nisengwe/?articleId=6625061973447053312"
      ]
    },
    {
      "cell_type": "code",
      "execution_count": null,
      "metadata": {
        "id": "ST95fF5l3L22"
      },
      "outputs": [],
      "source": [
        "#create a list of lists, in which each nested list contains each station combo, including the station names, codes, coordinates and haversine distance\n",
        "\n",
        "API_key = 'my_key'\n",
        "gmaps = googlemaps.Client(key=API_key)\n",
        "\n",
        "routes_combos_list = []\n",
        "\n",
        "for key,value in route_combos_dict.items():\n",
        "    for i in range(len(value)):\n",
        "      station_1_coords = routes_stations_locations.loc[routes_stations_locations.code == value[i][0]]['coordinates'].values[0]\n",
        "      station_2_coords = routes_stations_locations.loc[routes_stations_locations.code == value[i][1]]['coordinates'].values[0]\n",
        "\n",
        "      station_1_name = routes_stations_locations.loc[routes_stations_locations.code == value[i][0]]['station_name_location'].values[0]\n",
        "      station_2_name = routes_stations_locations.loc[routes_stations_locations.code == value[i][1]]['station_name_location'].values[0]\n",
        "\n",
        "      distance = gmaps.distance_matrix(station_1_coords, station_2_coords,mode='driving')[\"rows\"][0][\"elements\"][0][\"distance\"][\"value\"]\n",
        "      routes_combos_list.append([value[i][0], station_1_name, station_1_coords, value[i][1], station_2_name, station_2_coords, distance])"
      ]
    },
    {
      "cell_type": "code",
      "execution_count": null,
      "metadata": {
        "id": "wbBt5jo93kLG"
      },
      "outputs": [],
      "source": [
        "# create dataframe\n",
        "\n",
        "stations_combos_df = pd.DataFrame(routes_combos_list, columns = ['station_1_code','station_1_name','station_1_coords','station_2_code','station_2_name',\n",
        "                                                 'station_2_coords', 'distance_meters'])\n",
        "stations_combos_df['distance_mi'] = stations_combos_df['distance_meters'] / 1609"
      ]
    },
    {
      "cell_type": "code",
      "execution_count": null,
      "metadata": {
        "id": "Cgsk5bge3kqU"
      },
      "outputs": [],
      "source": [
        "# drop meters column\n",
        "stations_combos_df = stations_combos_df.drop(columns='distance_meters',axis=1)"
      ]
    },
    {
      "cell_type": "code",
      "execution_count": null,
      "metadata": {
        "colab": {
          "base_uri": "https://localhost:8080/",
          "height": 206
        },
        "id": "KmNS5ee_3nXy",
        "outputId": "5597996a-1d6b-4648-a060-c5a69db04451"
      },
      "outputs": [
        {
          "data": {
            "text/html": [
              "\n",
              "  <div id=\"df-2d435557-75e0-40b1-a9ab-cd47fc7a7c81\">\n",
              "    <div class=\"colab-df-container\">\n",
              "      <div>\n",
              "<style scoped>\n",
              "    .dataframe tbody tr th:only-of-type {\n",
              "        vertical-align: middle;\n",
              "    }\n",
              "\n",
              "    .dataframe tbody tr th {\n",
              "        vertical-align: top;\n",
              "    }\n",
              "\n",
              "    .dataframe thead th {\n",
              "        text-align: right;\n",
              "    }\n",
              "</style>\n",
              "<table border=\"1\" class=\"dataframe\">\n",
              "  <thead>\n",
              "    <tr style=\"text-align: right;\">\n",
              "      <th></th>\n",
              "      <th>station_1_code</th>\n",
              "      <th>station_1_name</th>\n",
              "      <th>station_1_coords</th>\n",
              "      <th>station_2_code</th>\n",
              "      <th>station_2_name</th>\n",
              "      <th>station_2_coords</th>\n",
              "      <th>distance_mi</th>\n",
              "    </tr>\n",
              "  </thead>\n",
              "  <tbody>\n",
              "    <tr>\n",
              "      <th>0</th>\n",
              "      <td>BOS</td>\n",
              "      <td>Boston, MA</td>\n",
              "      <td>(42.348695, -71.059861)</td>\n",
              "      <td>RTE</td>\n",
              "      <td>Route 128, MA</td>\n",
              "      <td>(42.2111905, -71.148665)</td>\n",
              "      <td>17.250466</td>\n",
              "    </tr>\n",
              "    <tr>\n",
              "      <th>1</th>\n",
              "      <td>BOS</td>\n",
              "      <td>Boston, MA</td>\n",
              "      <td>(42.348695, -71.059861)</td>\n",
              "      <td>PVD</td>\n",
              "      <td>Providence, RI</td>\n",
              "      <td>(41.8305099, -71.4131785)</td>\n",
              "      <td>48.474208</td>\n",
              "    </tr>\n",
              "    <tr>\n",
              "      <th>2</th>\n",
              "      <td>BOS</td>\n",
              "      <td>Boston, MA</td>\n",
              "      <td>(42.348695, -71.059861)</td>\n",
              "      <td>NHV</td>\n",
              "      <td>New Haven, CT</td>\n",
              "      <td>(41.2973604, -72.9267668)</td>\n",
              "      <td>137.650093</td>\n",
              "    </tr>\n",
              "    <tr>\n",
              "      <th>3</th>\n",
              "      <td>BOS</td>\n",
              "      <td>Boston, MA</td>\n",
              "      <td>(42.348695, -71.059861)</td>\n",
              "      <td>STM</td>\n",
              "      <td>Stamford, CT</td>\n",
              "      <td>(41.0468938, -73.5429146)</td>\n",
              "      <td>173.993163</td>\n",
              "    </tr>\n",
              "    <tr>\n",
              "      <th>4</th>\n",
              "      <td>BOS</td>\n",
              "      <td>Boston, MA</td>\n",
              "      <td>(42.348695, -71.059861)</td>\n",
              "      <td>NYP</td>\n",
              "      <td>New York, NY</td>\n",
              "      <td>(40.7509973, -73.9962784)</td>\n",
              "      <td>212.117464</td>\n",
              "    </tr>\n",
              "  </tbody>\n",
              "</table>\n",
              "</div>\n",
              "      <button class=\"colab-df-convert\" onclick=\"convertToInteractive('df-2d435557-75e0-40b1-a9ab-cd47fc7a7c81')\"\n",
              "              title=\"Convert this dataframe to an interactive table.\"\n",
              "              style=\"display:none;\">\n",
              "        \n",
              "  <svg xmlns=\"http://www.w3.org/2000/svg\" height=\"24px\"viewBox=\"0 0 24 24\"\n",
              "       width=\"24px\">\n",
              "    <path d=\"M0 0h24v24H0V0z\" fill=\"none\"/>\n",
              "    <path d=\"M18.56 5.44l.94 2.06.94-2.06 2.06-.94-2.06-.94-.94-2.06-.94 2.06-2.06.94zm-11 1L8.5 8.5l.94-2.06 2.06-.94-2.06-.94L8.5 2.5l-.94 2.06-2.06.94zm10 10l.94 2.06.94-2.06 2.06-.94-2.06-.94-.94-2.06-.94 2.06-2.06.94z\"/><path d=\"M17.41 7.96l-1.37-1.37c-.4-.4-.92-.59-1.43-.59-.52 0-1.04.2-1.43.59L10.3 9.45l-7.72 7.72c-.78.78-.78 2.05 0 2.83L4 21.41c.39.39.9.59 1.41.59.51 0 1.02-.2 1.41-.59l7.78-7.78 2.81-2.81c.8-.78.8-2.07 0-2.86zM5.41 20L4 18.59l7.72-7.72 1.47 1.35L5.41 20z\"/>\n",
              "  </svg>\n",
              "      </button>\n",
              "      \n",
              "  <style>\n",
              "    .colab-df-container {\n",
              "      display:flex;\n",
              "      flex-wrap:wrap;\n",
              "      gap: 12px;\n",
              "    }\n",
              "\n",
              "    .colab-df-convert {\n",
              "      background-color: #E8F0FE;\n",
              "      border: none;\n",
              "      border-radius: 50%;\n",
              "      cursor: pointer;\n",
              "      display: none;\n",
              "      fill: #1967D2;\n",
              "      height: 32px;\n",
              "      padding: 0 0 0 0;\n",
              "      width: 32px;\n",
              "    }\n",
              "\n",
              "    .colab-df-convert:hover {\n",
              "      background-color: #E2EBFA;\n",
              "      box-shadow: 0px 1px 2px rgba(60, 64, 67, 0.3), 0px 1px 3px 1px rgba(60, 64, 67, 0.15);\n",
              "      fill: #174EA6;\n",
              "    }\n",
              "\n",
              "    [theme=dark] .colab-df-convert {\n",
              "      background-color: #3B4455;\n",
              "      fill: #D2E3FC;\n",
              "    }\n",
              "\n",
              "    [theme=dark] .colab-df-convert:hover {\n",
              "      background-color: #434B5C;\n",
              "      box-shadow: 0px 1px 3px 1px rgba(0, 0, 0, 0.15);\n",
              "      filter: drop-shadow(0px 1px 2px rgba(0, 0, 0, 0.3));\n",
              "      fill: #FFFFFF;\n",
              "    }\n",
              "  </style>\n",
              "\n",
              "      <script>\n",
              "        const buttonEl =\n",
              "          document.querySelector('#df-2d435557-75e0-40b1-a9ab-cd47fc7a7c81 button.colab-df-convert');\n",
              "        buttonEl.style.display =\n",
              "          google.colab.kernel.accessAllowed ? 'block' : 'none';\n",
              "\n",
              "        async function convertToInteractive(key) {\n",
              "          const element = document.querySelector('#df-2d435557-75e0-40b1-a9ab-cd47fc7a7c81');\n",
              "          const dataTable =\n",
              "            await google.colab.kernel.invokeFunction('convertToInteractive',\n",
              "                                                     [key], {});\n",
              "          if (!dataTable) return;\n",
              "\n",
              "          const docLinkHtml = 'Like what you see? Visit the ' +\n",
              "            '<a target=\"_blank\" href=https://colab.research.google.com/notebooks/data_table.ipynb>data table notebook</a>'\n",
              "            + ' to learn more about interactive tables.';\n",
              "          element.innerHTML = '';\n",
              "          dataTable['output_type'] = 'display_data';\n",
              "          await google.colab.output.renderOutput(dataTable, element);\n",
              "          const docLink = document.createElement('div');\n",
              "          docLink.innerHTML = docLinkHtml;\n",
              "          element.appendChild(docLink);\n",
              "        }\n",
              "      </script>\n",
              "    </div>\n",
              "  </div>\n",
              "  "
            ],
            "text/plain": [
              "  station_1_code station_1_name         station_1_coords station_2_code  \\\n",
              "0            BOS     Boston, MA  (42.348695, -71.059861)            RTE   \n",
              "1            BOS     Boston, MA  (42.348695, -71.059861)            PVD   \n",
              "2            BOS     Boston, MA  (42.348695, -71.059861)            NHV   \n",
              "3            BOS     Boston, MA  (42.348695, -71.059861)            STM   \n",
              "4            BOS     Boston, MA  (42.348695, -71.059861)            NYP   \n",
              "\n",
              "   station_2_name           station_2_coords  distance_mi  \n",
              "0   Route 128, MA   (42.2111905, -71.148665)    17.250466  \n",
              "1  Providence, RI  (41.8305099, -71.4131785)    48.474208  \n",
              "2   New Haven, CT  (41.2973604, -72.9267668)   137.650093  \n",
              "3    Stamford, CT  (41.0468938, -73.5429146)   173.993163  \n",
              "4    New York, NY  (40.7509973, -73.9962784)   212.117464  "
            ]
          },
          "execution_count": 31,
          "metadata": {},
          "output_type": "execute_result"
        }
      ],
      "source": [
        "stations_combos_df.head()"
      ]
    },
    {
      "cell_type": "code",
      "execution_count": null,
      "metadata": {
        "id": "M8lAkCLa3orU"
      },
      "outputs": [],
      "source": [
        "# add a column to the dataframe containing the route corresponding to each stations pair\n",
        "\n",
        "route_combos_dict_keys = list(route_combos_dict.keys())\n",
        "route_combos_dict_keys_lengths = [len(v) for v in route_combos_dict.values()]\n",
        "\n",
        "# the below code came from here: https://stackoverflow.com/questions/48837245/how-to-multiply-a-list-of-strings-by-a-list-of-integers\n",
        "routes_column = sum([[s] * n for s, n in zip(route_combos_dict_keys, route_combos_dict_keys_lengths)], [])\n",
        "\n",
        "stations_combos_df['route'] = routes_column"
      ]
    },
    {
      "cell_type": "code",
      "execution_count": null,
      "metadata": {
        "colab": {
          "base_uri": "https://localhost:8080/"
        },
        "id": "_atlg-YF3pHd",
        "outputId": "024af5d9-f443-42a7-bdc6-7002fb9317c2"
      },
      "outputs": [
        {
          "data": {
            "text/plain": [
              "(10030, 8)"
            ]
          },
          "execution_count": 33,
          "metadata": {},
          "output_type": "execute_result"
        }
      ],
      "source": [
        "stations_combos_df.shape"
      ]
    },
    {
      "cell_type": "code",
      "execution_count": null,
      "metadata": {
        "id": "xDuPG80g3qbD"
      },
      "outputs": [],
      "source": [
        "# pickle stations_combos_df\n",
        "with open('train_stations_combos_df_cars_gmaps.pkl', 'wb') as fid:\n",
        "     pickle.dump(stations_combos_df, fid)"
      ]
    },
    {
      "cell_type": "markdown",
      "metadata": {
        "id": "thdp8Ruj37wc"
      },
      "source": [
        "Make all requests to API"
      ]
    },
    {
      "cell_type": "code",
      "execution_count": null,
      "metadata": {
        "id": "20GDA9SNAsM8"
      },
      "outputs": [],
      "source": [
        "# read in stations_combos_df\n",
        "\n",
        "with open('train_stations_combos_df_cars_gmaps.pkl','rb') as fid:\n",
        "  stations_combos_df = pickle.load(fid)"
      ]
    },
    {
      "cell_type": "code",
      "execution_count": null,
      "metadata": {
        "id": "VIqTEO1S37GA"
      },
      "outputs": [],
      "source": [
        "headers = {'Authorization': 'Bearer my_key','Content-type': 'application/json'}"
      ]
    },
    {
      "cell_type": "code",
      "execution_count": null,
      "metadata": {
        "id": "vE3gPbQl3_Dp"
      },
      "outputs": [],
      "source": [
        "distances = list(stations_combos_df.distance_mi)"
      ]
    },
    {
      "cell_type": "code",
      "execution_count": null,
      "metadata": {
        "colab": {
          "base_uri": "https://localhost:8080/"
        },
        "id": "GeI9q4NF4AvK",
        "outputId": "141c1e4d-3620-43ad-c1b4-0bca2a882d94"
      },
      "outputs": [
        {
          "output_type": "execute_result",
          "data": {
            "text/plain": [
              "10030"
            ]
          },
          "metadata": {},
          "execution_count": 73
        }
      ],
      "source": [
        "len(distances)"
      ]
    },
    {
      "cell_type": "code",
      "execution_count": null,
      "metadata": {
        "id": "_sga-Yt65HhX"
      },
      "outputs": [],
      "source": [
        "responses_dict = {}\n",
        "\n",
        "for idx, distance in enumerate(distances):\n",
        "  response_dict = requests.post('https://beta2.api.climatiq.io/estimate',\n",
        "                           data=json.dumps({\"emission_factor\": \"passenger_vehicle-vehicle_type_car-fuel_source_na-engine_size_na-vehicle_age_na-vehicle_weight_na\",\\\n",
        "                               \"parameters\": {\"passengers\": 1,\"distance\": distance,\"distance_unit\": \"mi\"}}),\n",
        "                           headers=headers).json()\n",
        "  responses_dict[idx] = response_dict\n",
        "  time.sleep(3)\n",
        "\n",
        "# pickle responses_dict\n",
        "with open('climatiq_car_responses_dict_gmaps.pkl', 'wb') as fid:\n",
        "     pickle.dump(responses_dict, fid)"
      ]
    }
  ],
  "metadata": {
    "colab": {
      "collapsed_sections": [],
      "name": "car_emissions_data_collection.ipynb",
      "provenance": [],
      "authorship_tag": "ABX9TyN2/zkcmBfmKk7wq+waHPuc",
      "include_colab_link": true
    },
    "kernelspec": {
      "display_name": "Python 3",
      "name": "python3"
    },
    "language_info": {
      "name": "python"
    }
  },
  "nbformat": 4,
  "nbformat_minor": 0
}