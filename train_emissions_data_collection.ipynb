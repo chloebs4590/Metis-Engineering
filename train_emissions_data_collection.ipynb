{
  "nbformat": 4,
  "nbformat_minor": 0,
  "metadata": {
    "colab": {
      "name": "train_emissions_data_collection.ipynb",
      "provenance": [],
      "machine_shape": "hm",
      "authorship_tag": "ABX9TyNUM9OcP0yPeN3eTYT5dW+r",
      "include_colab_link": true
    },
    "kernelspec": {
      "name": "python3",
      "display_name": "Python 3"
    },
    "language_info": {
      "name": "python"
    }
  },
  "cells": [
    {
      "cell_type": "markdown",
      "metadata": {
        "id": "view-in-github",
        "colab_type": "text"
      },
      "source": [
        "<a href=\"https://colab.research.google.com/github/chloebs4590/Metis-Engineering/blob/main/train_emissions_data_collection.ipynb\" target=\"_parent\"><img src=\"https://colab.research.google.com/assets/colab-badge.svg\" alt=\"Open In Colab\"/></a>"
      ]
    },
    {
      "cell_type": "markdown",
      "source": [
        "# Description of Notebook\n",
        "This notebook is for train emissions data collection"
      ],
      "metadata": {
        "id": "lZsSOyQTDP23"
      }
    },
    {
      "cell_type": "code",
      "execution_count": 1,
      "metadata": {
        "id": "m2zfxU1_Povp"
      },
      "outputs": [],
      "source": [
        "reset -fs"
      ]
    },
    {
      "cell_type": "code",
      "source": [
        "!pip install googlemaps"
      ],
      "metadata": {
        "id": "EMyPGZdYkHuk",
        "colab": {
          "base_uri": "https://localhost:8080/"
        },
        "outputId": "304d2094-7874-4b29-862f-6a33c89afbc7"
      },
      "execution_count": 2,
      "outputs": [
        {
          "output_type": "stream",
          "name": "stdout",
          "text": [
            "Collecting googlemaps\n",
            "  Downloading googlemaps-4.6.0.tar.gz (31 kB)\n",
            "Requirement already satisfied: requests<3.0,>=2.20.0 in /usr/local/lib/python3.7/dist-packages (from googlemaps) (2.23.0)\n",
            "Requirement already satisfied: certifi>=2017.4.17 in /usr/local/lib/python3.7/dist-packages (from requests<3.0,>=2.20.0->googlemaps) (2021.10.8)\n",
            "Requirement already satisfied: idna<3,>=2.5 in /usr/local/lib/python3.7/dist-packages (from requests<3.0,>=2.20.0->googlemaps) (2.10)\n",
            "Requirement already satisfied: urllib3!=1.25.0,!=1.25.1,<1.26,>=1.21.1 in /usr/local/lib/python3.7/dist-packages (from requests<3.0,>=2.20.0->googlemaps) (1.24.3)\n",
            "Requirement already satisfied: chardet<4,>=3.0.2 in /usr/local/lib/python3.7/dist-packages (from requests<3.0,>=2.20.0->googlemaps) (3.0.4)\n",
            "Building wheels for collected packages: googlemaps\n",
            "  Building wheel for googlemaps (setup.py) ... \u001b[?25l\u001b[?25hdone\n",
            "  Created wheel for googlemaps: filename=googlemaps-4.6.0-py3-none-any.whl size=38554 sha256=373e9fabea009d80d97b8950fd877e1750578e3d02a7322ec4d6e5b079a1f6fe\n",
            "  Stored in directory: /root/.cache/pip/wheels/80/db/c0/6d958585fa97b20e250bf437acf7e6e715b4809c2dd4e55367\n",
            "Successfully built googlemaps\n",
            "Installing collected packages: googlemaps\n",
            "Successfully installed googlemaps-4.6.0\n"
          ]
        }
      ]
    },
    {
      "cell_type": "code",
      "source": [
        "import googlemaps\n",
        "import pandas as pd\n",
        "import os\n",
        "import time\n",
        "import pickle\n",
        "import requests\n",
        "import json"
      ],
      "metadata": {
        "id": "4dKyjGRdPvSG"
      },
      "execution_count": 47,
      "outputs": []
    },
    {
      "cell_type": "code",
      "source": [
        "# mount Google Drive\n",
        "from google.colab import drive # import drive from google colab\n",
        "from os.path import join\n",
        "ROOT = \"/content/drive\"     # default location for the drive\n",
        "print(ROOT)                 # print content of ROOT (Optional)\n",
        "\n",
        "drive.mount(ROOT)           # we mount the google drive at /content/drive"
      ],
      "metadata": {
        "colab": {
          "base_uri": "https://localhost:8080/"
        },
        "id": "csUSlTS0P0J2",
        "outputId": "d889ddae-6522-491c-972f-aa1bdb1789ca"
      },
      "execution_count": 4,
      "outputs": [
        {
          "output_type": "stream",
          "name": "stdout",
          "text": [
            "/content/drive\n",
            "Mounted at /content/drive\n"
          ]
        }
      ]
    },
    {
      "cell_type": "code",
      "source": [
        "from google.colab import auth\n",
        "auth.authenticate_user()\n",
        "\n",
        "import gspread\n",
        "from google.auth import default\n",
        "creds, _ = default()\n",
        "\n",
        "gc = gspread.authorize(creds)"
      ],
      "metadata": {
        "id": "ilwQDpJ3Q-aY"
      },
      "execution_count": 5,
      "outputs": []
    },
    {
      "cell_type": "code",
      "source": [
        "os.getcwd()"
      ],
      "metadata": {
        "colab": {
          "base_uri": "https://localhost:8080/",
          "height": 35
        },
        "id": "GNg4aVX3P56B",
        "outputId": "916b70c0-1f26-4850-9e70-5a2c289fd625"
      },
      "execution_count": 6,
      "outputs": [
        {
          "output_type": "execute_result",
          "data": {
            "text/plain": [
              "'/content'"
            ],
            "application/vnd.google.colaboratory.intrinsic+json": {
              "type": "string"
            }
          },
          "metadata": {},
          "execution_count": 6
        }
      ]
    },
    {
      "cell_type": "code",
      "source": [
        "os.chdir('/content/drive/MyDrive/Data Science Metis/Engineering')"
      ],
      "metadata": {
        "id": "TL10K-YsP7ut"
      },
      "execution_count": 7,
      "outputs": []
    },
    {
      "cell_type": "markdown",
      "source": [
        "Read in train station spreadsheets"
      ],
      "metadata": {
        "id": "om3gBjJAQB9H"
      }
    },
    {
      "cell_type": "code",
      "source": [
        "worksheet = gc.open('Amtrak Routes and Train Stations_rev').sheet1\n",
        "rows = worksheet.get_all_values()\n",
        "routes_stations = pd.DataFrame.from_records(rows[1:])"
      ],
      "metadata": {
        "id": "7eLZDmIoQp3h"
      },
      "execution_count": 8,
      "outputs": []
    },
    {
      "cell_type": "code",
      "source": [
        "routes_stations.columns = ['route','station_name']"
      ],
      "metadata": {
        "id": "KUbPZcZ2QAga"
      },
      "execution_count": 9,
      "outputs": []
    },
    {
      "cell_type": "code",
      "source": [
        "routes_stations.info()"
      ],
      "metadata": {
        "colab": {
          "base_uri": "https://localhost:8080/"
        },
        "id": "BENjQ9sde3VP",
        "outputId": "82d46b77-093b-49f9-f059-3c1777d88b0e"
      },
      "execution_count": 10,
      "outputs": [
        {
          "output_type": "stream",
          "name": "stdout",
          "text": [
            "<class 'pandas.core.frame.DataFrame'>\n",
            "RangeIndex: 816 entries, 0 to 815\n",
            "Data columns (total 2 columns):\n",
            " #   Column        Non-Null Count  Dtype \n",
            "---  ------        --------------  ----- \n",
            " 0   route         816 non-null    object\n",
            " 1   station_name  816 non-null    object\n",
            "dtypes: object(2)\n",
            "memory usage: 12.9+ KB\n"
          ]
        }
      ]
    },
    {
      "cell_type": "code",
      "source": [
        "routes_stations.head()"
      ],
      "metadata": {
        "colab": {
          "base_uri": "https://localhost:8080/",
          "height": 206
        },
        "id": "LPcvDojURkAz",
        "outputId": "6a9f947d-7f06-43ea-da4e-bf01255306da"
      },
      "execution_count": 11,
      "outputs": [
        {
          "output_type": "execute_result",
          "data": {
            "text/plain": [
              "   route                                station_name\n",
              "0  Acela            Boston, MA - South Station (BOS)\n",
              "1  Acela         Boston, MA - Back Bay Station (BBY)\n",
              "2  Acela                         Route 128, MA (RTE)\n",
              "3  Acela  Providence, RI - Amtrak/MBTA Station (PVD)\n",
              "4  Acela         New Haven, CT - Union Station (NHV)"
            ],
            "text/html": [
              "\n",
              "  <div id=\"df-04688891-1cfc-4602-807b-35d84a02f372\">\n",
              "    <div class=\"colab-df-container\">\n",
              "      <div>\n",
              "<style scoped>\n",
              "    .dataframe tbody tr th:only-of-type {\n",
              "        vertical-align: middle;\n",
              "    }\n",
              "\n",
              "    .dataframe tbody tr th {\n",
              "        vertical-align: top;\n",
              "    }\n",
              "\n",
              "    .dataframe thead th {\n",
              "        text-align: right;\n",
              "    }\n",
              "</style>\n",
              "<table border=\"1\" class=\"dataframe\">\n",
              "  <thead>\n",
              "    <tr style=\"text-align: right;\">\n",
              "      <th></th>\n",
              "      <th>route</th>\n",
              "      <th>station_name</th>\n",
              "    </tr>\n",
              "  </thead>\n",
              "  <tbody>\n",
              "    <tr>\n",
              "      <th>0</th>\n",
              "      <td>Acela</td>\n",
              "      <td>Boston, MA - South Station (BOS)</td>\n",
              "    </tr>\n",
              "    <tr>\n",
              "      <th>1</th>\n",
              "      <td>Acela</td>\n",
              "      <td>Boston, MA - Back Bay Station (BBY)</td>\n",
              "    </tr>\n",
              "    <tr>\n",
              "      <th>2</th>\n",
              "      <td>Acela</td>\n",
              "      <td>Route 128, MA (RTE)</td>\n",
              "    </tr>\n",
              "    <tr>\n",
              "      <th>3</th>\n",
              "      <td>Acela</td>\n",
              "      <td>Providence, RI - Amtrak/MBTA Station (PVD)</td>\n",
              "    </tr>\n",
              "    <tr>\n",
              "      <th>4</th>\n",
              "      <td>Acela</td>\n",
              "      <td>New Haven, CT - Union Station (NHV)</td>\n",
              "    </tr>\n",
              "  </tbody>\n",
              "</table>\n",
              "</div>\n",
              "      <button class=\"colab-df-convert\" onclick=\"convertToInteractive('df-04688891-1cfc-4602-807b-35d84a02f372')\"\n",
              "              title=\"Convert this dataframe to an interactive table.\"\n",
              "              style=\"display:none;\">\n",
              "        \n",
              "  <svg xmlns=\"http://www.w3.org/2000/svg\" height=\"24px\"viewBox=\"0 0 24 24\"\n",
              "       width=\"24px\">\n",
              "    <path d=\"M0 0h24v24H0V0z\" fill=\"none\"/>\n",
              "    <path d=\"M18.56 5.44l.94 2.06.94-2.06 2.06-.94-2.06-.94-.94-2.06-.94 2.06-2.06.94zm-11 1L8.5 8.5l.94-2.06 2.06-.94-2.06-.94L8.5 2.5l-.94 2.06-2.06.94zm10 10l.94 2.06.94-2.06 2.06-.94-2.06-.94-.94-2.06-.94 2.06-2.06.94z\"/><path d=\"M17.41 7.96l-1.37-1.37c-.4-.4-.92-.59-1.43-.59-.52 0-1.04.2-1.43.59L10.3 9.45l-7.72 7.72c-.78.78-.78 2.05 0 2.83L4 21.41c.39.39.9.59 1.41.59.51 0 1.02-.2 1.41-.59l7.78-7.78 2.81-2.81c.8-.78.8-2.07 0-2.86zM5.41 20L4 18.59l7.72-7.72 1.47 1.35L5.41 20z\"/>\n",
              "  </svg>\n",
              "      </button>\n",
              "      \n",
              "  <style>\n",
              "    .colab-df-container {\n",
              "      display:flex;\n",
              "      flex-wrap:wrap;\n",
              "      gap: 12px;\n",
              "    }\n",
              "\n",
              "    .colab-df-convert {\n",
              "      background-color: #E8F0FE;\n",
              "      border: none;\n",
              "      border-radius: 50%;\n",
              "      cursor: pointer;\n",
              "      display: none;\n",
              "      fill: #1967D2;\n",
              "      height: 32px;\n",
              "      padding: 0 0 0 0;\n",
              "      width: 32px;\n",
              "    }\n",
              "\n",
              "    .colab-df-convert:hover {\n",
              "      background-color: #E2EBFA;\n",
              "      box-shadow: 0px 1px 2px rgba(60, 64, 67, 0.3), 0px 1px 3px 1px rgba(60, 64, 67, 0.15);\n",
              "      fill: #174EA6;\n",
              "    }\n",
              "\n",
              "    [theme=dark] .colab-df-convert {\n",
              "      background-color: #3B4455;\n",
              "      fill: #D2E3FC;\n",
              "    }\n",
              "\n",
              "    [theme=dark] .colab-df-convert:hover {\n",
              "      background-color: #434B5C;\n",
              "      box-shadow: 0px 1px 3px 1px rgba(0, 0, 0, 0.15);\n",
              "      filter: drop-shadow(0px 1px 2px rgba(0, 0, 0, 0.3));\n",
              "      fill: #FFFFFF;\n",
              "    }\n",
              "  </style>\n",
              "\n",
              "      <script>\n",
              "        const buttonEl =\n",
              "          document.querySelector('#df-04688891-1cfc-4602-807b-35d84a02f372 button.colab-df-convert');\n",
              "        buttonEl.style.display =\n",
              "          google.colab.kernel.accessAllowed ? 'block' : 'none';\n",
              "\n",
              "        async function convertToInteractive(key) {\n",
              "          const element = document.querySelector('#df-04688891-1cfc-4602-807b-35d84a02f372');\n",
              "          const dataTable =\n",
              "            await google.colab.kernel.invokeFunction('convertToInteractive',\n",
              "                                                     [key], {});\n",
              "          if (!dataTable) return;\n",
              "\n",
              "          const docLinkHtml = 'Like what you see? Visit the ' +\n",
              "            '<a target=\"_blank\" href=https://colab.research.google.com/notebooks/data_table.ipynb>data table notebook</a>'\n",
              "            + ' to learn more about interactive tables.';\n",
              "          element.innerHTML = '';\n",
              "          dataTable['output_type'] = 'display_data';\n",
              "          await google.colab.output.renderOutput(dataTable, element);\n",
              "          const docLink = document.createElement('div');\n",
              "          docLink.innerHTML = docLinkHtml;\n",
              "          element.appendChild(docLink);\n",
              "        }\n",
              "      </script>\n",
              "    </div>\n",
              "  </div>\n",
              "  "
            ]
          },
          "metadata": {},
          "execution_count": 11
        }
      ]
    },
    {
      "cell_type": "code",
      "source": [
        "# read in stations_locations_geocoded\n",
        "\n",
        "with open('stations_locations_geocoded.pkl','rb') as fid:\n",
        "  stations_locations = pickle.load(fid)"
      ],
      "metadata": {
        "id": "K9go8KMWDd_T"
      },
      "execution_count": 12,
      "outputs": []
    },
    {
      "cell_type": "code",
      "source": [
        "# convert latitude and longitude columns to numeric\n",
        "\n",
        "stations_locations[['latitude', 'longitude']] = stations_locations[['latitude', 'longitude']].apply(pd.to_numeric)"
      ],
      "metadata": {
        "id": "7ZZ9WXuWe1tn"
      },
      "execution_count": 13,
      "outputs": []
    },
    {
      "cell_type": "code",
      "source": [
        "# merge latitude and longitude columns\n",
        "\n",
        "stations_locations['coordinates'] = stations_locations[['latitude', 'longitude']].apply(tuple, axis=1)"
      ],
      "metadata": {
        "id": "6IcVE-8ecHbA"
      },
      "execution_count": 14,
      "outputs": []
    },
    {
      "cell_type": "code",
      "source": [
        "# keep only necessary columns\n",
        "\n",
        "stations_locations = stations_locations.drop(columns=['longitude', 'latitude','objectid_1','objectid','station_descripton',\n",
        "                                                      'bus_or_train','address_2','name'])"
      ],
      "metadata": {
        "id": "8zonMUHiTiTF"
      },
      "execution_count": 15,
      "outputs": []
    },
    {
      "cell_type": "code",
      "source": [
        "stations_locations = stations_locations.drop(columns=['x', 'y'])"
      ],
      "metadata": {
        "id": "50fDso0iUFNd"
      },
      "execution_count": 16,
      "outputs": []
    },
    {
      "cell_type": "code",
      "source": [
        "stations_locations.head()"
      ],
      "metadata": {
        "colab": {
          "base_uri": "https://localhost:8080/",
          "height": 337
        },
        "id": "sryramjQUGVF",
        "outputId": "3a0590b1-1fb0-4c2d-d5a5-06d3f98c7a66"
      },
      "execution_count": 17,
      "outputs": [
        {
          "output_type": "execute_result",
          "data": {
            "text/plain": [
              "  zip_code state         city               address_1 code  \\\n",
              "0    21001    MD     Aberdeen  18 East Bel Air Avenue  ABE   \n",
              "1    12144    NY   Rensselaer         525 East Street  ALB   \n",
              "2    97321    OR       Albany      110 10th Avenue SW  ALY   \n",
              "3    49224    MI       Albion  300 North Eaton Street  ALI   \n",
              "4    87102    NM  Albuquerque       320 1st Street SW  ABQ   \n",
              "\n",
              "            station_name   state_rev  \\\n",
              "0           Aberdeen, MD    Maryland   \n",
              "1  Albany-Rensselaer, NY    New York   \n",
              "2             Albany, OR      Oregon   \n",
              "3             Albion, MI    Michigan   \n",
              "4        Albuquerque, NM  New Mexico   \n",
              "\n",
              "                                       full_address  \\\n",
              "0  18 East Bel Air Avenue, Aberdeen, Maryland 21001   \n",
              "1       525 East Street, Rensselaer, New York 12144   \n",
              "2          110 10th Avenue SW, Albany, Oregon 97321   \n",
              "3    300 North Eaton Street, Albion, Michigan 49224   \n",
              "4  320 1st Street SW, Albuquerque, New Mexico 87102   \n",
              "\n",
              "                  coordinates  \n",
              "0    (39.5084117, -76.163203)  \n",
              "1   (42.6413525, -73.7411492)  \n",
              "2  (44.6301042, -123.1029538)  \n",
              "3   (42.2472581, -84.7556711)  \n",
              "4  (35.0819655, -106.6476898)  "
            ],
            "text/html": [
              "\n",
              "  <div id=\"df-9759f228-5145-4258-b817-360d39ad0945\">\n",
              "    <div class=\"colab-df-container\">\n",
              "      <div>\n",
              "<style scoped>\n",
              "    .dataframe tbody tr th:only-of-type {\n",
              "        vertical-align: middle;\n",
              "    }\n",
              "\n",
              "    .dataframe tbody tr th {\n",
              "        vertical-align: top;\n",
              "    }\n",
              "\n",
              "    .dataframe thead th {\n",
              "        text-align: right;\n",
              "    }\n",
              "</style>\n",
              "<table border=\"1\" class=\"dataframe\">\n",
              "  <thead>\n",
              "    <tr style=\"text-align: right;\">\n",
              "      <th></th>\n",
              "      <th>zip_code</th>\n",
              "      <th>state</th>\n",
              "      <th>city</th>\n",
              "      <th>address_1</th>\n",
              "      <th>code</th>\n",
              "      <th>station_name</th>\n",
              "      <th>state_rev</th>\n",
              "      <th>full_address</th>\n",
              "      <th>coordinates</th>\n",
              "    </tr>\n",
              "  </thead>\n",
              "  <tbody>\n",
              "    <tr>\n",
              "      <th>0</th>\n",
              "      <td>21001</td>\n",
              "      <td>MD</td>\n",
              "      <td>Aberdeen</td>\n",
              "      <td>18 East Bel Air Avenue</td>\n",
              "      <td>ABE</td>\n",
              "      <td>Aberdeen, MD</td>\n",
              "      <td>Maryland</td>\n",
              "      <td>18 East Bel Air Avenue, Aberdeen, Maryland 21001</td>\n",
              "      <td>(39.5084117, -76.163203)</td>\n",
              "    </tr>\n",
              "    <tr>\n",
              "      <th>1</th>\n",
              "      <td>12144</td>\n",
              "      <td>NY</td>\n",
              "      <td>Rensselaer</td>\n",
              "      <td>525 East Street</td>\n",
              "      <td>ALB</td>\n",
              "      <td>Albany-Rensselaer, NY</td>\n",
              "      <td>New York</td>\n",
              "      <td>525 East Street, Rensselaer, New York 12144</td>\n",
              "      <td>(42.6413525, -73.7411492)</td>\n",
              "    </tr>\n",
              "    <tr>\n",
              "      <th>2</th>\n",
              "      <td>97321</td>\n",
              "      <td>OR</td>\n",
              "      <td>Albany</td>\n",
              "      <td>110 10th Avenue SW</td>\n",
              "      <td>ALY</td>\n",
              "      <td>Albany, OR</td>\n",
              "      <td>Oregon</td>\n",
              "      <td>110 10th Avenue SW, Albany, Oregon 97321</td>\n",
              "      <td>(44.6301042, -123.1029538)</td>\n",
              "    </tr>\n",
              "    <tr>\n",
              "      <th>3</th>\n",
              "      <td>49224</td>\n",
              "      <td>MI</td>\n",
              "      <td>Albion</td>\n",
              "      <td>300 North Eaton Street</td>\n",
              "      <td>ALI</td>\n",
              "      <td>Albion, MI</td>\n",
              "      <td>Michigan</td>\n",
              "      <td>300 North Eaton Street, Albion, Michigan 49224</td>\n",
              "      <td>(42.2472581, -84.7556711)</td>\n",
              "    </tr>\n",
              "    <tr>\n",
              "      <th>4</th>\n",
              "      <td>87102</td>\n",
              "      <td>NM</td>\n",
              "      <td>Albuquerque</td>\n",
              "      <td>320 1st Street SW</td>\n",
              "      <td>ABQ</td>\n",
              "      <td>Albuquerque, NM</td>\n",
              "      <td>New Mexico</td>\n",
              "      <td>320 1st Street SW, Albuquerque, New Mexico 87102</td>\n",
              "      <td>(35.0819655, -106.6476898)</td>\n",
              "    </tr>\n",
              "  </tbody>\n",
              "</table>\n",
              "</div>\n",
              "      <button class=\"colab-df-convert\" onclick=\"convertToInteractive('df-9759f228-5145-4258-b817-360d39ad0945')\"\n",
              "              title=\"Convert this dataframe to an interactive table.\"\n",
              "              style=\"display:none;\">\n",
              "        \n",
              "  <svg xmlns=\"http://www.w3.org/2000/svg\" height=\"24px\"viewBox=\"0 0 24 24\"\n",
              "       width=\"24px\">\n",
              "    <path d=\"M0 0h24v24H0V0z\" fill=\"none\"/>\n",
              "    <path d=\"M18.56 5.44l.94 2.06.94-2.06 2.06-.94-2.06-.94-.94-2.06-.94 2.06-2.06.94zm-11 1L8.5 8.5l.94-2.06 2.06-.94-2.06-.94L8.5 2.5l-.94 2.06-2.06.94zm10 10l.94 2.06.94-2.06 2.06-.94-2.06-.94-.94-2.06-.94 2.06-2.06.94z\"/><path d=\"M17.41 7.96l-1.37-1.37c-.4-.4-.92-.59-1.43-.59-.52 0-1.04.2-1.43.59L10.3 9.45l-7.72 7.72c-.78.78-.78 2.05 0 2.83L4 21.41c.39.39.9.59 1.41.59.51 0 1.02-.2 1.41-.59l7.78-7.78 2.81-2.81c.8-.78.8-2.07 0-2.86zM5.41 20L4 18.59l7.72-7.72 1.47 1.35L5.41 20z\"/>\n",
              "  </svg>\n",
              "      </button>\n",
              "      \n",
              "  <style>\n",
              "    .colab-df-container {\n",
              "      display:flex;\n",
              "      flex-wrap:wrap;\n",
              "      gap: 12px;\n",
              "    }\n",
              "\n",
              "    .colab-df-convert {\n",
              "      background-color: #E8F0FE;\n",
              "      border: none;\n",
              "      border-radius: 50%;\n",
              "      cursor: pointer;\n",
              "      display: none;\n",
              "      fill: #1967D2;\n",
              "      height: 32px;\n",
              "      padding: 0 0 0 0;\n",
              "      width: 32px;\n",
              "    }\n",
              "\n",
              "    .colab-df-convert:hover {\n",
              "      background-color: #E2EBFA;\n",
              "      box-shadow: 0px 1px 2px rgba(60, 64, 67, 0.3), 0px 1px 3px 1px rgba(60, 64, 67, 0.15);\n",
              "      fill: #174EA6;\n",
              "    }\n",
              "\n",
              "    [theme=dark] .colab-df-convert {\n",
              "      background-color: #3B4455;\n",
              "      fill: #D2E3FC;\n",
              "    }\n",
              "\n",
              "    [theme=dark] .colab-df-convert:hover {\n",
              "      background-color: #434B5C;\n",
              "      box-shadow: 0px 1px 3px 1px rgba(0, 0, 0, 0.15);\n",
              "      filter: drop-shadow(0px 1px 2px rgba(0, 0, 0, 0.3));\n",
              "      fill: #FFFFFF;\n",
              "    }\n",
              "  </style>\n",
              "\n",
              "      <script>\n",
              "        const buttonEl =\n",
              "          document.querySelector('#df-9759f228-5145-4258-b817-360d39ad0945 button.colab-df-convert');\n",
              "        buttonEl.style.display =\n",
              "          google.colab.kernel.accessAllowed ? 'block' : 'none';\n",
              "\n",
              "        async function convertToInteractive(key) {\n",
              "          const element = document.querySelector('#df-9759f228-5145-4258-b817-360d39ad0945');\n",
              "          const dataTable =\n",
              "            await google.colab.kernel.invokeFunction('convertToInteractive',\n",
              "                                                     [key], {});\n",
              "          if (!dataTable) return;\n",
              "\n",
              "          const docLinkHtml = 'Like what you see? Visit the ' +\n",
              "            '<a target=\"_blank\" href=https://colab.research.google.com/notebooks/data_table.ipynb>data table notebook</a>'\n",
              "            + ' to learn more about interactive tables.';\n",
              "          element.innerHTML = '';\n",
              "          dataTable['output_type'] = 'display_data';\n",
              "          await google.colab.output.renderOutput(dataTable, element);\n",
              "          const docLink = document.createElement('div');\n",
              "          docLink.innerHTML = docLinkHtml;\n",
              "          element.appendChild(docLink);\n",
              "        }\n",
              "      </script>\n",
              "    </div>\n",
              "  </div>\n",
              "  "
            ]
          },
          "metadata": {},
          "execution_count": 17
        }
      ]
    },
    {
      "cell_type": "code",
      "source": [
        "stations_locations.info()"
      ],
      "metadata": {
        "colab": {
          "base_uri": "https://localhost:8080/"
        },
        "id": "8Z62p6v3UI_7",
        "outputId": "afe5d2da-a945-43ae-bc1d-29b60830fb09"
      },
      "execution_count": 18,
      "outputs": [
        {
          "output_type": "stream",
          "name": "stdout",
          "text": [
            "<class 'pandas.core.frame.DataFrame'>\n",
            "RangeIndex: 540 entries, 0 to 539\n",
            "Data columns (total 9 columns):\n",
            " #   Column        Non-Null Count  Dtype \n",
            "---  ------        --------------  ----- \n",
            " 0   zip_code      540 non-null    object\n",
            " 1   state         540 non-null    object\n",
            " 2   city          540 non-null    object\n",
            " 3   address_1     540 non-null    object\n",
            " 4   code          540 non-null    object\n",
            " 5   station_name  540 non-null    object\n",
            " 6   state_rev     540 non-null    object\n",
            " 7   full_address  540 non-null    object\n",
            " 8   coordinates   540 non-null    object\n",
            "dtypes: object(9)\n",
            "memory usage: 38.1+ KB\n"
          ]
        }
      ]
    },
    {
      "cell_type": "markdown",
      "source": [
        "Clean up routes_stations for merging with stations_locations"
      ],
      "metadata": {
        "id": "bz59Mp7oUSRF"
      }
    },
    {
      "cell_type": "code",
      "source": [
        "# create code column\n",
        "\n",
        "def create_code_col(x):\n",
        "  code = x[-5:]\n",
        "  code = code[1:-1]\n",
        "  return code\n",
        "\n",
        "routes_stations['code'] = routes_stations['station_name'].map(create_code_col)"
      ],
      "metadata": {
        "id": "YB4rgCYuU_vB"
      },
      "execution_count": 19,
      "outputs": []
    },
    {
      "cell_type": "code",
      "source": [
        "# remove code from station_name column\n",
        "\n",
        "routes_stations['station_name'] = routes_stations['station_name'].map(lambda x: x[:-6])"
      ],
      "metadata": {
        "id": "K8rrQZ3lWsNI"
      },
      "execution_count": 20,
      "outputs": []
    },
    {
      "cell_type": "code",
      "source": [
        "routes_stations.head()"
      ],
      "metadata": {
        "colab": {
          "base_uri": "https://localhost:8080/",
          "height": 206
        },
        "id": "Ku5mpl6MUVOb",
        "outputId": "eb235bf0-e5cf-478e-f686-b6f4a6045bba"
      },
      "execution_count": 21,
      "outputs": [
        {
          "output_type": "execute_result",
          "data": {
            "text/plain": [
              "   route                          station_name code\n",
              "0  Acela            Boston, MA - South Station  BOS\n",
              "1  Acela         Boston, MA - Back Bay Station  BBY\n",
              "2  Acela                         Route 128, MA  RTE\n",
              "3  Acela  Providence, RI - Amtrak/MBTA Station  PVD\n",
              "4  Acela         New Haven, CT - Union Station  NHV"
            ],
            "text/html": [
              "\n",
              "  <div id=\"df-69877028-4bab-4c3c-ae1b-772a5a8dee91\">\n",
              "    <div class=\"colab-df-container\">\n",
              "      <div>\n",
              "<style scoped>\n",
              "    .dataframe tbody tr th:only-of-type {\n",
              "        vertical-align: middle;\n",
              "    }\n",
              "\n",
              "    .dataframe tbody tr th {\n",
              "        vertical-align: top;\n",
              "    }\n",
              "\n",
              "    .dataframe thead th {\n",
              "        text-align: right;\n",
              "    }\n",
              "</style>\n",
              "<table border=\"1\" class=\"dataframe\">\n",
              "  <thead>\n",
              "    <tr style=\"text-align: right;\">\n",
              "      <th></th>\n",
              "      <th>route</th>\n",
              "      <th>station_name</th>\n",
              "      <th>code</th>\n",
              "    </tr>\n",
              "  </thead>\n",
              "  <tbody>\n",
              "    <tr>\n",
              "      <th>0</th>\n",
              "      <td>Acela</td>\n",
              "      <td>Boston, MA - South Station</td>\n",
              "      <td>BOS</td>\n",
              "    </tr>\n",
              "    <tr>\n",
              "      <th>1</th>\n",
              "      <td>Acela</td>\n",
              "      <td>Boston, MA - Back Bay Station</td>\n",
              "      <td>BBY</td>\n",
              "    </tr>\n",
              "    <tr>\n",
              "      <th>2</th>\n",
              "      <td>Acela</td>\n",
              "      <td>Route 128, MA</td>\n",
              "      <td>RTE</td>\n",
              "    </tr>\n",
              "    <tr>\n",
              "      <th>3</th>\n",
              "      <td>Acela</td>\n",
              "      <td>Providence, RI - Amtrak/MBTA Station</td>\n",
              "      <td>PVD</td>\n",
              "    </tr>\n",
              "    <tr>\n",
              "      <th>4</th>\n",
              "      <td>Acela</td>\n",
              "      <td>New Haven, CT - Union Station</td>\n",
              "      <td>NHV</td>\n",
              "    </tr>\n",
              "  </tbody>\n",
              "</table>\n",
              "</div>\n",
              "      <button class=\"colab-df-convert\" onclick=\"convertToInteractive('df-69877028-4bab-4c3c-ae1b-772a5a8dee91')\"\n",
              "              title=\"Convert this dataframe to an interactive table.\"\n",
              "              style=\"display:none;\">\n",
              "        \n",
              "  <svg xmlns=\"http://www.w3.org/2000/svg\" height=\"24px\"viewBox=\"0 0 24 24\"\n",
              "       width=\"24px\">\n",
              "    <path d=\"M0 0h24v24H0V0z\" fill=\"none\"/>\n",
              "    <path d=\"M18.56 5.44l.94 2.06.94-2.06 2.06-.94-2.06-.94-.94-2.06-.94 2.06-2.06.94zm-11 1L8.5 8.5l.94-2.06 2.06-.94-2.06-.94L8.5 2.5l-.94 2.06-2.06.94zm10 10l.94 2.06.94-2.06 2.06-.94-2.06-.94-.94-2.06-.94 2.06-2.06.94z\"/><path d=\"M17.41 7.96l-1.37-1.37c-.4-.4-.92-.59-1.43-.59-.52 0-1.04.2-1.43.59L10.3 9.45l-7.72 7.72c-.78.78-.78 2.05 0 2.83L4 21.41c.39.39.9.59 1.41.59.51 0 1.02-.2 1.41-.59l7.78-7.78 2.81-2.81c.8-.78.8-2.07 0-2.86zM5.41 20L4 18.59l7.72-7.72 1.47 1.35L5.41 20z\"/>\n",
              "  </svg>\n",
              "      </button>\n",
              "      \n",
              "  <style>\n",
              "    .colab-df-container {\n",
              "      display:flex;\n",
              "      flex-wrap:wrap;\n",
              "      gap: 12px;\n",
              "    }\n",
              "\n",
              "    .colab-df-convert {\n",
              "      background-color: #E8F0FE;\n",
              "      border: none;\n",
              "      border-radius: 50%;\n",
              "      cursor: pointer;\n",
              "      display: none;\n",
              "      fill: #1967D2;\n",
              "      height: 32px;\n",
              "      padding: 0 0 0 0;\n",
              "      width: 32px;\n",
              "    }\n",
              "\n",
              "    .colab-df-convert:hover {\n",
              "      background-color: #E2EBFA;\n",
              "      box-shadow: 0px 1px 2px rgba(60, 64, 67, 0.3), 0px 1px 3px 1px rgba(60, 64, 67, 0.15);\n",
              "      fill: #174EA6;\n",
              "    }\n",
              "\n",
              "    [theme=dark] .colab-df-convert {\n",
              "      background-color: #3B4455;\n",
              "      fill: #D2E3FC;\n",
              "    }\n",
              "\n",
              "    [theme=dark] .colab-df-convert:hover {\n",
              "      background-color: #434B5C;\n",
              "      box-shadow: 0px 1px 3px 1px rgba(0, 0, 0, 0.15);\n",
              "      filter: drop-shadow(0px 1px 2px rgba(0, 0, 0, 0.3));\n",
              "      fill: #FFFFFF;\n",
              "    }\n",
              "  </style>\n",
              "\n",
              "      <script>\n",
              "        const buttonEl =\n",
              "          document.querySelector('#df-69877028-4bab-4c3c-ae1b-772a5a8dee91 button.colab-df-convert');\n",
              "        buttonEl.style.display =\n",
              "          google.colab.kernel.accessAllowed ? 'block' : 'none';\n",
              "\n",
              "        async function convertToInteractive(key) {\n",
              "          const element = document.querySelector('#df-69877028-4bab-4c3c-ae1b-772a5a8dee91');\n",
              "          const dataTable =\n",
              "            await google.colab.kernel.invokeFunction('convertToInteractive',\n",
              "                                                     [key], {});\n",
              "          if (!dataTable) return;\n",
              "\n",
              "          const docLinkHtml = 'Like what you see? Visit the ' +\n",
              "            '<a target=\"_blank\" href=https://colab.research.google.com/notebooks/data_table.ipynb>data table notebook</a>'\n",
              "            + ' to learn more about interactive tables.';\n",
              "          element.innerHTML = '';\n",
              "          dataTable['output_type'] = 'display_data';\n",
              "          await google.colab.output.renderOutput(dataTable, element);\n",
              "          const docLink = document.createElement('div');\n",
              "          docLink.innerHTML = docLinkHtml;\n",
              "          element.appendChild(docLink);\n",
              "        }\n",
              "      </script>\n",
              "    </div>\n",
              "  </div>\n",
              "  "
            ]
          },
          "metadata": {},
          "execution_count": 21
        }
      ]
    },
    {
      "cell_type": "markdown",
      "source": [
        "Left merge stations_locations on routes_stations"
      ],
      "metadata": {
        "id": "ABf2os6jW4mn"
      }
    },
    {
      "cell_type": "code",
      "source": [
        "routes_stations_locations = routes_stations.merge(stations_locations, how='left', on='code',suffixes=('_route', '_location'))"
      ],
      "metadata": {
        "id": "ZQuDQ8nzWgrq"
      },
      "execution_count": 22,
      "outputs": []
    },
    {
      "cell_type": "code",
      "source": [
        "routes_stations_locations.info()"
      ],
      "metadata": {
        "colab": {
          "base_uri": "https://localhost:8080/"
        },
        "id": "o_KsdxLdXVmn",
        "outputId": "76d6c71e-a299-4f28-e380-29a66b79eee5"
      },
      "execution_count": 23,
      "outputs": [
        {
          "output_type": "stream",
          "name": "stdout",
          "text": [
            "<class 'pandas.core.frame.DataFrame'>\n",
            "Int64Index: 816 entries, 0 to 815\n",
            "Data columns (total 11 columns):\n",
            " #   Column                 Non-Null Count  Dtype \n",
            "---  ------                 --------------  ----- \n",
            " 0   route                  816 non-null    object\n",
            " 1   station_name_route     816 non-null    object\n",
            " 2   code                   816 non-null    object\n",
            " 3   zip_code               816 non-null    object\n",
            " 4   state                  816 non-null    object\n",
            " 5   city                   816 non-null    object\n",
            " 6   address_1              816 non-null    object\n",
            " 7   station_name_location  816 non-null    object\n",
            " 8   state_rev              816 non-null    object\n",
            " 9   full_address           816 non-null    object\n",
            " 10  coordinates            816 non-null    object\n",
            "dtypes: object(11)\n",
            "memory usage: 76.5+ KB\n"
          ]
        }
      ]
    },
    {
      "cell_type": "code",
      "source": [
        "routes_stations_locations.head(2)"
      ],
      "metadata": {
        "colab": {
          "base_uri": "https://localhost:8080/",
          "height": 225
        },
        "id": "omjMH1lWbkaH",
        "outputId": "4eeca3e9-d40a-4fd6-dd6f-8a78c73abeea"
      },
      "execution_count": 24,
      "outputs": [
        {
          "output_type": "execute_result",
          "data": {
            "text/plain": [
              "   route             station_name_route code zip_code state    city  \\\n",
              "0  Acela     Boston, MA - South Station  BOS     2110    MA  Boston   \n",
              "1  Acela  Boston, MA - Back Bay Station  BBY     2116    MA  Boston   \n",
              "\n",
              "              address_1 station_name_location      state_rev  \\\n",
              "0       2 South Station            Boston, MA  Massachusetts   \n",
              "1  145 Dartmouth Street            Boston, MA  Massachusetts   \n",
              "\n",
              "                                       full_address  \\\n",
              "0       2 South Station, Boston, Massachusetts 2110   \n",
              "1  145 Dartmouth Street, Boston, Massachusetts 2116   \n",
              "\n",
              "                               coordinates  \n",
              "0                  (42.348695, -71.059861)  \n",
              "1  (42.34750349999999, -71.07493199999999)  "
            ],
            "text/html": [
              "\n",
              "  <div id=\"df-a9825091-40f2-4de8-be7c-302ddcecfa78\">\n",
              "    <div class=\"colab-df-container\">\n",
              "      <div>\n",
              "<style scoped>\n",
              "    .dataframe tbody tr th:only-of-type {\n",
              "        vertical-align: middle;\n",
              "    }\n",
              "\n",
              "    .dataframe tbody tr th {\n",
              "        vertical-align: top;\n",
              "    }\n",
              "\n",
              "    .dataframe thead th {\n",
              "        text-align: right;\n",
              "    }\n",
              "</style>\n",
              "<table border=\"1\" class=\"dataframe\">\n",
              "  <thead>\n",
              "    <tr style=\"text-align: right;\">\n",
              "      <th></th>\n",
              "      <th>route</th>\n",
              "      <th>station_name_route</th>\n",
              "      <th>code</th>\n",
              "      <th>zip_code</th>\n",
              "      <th>state</th>\n",
              "      <th>city</th>\n",
              "      <th>address_1</th>\n",
              "      <th>station_name_location</th>\n",
              "      <th>state_rev</th>\n",
              "      <th>full_address</th>\n",
              "      <th>coordinates</th>\n",
              "    </tr>\n",
              "  </thead>\n",
              "  <tbody>\n",
              "    <tr>\n",
              "      <th>0</th>\n",
              "      <td>Acela</td>\n",
              "      <td>Boston, MA - South Station</td>\n",
              "      <td>BOS</td>\n",
              "      <td>2110</td>\n",
              "      <td>MA</td>\n",
              "      <td>Boston</td>\n",
              "      <td>2 South Station</td>\n",
              "      <td>Boston, MA</td>\n",
              "      <td>Massachusetts</td>\n",
              "      <td>2 South Station, Boston, Massachusetts 2110</td>\n",
              "      <td>(42.348695, -71.059861)</td>\n",
              "    </tr>\n",
              "    <tr>\n",
              "      <th>1</th>\n",
              "      <td>Acela</td>\n",
              "      <td>Boston, MA - Back Bay Station</td>\n",
              "      <td>BBY</td>\n",
              "      <td>2116</td>\n",
              "      <td>MA</td>\n",
              "      <td>Boston</td>\n",
              "      <td>145 Dartmouth Street</td>\n",
              "      <td>Boston, MA</td>\n",
              "      <td>Massachusetts</td>\n",
              "      <td>145 Dartmouth Street, Boston, Massachusetts 2116</td>\n",
              "      <td>(42.34750349999999, -71.07493199999999)</td>\n",
              "    </tr>\n",
              "  </tbody>\n",
              "</table>\n",
              "</div>\n",
              "      <button class=\"colab-df-convert\" onclick=\"convertToInteractive('df-a9825091-40f2-4de8-be7c-302ddcecfa78')\"\n",
              "              title=\"Convert this dataframe to an interactive table.\"\n",
              "              style=\"display:none;\">\n",
              "        \n",
              "  <svg xmlns=\"http://www.w3.org/2000/svg\" height=\"24px\"viewBox=\"0 0 24 24\"\n",
              "       width=\"24px\">\n",
              "    <path d=\"M0 0h24v24H0V0z\" fill=\"none\"/>\n",
              "    <path d=\"M18.56 5.44l.94 2.06.94-2.06 2.06-.94-2.06-.94-.94-2.06-.94 2.06-2.06.94zm-11 1L8.5 8.5l.94-2.06 2.06-.94-2.06-.94L8.5 2.5l-.94 2.06-2.06.94zm10 10l.94 2.06.94-2.06 2.06-.94-2.06-.94-.94-2.06-.94 2.06-2.06.94z\"/><path d=\"M17.41 7.96l-1.37-1.37c-.4-.4-.92-.59-1.43-.59-.52 0-1.04.2-1.43.59L10.3 9.45l-7.72 7.72c-.78.78-.78 2.05 0 2.83L4 21.41c.39.39.9.59 1.41.59.51 0 1.02-.2 1.41-.59l7.78-7.78 2.81-2.81c.8-.78.8-2.07 0-2.86zM5.41 20L4 18.59l7.72-7.72 1.47 1.35L5.41 20z\"/>\n",
              "  </svg>\n",
              "      </button>\n",
              "      \n",
              "  <style>\n",
              "    .colab-df-container {\n",
              "      display:flex;\n",
              "      flex-wrap:wrap;\n",
              "      gap: 12px;\n",
              "    }\n",
              "\n",
              "    .colab-df-convert {\n",
              "      background-color: #E8F0FE;\n",
              "      border: none;\n",
              "      border-radius: 50%;\n",
              "      cursor: pointer;\n",
              "      display: none;\n",
              "      fill: #1967D2;\n",
              "      height: 32px;\n",
              "      padding: 0 0 0 0;\n",
              "      width: 32px;\n",
              "    }\n",
              "\n",
              "    .colab-df-convert:hover {\n",
              "      background-color: #E2EBFA;\n",
              "      box-shadow: 0px 1px 2px rgba(60, 64, 67, 0.3), 0px 1px 3px 1px rgba(60, 64, 67, 0.15);\n",
              "      fill: #174EA6;\n",
              "    }\n",
              "\n",
              "    [theme=dark] .colab-df-convert {\n",
              "      background-color: #3B4455;\n",
              "      fill: #D2E3FC;\n",
              "    }\n",
              "\n",
              "    [theme=dark] .colab-df-convert:hover {\n",
              "      background-color: #434B5C;\n",
              "      box-shadow: 0px 1px 3px 1px rgba(0, 0, 0, 0.15);\n",
              "      filter: drop-shadow(0px 1px 2px rgba(0, 0, 0, 0.3));\n",
              "      fill: #FFFFFF;\n",
              "    }\n",
              "  </style>\n",
              "\n",
              "      <script>\n",
              "        const buttonEl =\n",
              "          document.querySelector('#df-a9825091-40f2-4de8-be7c-302ddcecfa78 button.colab-df-convert');\n",
              "        buttonEl.style.display =\n",
              "          google.colab.kernel.accessAllowed ? 'block' : 'none';\n",
              "\n",
              "        async function convertToInteractive(key) {\n",
              "          const element = document.querySelector('#df-a9825091-40f2-4de8-be7c-302ddcecfa78');\n",
              "          const dataTable =\n",
              "            await google.colab.kernel.invokeFunction('convertToInteractive',\n",
              "                                                     [key], {});\n",
              "          if (!dataTable) return;\n",
              "\n",
              "          const docLinkHtml = 'Like what you see? Visit the ' +\n",
              "            '<a target=\"_blank\" href=https://colab.research.google.com/notebooks/data_table.ipynb>data table notebook</a>'\n",
              "            + ' to learn more about interactive tables.';\n",
              "          element.innerHTML = '';\n",
              "          dataTable['output_type'] = 'display_data';\n",
              "          await google.colab.output.renderOutput(dataTable, element);\n",
              "          const docLink = document.createElement('div');\n",
              "          docLink.innerHTML = docLinkHtml;\n",
              "          element.appendChild(docLink);\n",
              "        }\n",
              "      </script>\n",
              "    </div>\n",
              "  </div>\n",
              "  "
            ]
          },
          "metadata": {},
          "execution_count": 24
        }
      ]
    },
    {
      "cell_type": "code",
      "source": [
        "# create a column with coordinates in opposite order (longitude, latitude)\n",
        "\n",
        "def coordinates_rev(x):\n",
        "  long = x[1]\n",
        "  lat = x[0]\n",
        "  return list((long,lat))\n",
        "\n",
        "routes_stations_locations['coordinates_rev'] = routes_stations_locations['coordinates'].map(lambda x:coordinates_rev(x))"
      ],
      "metadata": {
        "id": "tuo4UMmRXMk4"
      },
      "execution_count": 25,
      "outputs": []
    },
    {
      "cell_type": "code",
      "source": [
        "routes_stations_locations.head(2)"
      ],
      "metadata": {
        "colab": {
          "base_uri": "https://localhost:8080/",
          "height": 280
        },
        "id": "_-YBVc9cYzlg",
        "outputId": "5dfaa983-ea4a-4779-f127-73608b837253"
      },
      "execution_count": 26,
      "outputs": [
        {
          "output_type": "execute_result",
          "data": {
            "text/plain": [
              "   route             station_name_route code zip_code state    city  \\\n",
              "0  Acela     Boston, MA - South Station  BOS     2110    MA  Boston   \n",
              "1  Acela  Boston, MA - Back Bay Station  BBY     2116    MA  Boston   \n",
              "\n",
              "              address_1 station_name_location      state_rev  \\\n",
              "0       2 South Station            Boston, MA  Massachusetts   \n",
              "1  145 Dartmouth Street            Boston, MA  Massachusetts   \n",
              "\n",
              "                                       full_address  \\\n",
              "0       2 South Station, Boston, Massachusetts 2110   \n",
              "1  145 Dartmouth Street, Boston, Massachusetts 2116   \n",
              "\n",
              "                               coordinates  \\\n",
              "0                  (42.348695, -71.059861)   \n",
              "1  (42.34750349999999, -71.07493199999999)   \n",
              "\n",
              "                           coordinates_rev  \n",
              "0                  [-71.059861, 42.348695]  \n",
              "1  [-71.07493199999999, 42.34750349999999]  "
            ],
            "text/html": [
              "\n",
              "  <div id=\"df-85bb1405-6ca9-4531-99ae-61859bb90b84\">\n",
              "    <div class=\"colab-df-container\">\n",
              "      <div>\n",
              "<style scoped>\n",
              "    .dataframe tbody tr th:only-of-type {\n",
              "        vertical-align: middle;\n",
              "    }\n",
              "\n",
              "    .dataframe tbody tr th {\n",
              "        vertical-align: top;\n",
              "    }\n",
              "\n",
              "    .dataframe thead th {\n",
              "        text-align: right;\n",
              "    }\n",
              "</style>\n",
              "<table border=\"1\" class=\"dataframe\">\n",
              "  <thead>\n",
              "    <tr style=\"text-align: right;\">\n",
              "      <th></th>\n",
              "      <th>route</th>\n",
              "      <th>station_name_route</th>\n",
              "      <th>code</th>\n",
              "      <th>zip_code</th>\n",
              "      <th>state</th>\n",
              "      <th>city</th>\n",
              "      <th>address_1</th>\n",
              "      <th>station_name_location</th>\n",
              "      <th>state_rev</th>\n",
              "      <th>full_address</th>\n",
              "      <th>coordinates</th>\n",
              "      <th>coordinates_rev</th>\n",
              "    </tr>\n",
              "  </thead>\n",
              "  <tbody>\n",
              "    <tr>\n",
              "      <th>0</th>\n",
              "      <td>Acela</td>\n",
              "      <td>Boston, MA - South Station</td>\n",
              "      <td>BOS</td>\n",
              "      <td>2110</td>\n",
              "      <td>MA</td>\n",
              "      <td>Boston</td>\n",
              "      <td>2 South Station</td>\n",
              "      <td>Boston, MA</td>\n",
              "      <td>Massachusetts</td>\n",
              "      <td>2 South Station, Boston, Massachusetts 2110</td>\n",
              "      <td>(42.348695, -71.059861)</td>\n",
              "      <td>[-71.059861, 42.348695]</td>\n",
              "    </tr>\n",
              "    <tr>\n",
              "      <th>1</th>\n",
              "      <td>Acela</td>\n",
              "      <td>Boston, MA - Back Bay Station</td>\n",
              "      <td>BBY</td>\n",
              "      <td>2116</td>\n",
              "      <td>MA</td>\n",
              "      <td>Boston</td>\n",
              "      <td>145 Dartmouth Street</td>\n",
              "      <td>Boston, MA</td>\n",
              "      <td>Massachusetts</td>\n",
              "      <td>145 Dartmouth Street, Boston, Massachusetts 2116</td>\n",
              "      <td>(42.34750349999999, -71.07493199999999)</td>\n",
              "      <td>[-71.07493199999999, 42.34750349999999]</td>\n",
              "    </tr>\n",
              "  </tbody>\n",
              "</table>\n",
              "</div>\n",
              "      <button class=\"colab-df-convert\" onclick=\"convertToInteractive('df-85bb1405-6ca9-4531-99ae-61859bb90b84')\"\n",
              "              title=\"Convert this dataframe to an interactive table.\"\n",
              "              style=\"display:none;\">\n",
              "        \n",
              "  <svg xmlns=\"http://www.w3.org/2000/svg\" height=\"24px\"viewBox=\"0 0 24 24\"\n",
              "       width=\"24px\">\n",
              "    <path d=\"M0 0h24v24H0V0z\" fill=\"none\"/>\n",
              "    <path d=\"M18.56 5.44l.94 2.06.94-2.06 2.06-.94-2.06-.94-.94-2.06-.94 2.06-2.06.94zm-11 1L8.5 8.5l.94-2.06 2.06-.94-2.06-.94L8.5 2.5l-.94 2.06-2.06.94zm10 10l.94 2.06.94-2.06 2.06-.94-2.06-.94-.94-2.06-.94 2.06-2.06.94z\"/><path d=\"M17.41 7.96l-1.37-1.37c-.4-.4-.92-.59-1.43-.59-.52 0-1.04.2-1.43.59L10.3 9.45l-7.72 7.72c-.78.78-.78 2.05 0 2.83L4 21.41c.39.39.9.59 1.41.59.51 0 1.02-.2 1.41-.59l7.78-7.78 2.81-2.81c.8-.78.8-2.07 0-2.86zM5.41 20L4 18.59l7.72-7.72 1.47 1.35L5.41 20z\"/>\n",
              "  </svg>\n",
              "      </button>\n",
              "      \n",
              "  <style>\n",
              "    .colab-df-container {\n",
              "      display:flex;\n",
              "      flex-wrap:wrap;\n",
              "      gap: 12px;\n",
              "    }\n",
              "\n",
              "    .colab-df-convert {\n",
              "      background-color: #E8F0FE;\n",
              "      border: none;\n",
              "      border-radius: 50%;\n",
              "      cursor: pointer;\n",
              "      display: none;\n",
              "      fill: #1967D2;\n",
              "      height: 32px;\n",
              "      padding: 0 0 0 0;\n",
              "      width: 32px;\n",
              "    }\n",
              "\n",
              "    .colab-df-convert:hover {\n",
              "      background-color: #E2EBFA;\n",
              "      box-shadow: 0px 1px 2px rgba(60, 64, 67, 0.3), 0px 1px 3px 1px rgba(60, 64, 67, 0.15);\n",
              "      fill: #174EA6;\n",
              "    }\n",
              "\n",
              "    [theme=dark] .colab-df-convert {\n",
              "      background-color: #3B4455;\n",
              "      fill: #D2E3FC;\n",
              "    }\n",
              "\n",
              "    [theme=dark] .colab-df-convert:hover {\n",
              "      background-color: #434B5C;\n",
              "      box-shadow: 0px 1px 3px 1px rgba(0, 0, 0, 0.15);\n",
              "      filter: drop-shadow(0px 1px 2px rgba(0, 0, 0, 0.3));\n",
              "      fill: #FFFFFF;\n",
              "    }\n",
              "  </style>\n",
              "\n",
              "      <script>\n",
              "        const buttonEl =\n",
              "          document.querySelector('#df-85bb1405-6ca9-4531-99ae-61859bb90b84 button.colab-df-convert');\n",
              "        buttonEl.style.display =\n",
              "          google.colab.kernel.accessAllowed ? 'block' : 'none';\n",
              "\n",
              "        async function convertToInteractive(key) {\n",
              "          const element = document.querySelector('#df-85bb1405-6ca9-4531-99ae-61859bb90b84');\n",
              "          const dataTable =\n",
              "            await google.colab.kernel.invokeFunction('convertToInteractive',\n",
              "                                                     [key], {});\n",
              "          if (!dataTable) return;\n",
              "\n",
              "          const docLinkHtml = 'Like what you see? Visit the ' +\n",
              "            '<a target=\"_blank\" href=https://colab.research.google.com/notebooks/data_table.ipynb>data table notebook</a>'\n",
              "            + ' to learn more about interactive tables.';\n",
              "          element.innerHTML = '';\n",
              "          dataTable['output_type'] = 'display_data';\n",
              "          await google.colab.output.renderOutput(dataTable, element);\n",
              "          const docLink = document.createElement('div');\n",
              "          docLink.innerHTML = docLinkHtml;\n",
              "          element.appendChild(docLink);\n",
              "        }\n",
              "      </script>\n",
              "    </div>\n",
              "  </div>\n",
              "  "
            ]
          },
          "metadata": {},
          "execution_count": 26
        }
      ]
    },
    {
      "cell_type": "code",
      "source": [
        "# since I only really care about stations at the city level, I'll remove duplicate cities per route\n",
        "\n",
        "print(sum(routes_stations_locations.duplicated(subset=['station_name_location', 'route'])))\n",
        "\n",
        "routes_stations_locations = routes_stations_locations.drop_duplicates(subset=['station_name_location', 'route'])"
      ],
      "metadata": {
        "colab": {
          "base_uri": "https://localhost:8080/"
        },
        "id": "FcgTb4WWrn6x",
        "outputId": "899ab579-aaf0-462f-8b59-f8d7ae327944"
      },
      "execution_count": 27,
      "outputs": [
        {
          "output_type": "stream",
          "name": "stdout",
          "text": [
            "16\n"
          ]
        }
      ]
    },
    {
      "cell_type": "code",
      "source": [
        "# create a dataframe that contains routes and cities in each one\n",
        "\n",
        "routes_locations = (routes_stations_locations.groupby('route', as_index=False)\n",
        "               .agg({'station_name_location': (lambda x: list(x)), 'coordinates_rev':(lambda x: list(x))})\n",
        "               .rename(columns={'station_name_location': 'locations_per_route', 'locations_coordinates':'coordinates_rev'}))"
      ],
      "metadata": {
        "id": "EfHtFMoSbk2j"
      },
      "execution_count": 28,
      "outputs": []
    },
    {
      "cell_type": "code",
      "source": [
        "routes_locations.head()"
      ],
      "metadata": {
        "colab": {
          "base_uri": "https://localhost:8080/",
          "height": 206
        },
        "id": "YuV3e9g9lIr5",
        "outputId": "819de190-864c-4061-9163-660945bb5967"
      },
      "execution_count": 29,
      "outputs": [
        {
          "output_type": "execute_result",
          "data": {
            "text/plain": [
              "                  route                                locations_per_route  \\\n",
              "0                 Acela  [Boston, MA, Route 128, MA, Providence, RI, Ne...   \n",
              "1            Adirondack  [New York, NY, Yonkers, NY, Croton-Harmon, NY,...   \n",
              "2       Amtrak Cascades  [Eugene, OR, Albany, OR, Salem, OR, Oregon Cit...   \n",
              "3  Amtrak Hartford Line  [Springfield, MA, Windsor Locks, CT, Windsor, ...   \n",
              "4            Auto Train                          [Lorton, VA, Sanford, FL]   \n",
              "\n",
              "                                     coordinates_rev  \n",
              "0  [[-71.059861, 42.348695], [-71.148665, 42.2111...  \n",
              "1  [[-73.9962784, 40.7509973], [-73.9023392, 40.9...  \n",
              "2  [[-123.0922546, 44.0551578], [-123.1029538, 44...  \n",
              "3  [[-72.5928997, 42.1060508], [-72.6263365, 41.9...  \n",
              "4  [[-77.2205668, 38.70843199999999], [-81.291410...  "
            ],
            "text/html": [
              "\n",
              "  <div id=\"df-a4bd134f-65f0-42db-9c20-81f6bd26bef3\">\n",
              "    <div class=\"colab-df-container\">\n",
              "      <div>\n",
              "<style scoped>\n",
              "    .dataframe tbody tr th:only-of-type {\n",
              "        vertical-align: middle;\n",
              "    }\n",
              "\n",
              "    .dataframe tbody tr th {\n",
              "        vertical-align: top;\n",
              "    }\n",
              "\n",
              "    .dataframe thead th {\n",
              "        text-align: right;\n",
              "    }\n",
              "</style>\n",
              "<table border=\"1\" class=\"dataframe\">\n",
              "  <thead>\n",
              "    <tr style=\"text-align: right;\">\n",
              "      <th></th>\n",
              "      <th>route</th>\n",
              "      <th>locations_per_route</th>\n",
              "      <th>coordinates_rev</th>\n",
              "    </tr>\n",
              "  </thead>\n",
              "  <tbody>\n",
              "    <tr>\n",
              "      <th>0</th>\n",
              "      <td>Acela</td>\n",
              "      <td>[Boston, MA, Route 128, MA, Providence, RI, Ne...</td>\n",
              "      <td>[[-71.059861, 42.348695], [-71.148665, 42.2111...</td>\n",
              "    </tr>\n",
              "    <tr>\n",
              "      <th>1</th>\n",
              "      <td>Adirondack</td>\n",
              "      <td>[New York, NY, Yonkers, NY, Croton-Harmon, NY,...</td>\n",
              "      <td>[[-73.9962784, 40.7509973], [-73.9023392, 40.9...</td>\n",
              "    </tr>\n",
              "    <tr>\n",
              "      <th>2</th>\n",
              "      <td>Amtrak Cascades</td>\n",
              "      <td>[Eugene, OR, Albany, OR, Salem, OR, Oregon Cit...</td>\n",
              "      <td>[[-123.0922546, 44.0551578], [-123.1029538, 44...</td>\n",
              "    </tr>\n",
              "    <tr>\n",
              "      <th>3</th>\n",
              "      <td>Amtrak Hartford Line</td>\n",
              "      <td>[Springfield, MA, Windsor Locks, CT, Windsor, ...</td>\n",
              "      <td>[[-72.5928997, 42.1060508], [-72.6263365, 41.9...</td>\n",
              "    </tr>\n",
              "    <tr>\n",
              "      <th>4</th>\n",
              "      <td>Auto Train</td>\n",
              "      <td>[Lorton, VA, Sanford, FL]</td>\n",
              "      <td>[[-77.2205668, 38.70843199999999], [-81.291410...</td>\n",
              "    </tr>\n",
              "  </tbody>\n",
              "</table>\n",
              "</div>\n",
              "      <button class=\"colab-df-convert\" onclick=\"convertToInteractive('df-a4bd134f-65f0-42db-9c20-81f6bd26bef3')\"\n",
              "              title=\"Convert this dataframe to an interactive table.\"\n",
              "              style=\"display:none;\">\n",
              "        \n",
              "  <svg xmlns=\"http://www.w3.org/2000/svg\" height=\"24px\"viewBox=\"0 0 24 24\"\n",
              "       width=\"24px\">\n",
              "    <path d=\"M0 0h24v24H0V0z\" fill=\"none\"/>\n",
              "    <path d=\"M18.56 5.44l.94 2.06.94-2.06 2.06-.94-2.06-.94-.94-2.06-.94 2.06-2.06.94zm-11 1L8.5 8.5l.94-2.06 2.06-.94-2.06-.94L8.5 2.5l-.94 2.06-2.06.94zm10 10l.94 2.06.94-2.06 2.06-.94-2.06-.94-.94-2.06-.94 2.06-2.06.94z\"/><path d=\"M17.41 7.96l-1.37-1.37c-.4-.4-.92-.59-1.43-.59-.52 0-1.04.2-1.43.59L10.3 9.45l-7.72 7.72c-.78.78-.78 2.05 0 2.83L4 21.41c.39.39.9.59 1.41.59.51 0 1.02-.2 1.41-.59l7.78-7.78 2.81-2.81c.8-.78.8-2.07 0-2.86zM5.41 20L4 18.59l7.72-7.72 1.47 1.35L5.41 20z\"/>\n",
              "  </svg>\n",
              "      </button>\n",
              "      \n",
              "  <style>\n",
              "    .colab-df-container {\n",
              "      display:flex;\n",
              "      flex-wrap:wrap;\n",
              "      gap: 12px;\n",
              "    }\n",
              "\n",
              "    .colab-df-convert {\n",
              "      background-color: #E8F0FE;\n",
              "      border: none;\n",
              "      border-radius: 50%;\n",
              "      cursor: pointer;\n",
              "      display: none;\n",
              "      fill: #1967D2;\n",
              "      height: 32px;\n",
              "      padding: 0 0 0 0;\n",
              "      width: 32px;\n",
              "    }\n",
              "\n",
              "    .colab-df-convert:hover {\n",
              "      background-color: #E2EBFA;\n",
              "      box-shadow: 0px 1px 2px rgba(60, 64, 67, 0.3), 0px 1px 3px 1px rgba(60, 64, 67, 0.15);\n",
              "      fill: #174EA6;\n",
              "    }\n",
              "\n",
              "    [theme=dark] .colab-df-convert {\n",
              "      background-color: #3B4455;\n",
              "      fill: #D2E3FC;\n",
              "    }\n",
              "\n",
              "    [theme=dark] .colab-df-convert:hover {\n",
              "      background-color: #434B5C;\n",
              "      box-shadow: 0px 1px 3px 1px rgba(0, 0, 0, 0.15);\n",
              "      filter: drop-shadow(0px 1px 2px rgba(0, 0, 0, 0.3));\n",
              "      fill: #FFFFFF;\n",
              "    }\n",
              "  </style>\n",
              "\n",
              "      <script>\n",
              "        const buttonEl =\n",
              "          document.querySelector('#df-a4bd134f-65f0-42db-9c20-81f6bd26bef3 button.colab-df-convert');\n",
              "        buttonEl.style.display =\n",
              "          google.colab.kernel.accessAllowed ? 'block' : 'none';\n",
              "\n",
              "        async function convertToInteractive(key) {\n",
              "          const element = document.querySelector('#df-a4bd134f-65f0-42db-9c20-81f6bd26bef3');\n",
              "          const dataTable =\n",
              "            await google.colab.kernel.invokeFunction('convertToInteractive',\n",
              "                                                     [key], {});\n",
              "          if (!dataTable) return;\n",
              "\n",
              "          const docLinkHtml = 'Like what you see? Visit the ' +\n",
              "            '<a target=\"_blank\" href=https://colab.research.google.com/notebooks/data_table.ipynb>data table notebook</a>'\n",
              "            + ' to learn more about interactive tables.';\n",
              "          element.innerHTML = '';\n",
              "          dataTable['output_type'] = 'display_data';\n",
              "          await google.colab.output.renderOutput(dataTable, element);\n",
              "          const docLink = document.createElement('div');\n",
              "          docLink.innerHTML = docLinkHtml;\n",
              "          element.appendChild(docLink);\n",
              "        }\n",
              "      </script>\n",
              "    </div>\n",
              "  </div>\n",
              "  "
            ]
          },
          "metadata": {},
          "execution_count": 29
        }
      ]
    },
    {
      "cell_type": "code",
      "source": [
        "# pickle routes_locations for use later\n",
        "\n",
        "with open('routes_locations_df.pkl', 'wb') as fid:\n",
        "     pickle.dump(routes_locations, fid)"
      ],
      "metadata": {
        "id": "-bHTo1a_dr0N"
      },
      "execution_count": 30,
      "outputs": []
    },
    {
      "cell_type": "code",
      "source": [
        "# get number of routes\n",
        "routes_stations_locations.route.nunique()"
      ],
      "metadata": {
        "colab": {
          "base_uri": "https://localhost:8080/"
        },
        "id": "8QVva1neWDxB",
        "outputId": "725280c4-e3e1-4030-e54d-bfd673429da6"
      },
      "execution_count": 31,
      "outputs": [
        {
          "output_type": "execute_result",
          "data": {
            "text/plain": [
              "42"
            ]
          },
          "metadata": {},
          "execution_count": 31
        }
      ]
    },
    {
      "cell_type": "code",
      "source": [
        "# create list of all route names\n",
        "routes = list(routes_stations_locations.route.unique())\n",
        "len(routes)"
      ],
      "metadata": {
        "colab": {
          "base_uri": "https://localhost:8080/"
        },
        "id": "GggZqba3ujG9",
        "outputId": "da6b5c5c-7b9e-43f0-83d7-7eca49a8b9bf"
      },
      "execution_count": 32,
      "outputs": [
        {
          "output_type": "execute_result",
          "data": {
            "text/plain": [
              "42"
            ]
          },
          "metadata": {},
          "execution_count": 32
        }
      ]
    },
    {
      "cell_type": "code",
      "source": [
        "routes[:2]"
      ],
      "metadata": {
        "colab": {
          "base_uri": "https://localhost:8080/"
        },
        "id": "FqhUxAAPv9zF",
        "outputId": "fc7060f2-66ef-40d3-8633-1df1d5a0265c"
      },
      "execution_count": null,
      "outputs": [
        {
          "output_type": "execute_result",
          "data": {
            "text/plain": [
              "['Acela', 'Adirondack']"
            ]
          },
          "metadata": {},
          "execution_count": 98
        }
      ]
    },
    {
      "cell_type": "markdown",
      "source": [
        "Create a dictionary where key = route and values = tuples of stations next to each other in the route and the first and last stations paired with themselves (this will make indexing and calculating down columns easier)"
      ],
      "metadata": {
        "id": "LcGjZoxkXOV-"
      }
    },
    {
      "cell_type": "code",
      "source": [
        "route_combos_dict = {}\n",
        "\n",
        "for route in routes:\n",
        "  route_df = routes_stations_locations.loc[routes_stations_locations.route == route]\n",
        "  route_combos = []\n",
        "  last_idx = len(route_df)-1\n",
        "  for i in range(0, len(route_df)):\n",
        "    if i == 0:\n",
        "      x = route_df.code[i:i+1].values[0]\n",
        "      combo = (x,x)\n",
        "      route_combos.append(combo)\n",
        "      combo = tuple(route_df.code[i:i + 2])\n",
        "      route_combos.append(combo)\n",
        "    elif i == last_idx:\n",
        "      y = route_df.code[i:i+1].values[0]\n",
        "      combo = (y,y)\n",
        "      route_combos.append(combo)\n",
        "    else:\n",
        "      combo = tuple(route_df.code[i:i + 2])\n",
        "      route_combos.append(combo)\n",
        "  route_combos_dict[route] = route_combos"
      ],
      "metadata": {
        "id": "wdbzPCpVzOPZ"
      },
      "execution_count": 34,
      "outputs": []
    },
    {
      "cell_type": "markdown",
      "source": [
        "Calculate distances using Google's Distance Matrix API.\n",
        "The below code comes from here: https://www.linkedin.com/pulse/calculating-distances-using-python-google-maps-r%C3%A9gis-nisengwe/?articleId=6625061973447053312"
      ],
      "metadata": {
        "id": "0NlaQGqWsc5Q"
      }
    },
    {
      "cell_type": "code",
      "source": [
        "# create a list of lists, in which each nested list contains each station combo, including the station names, codes, coordinates and haversine distance\n",
        "\n",
        "API_key = 'my_key'\n",
        "gmaps = googlemaps.Client(key=API_key)\n",
        "\n",
        "routes_combos_list = []\n",
        "\n",
        "for key,value in route_combos_dict.items():\n",
        "    for i in range(len(value)):\n",
        "      station_1_coords = routes_stations_locations.loc[routes_stations_locations.code == value[i][0]]['coordinates'].values[0]\n",
        "      station_2_coords = routes_stations_locations.loc[routes_stations_locations.code == value[i][1]]['coordinates'].values[0]\n",
        "\n",
        "      station_1_name = routes_stations_locations.loc[routes_stations_locations.code == value[i][0]]['station_name_location'].values[0]\n",
        "      station_2_name = routes_stations_locations.loc[routes_stations_locations.code == value[i][1]]['station_name_location'].values[0]\n",
        "\n",
        "      distance = gmaps.distance_matrix(station_1_coords, station_2_coords,transit_mode='train')[\"rows\"][0][\"elements\"][0][\"distance\"][\"value\"]\n",
        "      routes_combos_list.append([value[i][0], station_1_name, station_1_coords, value[i][1], station_2_name, station_2_coords, distance])"
      ],
      "metadata": {
        "id": "iZlV8AIVr2xd"
      },
      "execution_count": 36,
      "outputs": []
    },
    {
      "cell_type": "code",
      "source": [
        "# create dataframe\n",
        "\n",
        "stations_combos_df = pd.DataFrame(routes_combos_list, columns = ['station_1_code','station_1_name','station_1_coords','station_2_code','station_2_name',\n",
        "                                                 'station_2_coords', 'distance_meters'])\n",
        "stations_combos_df['distance_mi'] = stations_combos_df['distance_meters'] / 1609"
      ],
      "metadata": {
        "id": "AZCASQ3nzff_"
      },
      "execution_count": 37,
      "outputs": []
    },
    {
      "cell_type": "code",
      "source": [
        "# drop meters column\n",
        "stations_combos_df = stations_combos_df.drop(columns='distance_meters',axis=1)"
      ],
      "metadata": {
        "id": "h8WZJ4450ZWj"
      },
      "execution_count": 38,
      "outputs": []
    },
    {
      "cell_type": "code",
      "source": [
        "stations_combos_df.head()"
      ],
      "metadata": {
        "colab": {
          "base_uri": "https://localhost:8080/",
          "height": 206
        },
        "id": "n7UBXOF81NtD",
        "outputId": "db3f39e9-9f3b-4e96-fda6-6f92df89b125"
      },
      "execution_count": 39,
      "outputs": [
        {
          "output_type": "execute_result",
          "data": {
            "text/plain": [
              "  station_1_code  station_1_name           station_1_coords station_2_code  \\\n",
              "0            BOS      Boston, MA    (42.348695, -71.059861)            BOS   \n",
              "1            BOS      Boston, MA    (42.348695, -71.059861)            RTE   \n",
              "2            RTE   Route 128, MA   (42.2111905, -71.148665)            PVD   \n",
              "3            PVD  Providence, RI  (41.8305099, -71.4131785)            NHV   \n",
              "4            NHV   New Haven, CT  (41.2973604, -72.9267668)            STM   \n",
              "\n",
              "   station_2_name           station_2_coords  distance_mi  \n",
              "0      Boston, MA    (42.348695, -71.059861)     0.000000  \n",
              "1   Route 128, MA   (42.2111905, -71.148665)    17.250466  \n",
              "2  Providence, RI  (41.8305099, -71.4131785)    33.078931  \n",
              "3   New Haven, CT  (41.2973604, -72.9267668)   103.599751  \n",
              "4    Stamford, CT  (41.0468938, -73.5429146)    40.182722  "
            ],
            "text/html": [
              "\n",
              "  <div id=\"df-d96fbe33-38b0-42ab-86f4-5c56e89600c2\">\n",
              "    <div class=\"colab-df-container\">\n",
              "      <div>\n",
              "<style scoped>\n",
              "    .dataframe tbody tr th:only-of-type {\n",
              "        vertical-align: middle;\n",
              "    }\n",
              "\n",
              "    .dataframe tbody tr th {\n",
              "        vertical-align: top;\n",
              "    }\n",
              "\n",
              "    .dataframe thead th {\n",
              "        text-align: right;\n",
              "    }\n",
              "</style>\n",
              "<table border=\"1\" class=\"dataframe\">\n",
              "  <thead>\n",
              "    <tr style=\"text-align: right;\">\n",
              "      <th></th>\n",
              "      <th>station_1_code</th>\n",
              "      <th>station_1_name</th>\n",
              "      <th>station_1_coords</th>\n",
              "      <th>station_2_code</th>\n",
              "      <th>station_2_name</th>\n",
              "      <th>station_2_coords</th>\n",
              "      <th>distance_mi</th>\n",
              "    </tr>\n",
              "  </thead>\n",
              "  <tbody>\n",
              "    <tr>\n",
              "      <th>0</th>\n",
              "      <td>BOS</td>\n",
              "      <td>Boston, MA</td>\n",
              "      <td>(42.348695, -71.059861)</td>\n",
              "      <td>BOS</td>\n",
              "      <td>Boston, MA</td>\n",
              "      <td>(42.348695, -71.059861)</td>\n",
              "      <td>0.000000</td>\n",
              "    </tr>\n",
              "    <tr>\n",
              "      <th>1</th>\n",
              "      <td>BOS</td>\n",
              "      <td>Boston, MA</td>\n",
              "      <td>(42.348695, -71.059861)</td>\n",
              "      <td>RTE</td>\n",
              "      <td>Route 128, MA</td>\n",
              "      <td>(42.2111905, -71.148665)</td>\n",
              "      <td>17.250466</td>\n",
              "    </tr>\n",
              "    <tr>\n",
              "      <th>2</th>\n",
              "      <td>RTE</td>\n",
              "      <td>Route 128, MA</td>\n",
              "      <td>(42.2111905, -71.148665)</td>\n",
              "      <td>PVD</td>\n",
              "      <td>Providence, RI</td>\n",
              "      <td>(41.8305099, -71.4131785)</td>\n",
              "      <td>33.078931</td>\n",
              "    </tr>\n",
              "    <tr>\n",
              "      <th>3</th>\n",
              "      <td>PVD</td>\n",
              "      <td>Providence, RI</td>\n",
              "      <td>(41.8305099, -71.4131785)</td>\n",
              "      <td>NHV</td>\n",
              "      <td>New Haven, CT</td>\n",
              "      <td>(41.2973604, -72.9267668)</td>\n",
              "      <td>103.599751</td>\n",
              "    </tr>\n",
              "    <tr>\n",
              "      <th>4</th>\n",
              "      <td>NHV</td>\n",
              "      <td>New Haven, CT</td>\n",
              "      <td>(41.2973604, -72.9267668)</td>\n",
              "      <td>STM</td>\n",
              "      <td>Stamford, CT</td>\n",
              "      <td>(41.0468938, -73.5429146)</td>\n",
              "      <td>40.182722</td>\n",
              "    </tr>\n",
              "  </tbody>\n",
              "</table>\n",
              "</div>\n",
              "      <button class=\"colab-df-convert\" onclick=\"convertToInteractive('df-d96fbe33-38b0-42ab-86f4-5c56e89600c2')\"\n",
              "              title=\"Convert this dataframe to an interactive table.\"\n",
              "              style=\"display:none;\">\n",
              "        \n",
              "  <svg xmlns=\"http://www.w3.org/2000/svg\" height=\"24px\"viewBox=\"0 0 24 24\"\n",
              "       width=\"24px\">\n",
              "    <path d=\"M0 0h24v24H0V0z\" fill=\"none\"/>\n",
              "    <path d=\"M18.56 5.44l.94 2.06.94-2.06 2.06-.94-2.06-.94-.94-2.06-.94 2.06-2.06.94zm-11 1L8.5 8.5l.94-2.06 2.06-.94-2.06-.94L8.5 2.5l-.94 2.06-2.06.94zm10 10l.94 2.06.94-2.06 2.06-.94-2.06-.94-.94-2.06-.94 2.06-2.06.94z\"/><path d=\"M17.41 7.96l-1.37-1.37c-.4-.4-.92-.59-1.43-.59-.52 0-1.04.2-1.43.59L10.3 9.45l-7.72 7.72c-.78.78-.78 2.05 0 2.83L4 21.41c.39.39.9.59 1.41.59.51 0 1.02-.2 1.41-.59l7.78-7.78 2.81-2.81c.8-.78.8-2.07 0-2.86zM5.41 20L4 18.59l7.72-7.72 1.47 1.35L5.41 20z\"/>\n",
              "  </svg>\n",
              "      </button>\n",
              "      \n",
              "  <style>\n",
              "    .colab-df-container {\n",
              "      display:flex;\n",
              "      flex-wrap:wrap;\n",
              "      gap: 12px;\n",
              "    }\n",
              "\n",
              "    .colab-df-convert {\n",
              "      background-color: #E8F0FE;\n",
              "      border: none;\n",
              "      border-radius: 50%;\n",
              "      cursor: pointer;\n",
              "      display: none;\n",
              "      fill: #1967D2;\n",
              "      height: 32px;\n",
              "      padding: 0 0 0 0;\n",
              "      width: 32px;\n",
              "    }\n",
              "\n",
              "    .colab-df-convert:hover {\n",
              "      background-color: #E2EBFA;\n",
              "      box-shadow: 0px 1px 2px rgba(60, 64, 67, 0.3), 0px 1px 3px 1px rgba(60, 64, 67, 0.15);\n",
              "      fill: #174EA6;\n",
              "    }\n",
              "\n",
              "    [theme=dark] .colab-df-convert {\n",
              "      background-color: #3B4455;\n",
              "      fill: #D2E3FC;\n",
              "    }\n",
              "\n",
              "    [theme=dark] .colab-df-convert:hover {\n",
              "      background-color: #434B5C;\n",
              "      box-shadow: 0px 1px 3px 1px rgba(0, 0, 0, 0.15);\n",
              "      filter: drop-shadow(0px 1px 2px rgba(0, 0, 0, 0.3));\n",
              "      fill: #FFFFFF;\n",
              "    }\n",
              "  </style>\n",
              "\n",
              "      <script>\n",
              "        const buttonEl =\n",
              "          document.querySelector('#df-d96fbe33-38b0-42ab-86f4-5c56e89600c2 button.colab-df-convert');\n",
              "        buttonEl.style.display =\n",
              "          google.colab.kernel.accessAllowed ? 'block' : 'none';\n",
              "\n",
              "        async function convertToInteractive(key) {\n",
              "          const element = document.querySelector('#df-d96fbe33-38b0-42ab-86f4-5c56e89600c2');\n",
              "          const dataTable =\n",
              "            await google.colab.kernel.invokeFunction('convertToInteractive',\n",
              "                                                     [key], {});\n",
              "          if (!dataTable) return;\n",
              "\n",
              "          const docLinkHtml = 'Like what you see? Visit the ' +\n",
              "            '<a target=\"_blank\" href=https://colab.research.google.com/notebooks/data_table.ipynb>data table notebook</a>'\n",
              "            + ' to learn more about interactive tables.';\n",
              "          element.innerHTML = '';\n",
              "          dataTable['output_type'] = 'display_data';\n",
              "          await google.colab.output.renderOutput(dataTable, element);\n",
              "          const docLink = document.createElement('div');\n",
              "          docLink.innerHTML = docLinkHtml;\n",
              "          element.appendChild(docLink);\n",
              "        }\n",
              "      </script>\n",
              "    </div>\n",
              "  </div>\n",
              "  "
            ]
          },
          "metadata": {},
          "execution_count": 39
        }
      ]
    },
    {
      "cell_type": "code",
      "source": [
        "# add a column to the dataframe containing the route corresponding to each stations pair\n",
        "\n",
        "route_combos_dict_keys = list(route_combos_dict.keys())\n",
        "route_combos_dict_keys_lengths = [len(v) for v in route_combos_dict.values()]\n",
        "\n",
        "# the below code came from here: https://stackoverflow.com/questions/48837245/how-to-multiply-a-list-of-strings-by-a-list-of-integers\n",
        "routes_column = sum([[s] * n for s, n in zip(route_combos_dict_keys, route_combos_dict_keys_lengths)], [])\n",
        "\n",
        "stations_combos_df['route'] = routes_column"
      ],
      "metadata": {
        "id": "2HnGofSt0O_y"
      },
      "execution_count": 40,
      "outputs": []
    },
    {
      "cell_type": "code",
      "source": [
        "stations_combos_df.shape"
      ],
      "metadata": {
        "colab": {
          "base_uri": "https://localhost:8080/"
        },
        "id": "Pq_E2rEz0W_Q",
        "outputId": "bbbf1bbf-e6cf-4efe-9522-cdd04fc88650"
      },
      "execution_count": 41,
      "outputs": [
        {
          "output_type": "execute_result",
          "data": {
            "text/plain": [
              "(842, 8)"
            ]
          },
          "metadata": {},
          "execution_count": 41
        }
      ]
    },
    {
      "cell_type": "code",
      "source": [
        "# pickle stations_combos_df\n",
        "with open('train_stations_combos_df_gmaps.pkl', 'wb') as fid:\n",
        "     pickle.dump(stations_combos_df, fid)"
      ],
      "metadata": {
        "id": "mA8Bq-Kg0gUH"
      },
      "execution_count": 42,
      "outputs": []
    },
    {
      "cell_type": "code",
      "source": [
        ""
      ],
      "metadata": {
        "id": "kHx89FGt5bc-"
      },
      "execution_count": null,
      "outputs": []
    },
    {
      "cell_type": "markdown",
      "source": [
        "Make all requests to Climatiq API"
      ],
      "metadata": {
        "id": "CdM7qHgN1EAQ"
      }
    },
    {
      "cell_type": "code",
      "source": [
        "headers = {'Authorization': 'Bearer my_key','Content-type': 'application/json'}"
      ],
      "metadata": {
        "id": "mXoLJVTF0ubO"
      },
      "execution_count": 43,
      "outputs": []
    },
    {
      "cell_type": "code",
      "source": [
        "distances = list(stations_combos_df.distance_mi)"
      ],
      "metadata": {
        "id": "MyVQvOIQ1Hhu"
      },
      "execution_count": 44,
      "outputs": []
    },
    {
      "cell_type": "code",
      "source": [
        "len(distances)"
      ],
      "metadata": {
        "colab": {
          "base_uri": "https://localhost:8080/"
        },
        "id": "NEVQTxGZ1T9S",
        "outputId": "54b6228a-3a9c-4a64-993f-2b35ecc51319"
      },
      "execution_count": 45,
      "outputs": [
        {
          "output_type": "execute_result",
          "data": {
            "text/plain": [
              "842"
            ]
          },
          "metadata": {},
          "execution_count": 45
        }
      ]
    },
    {
      "cell_type": "code",
      "source": [
        "responses_dict = {}\n",
        "\n",
        "for idx, distance in enumerate(distances):\n",
        "  response_dict = requests.post('https://beta2.api.climatiq.io/estimate',\n",
        "                           data=json.dumps({\"emission_factor\": \"passenger_train-route_type_intercity-fuel_source_na\",\\\n",
        "                               \"parameters\": {\"passengers\": 1,\"distance\": distance,\"distance_unit\": \"mi\"}}),\n",
        "                           headers=headers).json()\n",
        "  responses_dict[idx] = response_dict\n",
        "  time.sleep(3)\n",
        "\n",
        "# pickle responses_dict\n",
        "with open('climatiq_train_responses_dict_2_gmaps_rev.pkl', 'wb') as fid:\n",
        "     pickle.dump(responses_dict, fid)"
      ],
      "metadata": {
        "id": "nTrkUSIG1XyK"
      },
      "execution_count": 48,
      "outputs": []
    }
  ]
}