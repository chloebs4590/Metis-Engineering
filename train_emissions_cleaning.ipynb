{
  "nbformat": 4,
  "nbformat_minor": 0,
  "metadata": {
    "colab": {
      "name": "train_emissions_cleaning.ipynb",
      "provenance": [],
      "authorship_tag": "ABX9TyNKa99KV81uEoD14rrKBSBS",
      "include_colab_link": true
    },
    "kernelspec": {
      "name": "python3",
      "display_name": "Python 3"
    },
    "language_info": {
      "name": "python"
    }
  },
  "cells": [
    {
      "cell_type": "markdown",
      "metadata": {
        "id": "view-in-github",
        "colab_type": "text"
      },
      "source": [
        "<a href=\"https://colab.research.google.com/github/chloebs4590/Metis-Engineering/blob/main/train_emissions_cleaning.ipynb\" target=\"_parent\"><img src=\"https://colab.research.google.com/assets/colab-badge.svg\" alt=\"Open In Colab\"/></a>"
      ]
    },
    {
      "cell_type": "code",
      "execution_count": 1,
      "metadata": {
        "id": "7bc1PrbUd7ak"
      },
      "outputs": [],
      "source": [
        "reset -fs"
      ]
    },
    {
      "cell_type": "code",
      "source": [
        "import pandas as pd\n",
        "import os\n",
        "import pickle\n",
        "import json"
      ],
      "metadata": {
        "id": "NZCMyEaIeB5r"
      },
      "execution_count": 2,
      "outputs": []
    },
    {
      "cell_type": "code",
      "source": [
        "# mount Google Drive\n",
        "from google.colab import drive # import drive from google colab\n",
        "from os.path import join\n",
        "ROOT = \"/content/drive\"     # default location for the drive\n",
        "print(ROOT)                 # print content of ROOT (Optional)\n",
        "\n",
        "drive.mount(ROOT)           # we mount the google drive at /content/drive"
      ],
      "metadata": {
        "colab": {
          "base_uri": "https://localhost:8080/"
        },
        "id": "VpIWJK7HeD0V",
        "outputId": "74309e95-bd3b-429b-fc98-ac609c8634dd"
      },
      "execution_count": 3,
      "outputs": [
        {
          "output_type": "stream",
          "name": "stdout",
          "text": [
            "/content/drive\n",
            "Mounted at /content/drive\n"
          ]
        }
      ]
    },
    {
      "cell_type": "code",
      "source": [
        "from google.colab import auth\n",
        "auth.authenticate_user()\n",
        "\n",
        "import gspread\n",
        "from google.auth import default\n",
        "creds, _ = default()\n",
        "\n",
        "gc = gspread.authorize(creds)"
      ],
      "metadata": {
        "id": "U9TCmIyreH00"
      },
      "execution_count": 4,
      "outputs": []
    },
    {
      "cell_type": "code",
      "source": [
        "os.getcwd()"
      ],
      "metadata": {
        "colab": {
          "base_uri": "https://localhost:8080/",
          "height": 35
        },
        "id": "_mAJXxLPeIi_",
        "outputId": "92482f0e-52b1-4658-a3a4-7ebd4231d43b"
      },
      "execution_count": 5,
      "outputs": [
        {
          "output_type": "execute_result",
          "data": {
            "text/plain": [
              "'/content'"
            ],
            "application/vnd.google.colaboratory.intrinsic+json": {
              "type": "string"
            }
          },
          "metadata": {},
          "execution_count": 5
        }
      ]
    },
    {
      "cell_type": "code",
      "source": [
        "os.chdir('/content/drive/MyDrive/Data Science Metis/Engineering')"
      ],
      "metadata": {
        "id": "ECmcKnaceNQy"
      },
      "execution_count": 6,
      "outputs": []
    },
    {
      "cell_type": "markdown",
      "source": [
        "Read in and prepare stations locations data for merging"
      ],
      "metadata": {
        "id": "XIj63Excddee"
      }
    },
    {
      "cell_type": "code",
      "source": [
        "# read in stations_locations_geocoded\n",
        "\n",
        "with open('stations_locations_geocoded.pkl','rb') as fid:\n",
        "  stations_locations = pickle.load(fid)"
      ],
      "metadata": {
        "id": "vx07fIvodhko"
      },
      "execution_count": 7,
      "outputs": []
    },
    {
      "cell_type": "code",
      "source": [
        "stations_locations.head(2)"
      ],
      "metadata": {
        "colab": {
          "base_uri": "https://localhost:8080/",
          "height": 280
        },
        "id": "myKLzJvGdpR4",
        "outputId": "092c768e-eb95-41dd-b0a6-06b3f81f1e23"
      },
      "execution_count": 8,
      "outputs": [
        {
          "output_type": "execute_result",
          "data": {
            "text/plain": [
              "             x            y objectid_1 objectid  \\\n",
              "0  -8478455.55  4794767.297          4        4   \n",
              "1   -8208827.1  5257492.746         14       16   \n",
              "\n",
              "                     station_descripton bus_or_train zip_code state  \\\n",
              "0  Station Building (with waiting room)        TRAIN    21001    MD   \n",
              "1  Station Building (with waiting room)        TRAIN    12144    NY   \n",
              "\n",
              "         city address_2               address_1 name code  \\\n",
              "0    Aberdeen            18 East Bel Air Avenue       ABE   \n",
              "1  Rensselaer                   525 East Street       ALB   \n",
              "\n",
              "            station_name state_rev  \\\n",
              "0           Aberdeen, MD  Maryland   \n",
              "1  Albany-Rensselaer, NY  New York   \n",
              "\n",
              "                                       full_address  longitude   latitude  \n",
              "0  18 East Bel Air Avenue, Aberdeen, Maryland 21001 -76.163203  39.508412  \n",
              "1       525 East Street, Rensselaer, New York 12144 -73.741149  42.641353  "
            ],
            "text/html": [
              "\n",
              "  <div id=\"df-fb7a7ee6-793b-45a4-86bd-48427d988bca\">\n",
              "    <div class=\"colab-df-container\">\n",
              "      <div>\n",
              "<style scoped>\n",
              "    .dataframe tbody tr th:only-of-type {\n",
              "        vertical-align: middle;\n",
              "    }\n",
              "\n",
              "    .dataframe tbody tr th {\n",
              "        vertical-align: top;\n",
              "    }\n",
              "\n",
              "    .dataframe thead th {\n",
              "        text-align: right;\n",
              "    }\n",
              "</style>\n",
              "<table border=\"1\" class=\"dataframe\">\n",
              "  <thead>\n",
              "    <tr style=\"text-align: right;\">\n",
              "      <th></th>\n",
              "      <th>x</th>\n",
              "      <th>y</th>\n",
              "      <th>objectid_1</th>\n",
              "      <th>objectid</th>\n",
              "      <th>station_descripton</th>\n",
              "      <th>bus_or_train</th>\n",
              "      <th>zip_code</th>\n",
              "      <th>state</th>\n",
              "      <th>city</th>\n",
              "      <th>address_2</th>\n",
              "      <th>address_1</th>\n",
              "      <th>name</th>\n",
              "      <th>code</th>\n",
              "      <th>station_name</th>\n",
              "      <th>state_rev</th>\n",
              "      <th>full_address</th>\n",
              "      <th>longitude</th>\n",
              "      <th>latitude</th>\n",
              "    </tr>\n",
              "  </thead>\n",
              "  <tbody>\n",
              "    <tr>\n",
              "      <th>0</th>\n",
              "      <td>-8478455.55</td>\n",
              "      <td>4794767.297</td>\n",
              "      <td>4</td>\n",
              "      <td>4</td>\n",
              "      <td>Station Building (with waiting room)</td>\n",
              "      <td>TRAIN</td>\n",
              "      <td>21001</td>\n",
              "      <td>MD</td>\n",
              "      <td>Aberdeen</td>\n",
              "      <td></td>\n",
              "      <td>18 East Bel Air Avenue</td>\n",
              "      <td></td>\n",
              "      <td>ABE</td>\n",
              "      <td>Aberdeen, MD</td>\n",
              "      <td>Maryland</td>\n",
              "      <td>18 East Bel Air Avenue, Aberdeen, Maryland 21001</td>\n",
              "      <td>-76.163203</td>\n",
              "      <td>39.508412</td>\n",
              "    </tr>\n",
              "    <tr>\n",
              "      <th>1</th>\n",
              "      <td>-8208827.1</td>\n",
              "      <td>5257492.746</td>\n",
              "      <td>14</td>\n",
              "      <td>16</td>\n",
              "      <td>Station Building (with waiting room)</td>\n",
              "      <td>TRAIN</td>\n",
              "      <td>12144</td>\n",
              "      <td>NY</td>\n",
              "      <td>Rensselaer</td>\n",
              "      <td></td>\n",
              "      <td>525 East Street</td>\n",
              "      <td></td>\n",
              "      <td>ALB</td>\n",
              "      <td>Albany-Rensselaer, NY</td>\n",
              "      <td>New York</td>\n",
              "      <td>525 East Street, Rensselaer, New York 12144</td>\n",
              "      <td>-73.741149</td>\n",
              "      <td>42.641353</td>\n",
              "    </tr>\n",
              "  </tbody>\n",
              "</table>\n",
              "</div>\n",
              "      <button class=\"colab-df-convert\" onclick=\"convertToInteractive('df-fb7a7ee6-793b-45a4-86bd-48427d988bca')\"\n",
              "              title=\"Convert this dataframe to an interactive table.\"\n",
              "              style=\"display:none;\">\n",
              "        \n",
              "  <svg xmlns=\"http://www.w3.org/2000/svg\" height=\"24px\"viewBox=\"0 0 24 24\"\n",
              "       width=\"24px\">\n",
              "    <path d=\"M0 0h24v24H0V0z\" fill=\"none\"/>\n",
              "    <path d=\"M18.56 5.44l.94 2.06.94-2.06 2.06-.94-2.06-.94-.94-2.06-.94 2.06-2.06.94zm-11 1L8.5 8.5l.94-2.06 2.06-.94-2.06-.94L8.5 2.5l-.94 2.06-2.06.94zm10 10l.94 2.06.94-2.06 2.06-.94-2.06-.94-.94-2.06-.94 2.06-2.06.94z\"/><path d=\"M17.41 7.96l-1.37-1.37c-.4-.4-.92-.59-1.43-.59-.52 0-1.04.2-1.43.59L10.3 9.45l-7.72 7.72c-.78.78-.78 2.05 0 2.83L4 21.41c.39.39.9.59 1.41.59.51 0 1.02-.2 1.41-.59l7.78-7.78 2.81-2.81c.8-.78.8-2.07 0-2.86zM5.41 20L4 18.59l7.72-7.72 1.47 1.35L5.41 20z\"/>\n",
              "  </svg>\n",
              "      </button>\n",
              "      \n",
              "  <style>\n",
              "    .colab-df-container {\n",
              "      display:flex;\n",
              "      flex-wrap:wrap;\n",
              "      gap: 12px;\n",
              "    }\n",
              "\n",
              "    .colab-df-convert {\n",
              "      background-color: #E8F0FE;\n",
              "      border: none;\n",
              "      border-radius: 50%;\n",
              "      cursor: pointer;\n",
              "      display: none;\n",
              "      fill: #1967D2;\n",
              "      height: 32px;\n",
              "      padding: 0 0 0 0;\n",
              "      width: 32px;\n",
              "    }\n",
              "\n",
              "    .colab-df-convert:hover {\n",
              "      background-color: #E2EBFA;\n",
              "      box-shadow: 0px 1px 2px rgba(60, 64, 67, 0.3), 0px 1px 3px 1px rgba(60, 64, 67, 0.15);\n",
              "      fill: #174EA6;\n",
              "    }\n",
              "\n",
              "    [theme=dark] .colab-df-convert {\n",
              "      background-color: #3B4455;\n",
              "      fill: #D2E3FC;\n",
              "    }\n",
              "\n",
              "    [theme=dark] .colab-df-convert:hover {\n",
              "      background-color: #434B5C;\n",
              "      box-shadow: 0px 1px 3px 1px rgba(0, 0, 0, 0.15);\n",
              "      filter: drop-shadow(0px 1px 2px rgba(0, 0, 0, 0.3));\n",
              "      fill: #FFFFFF;\n",
              "    }\n",
              "  </style>\n",
              "\n",
              "      <script>\n",
              "        const buttonEl =\n",
              "          document.querySelector('#df-fb7a7ee6-793b-45a4-86bd-48427d988bca button.colab-df-convert');\n",
              "        buttonEl.style.display =\n",
              "          google.colab.kernel.accessAllowed ? 'block' : 'none';\n",
              "\n",
              "        async function convertToInteractive(key) {\n",
              "          const element = document.querySelector('#df-fb7a7ee6-793b-45a4-86bd-48427d988bca');\n",
              "          const dataTable =\n",
              "            await google.colab.kernel.invokeFunction('convertToInteractive',\n",
              "                                                     [key], {});\n",
              "          if (!dataTable) return;\n",
              "\n",
              "          const docLinkHtml = 'Like what you see? Visit the ' +\n",
              "            '<a target=\"_blank\" href=https://colab.research.google.com/notebooks/data_table.ipynb>data table notebook</a>'\n",
              "            + ' to learn more about interactive tables.';\n",
              "          element.innerHTML = '';\n",
              "          dataTable['output_type'] = 'display_data';\n",
              "          await google.colab.output.renderOutput(dataTable, element);\n",
              "          const docLink = document.createElement('div');\n",
              "          docLink.innerHTML = docLinkHtml;\n",
              "          element.appendChild(docLink);\n",
              "        }\n",
              "      </script>\n",
              "    </div>\n",
              "  </div>\n",
              "  "
            ]
          },
          "metadata": {},
          "execution_count": 8
        }
      ]
    },
    {
      "cell_type": "code",
      "source": [
        "# create combined city_state column\n",
        "\n",
        "stations_locations['city_state'] = stations_locations['city'] + ',' + \" \" + stations_locations['state_rev']"
      ],
      "metadata": {
        "id": "0Zm1jH3tdzTP"
      },
      "execution_count": 9,
      "outputs": []
    },
    {
      "cell_type": "code",
      "source": [
        "stations_locations.columns"
      ],
      "metadata": {
        "colab": {
          "base_uri": "https://localhost:8080/"
        },
        "id": "iBRW7yFee00d",
        "outputId": "9b6e9b68-4ada-41dd-b33e-4fb464936e8c"
      },
      "execution_count": 10,
      "outputs": [
        {
          "output_type": "execute_result",
          "data": {
            "text/plain": [
              "Index(['x', 'y', 'objectid_1', 'objectid', 'station_descripton',\n",
              "       'bus_or_train', 'zip_code', 'state', 'city', 'address_2', 'address_1',\n",
              "       'name', 'code', 'station_name', 'state_rev', 'full_address',\n",
              "       'longitude', 'latitude', 'city_state'],\n",
              "      dtype='object')"
            ]
          },
          "metadata": {},
          "execution_count": 10
        }
      ]
    },
    {
      "cell_type": "code",
      "source": [
        "# keep only columns needed for merge\n",
        "\n",
        "stations_locations = stations_locations[['code','city_state','latitude','longitude']]"
      ],
      "metadata": {
        "id": "JPZI9v1XeDMe"
      },
      "execution_count": 11,
      "outputs": []
    },
    {
      "cell_type": "code",
      "source": [
        "stations_locations.shape"
      ],
      "metadata": {
        "colab": {
          "base_uri": "https://localhost:8080/"
        },
        "id": "nvyxf_TDfDSx",
        "outputId": "a6d5b1ef-84f9-4772-dd01-d4bc8b4bf286"
      },
      "execution_count": 12,
      "outputs": [
        {
          "output_type": "execute_result",
          "data": {
            "text/plain": [
              "(540, 4)"
            ]
          },
          "metadata": {},
          "execution_count": 12
        }
      ]
    },
    {
      "cell_type": "markdown",
      "source": [
        "Read in train stations combos data"
      ],
      "metadata": {
        "id": "4Q7rtHRigAiT"
      }
    },
    {
      "cell_type": "code",
      "source": [
        "with open('train_stations_combos_df_gmaps.pkl','rb') as fid:\n",
        "  stations_combos_df = pickle.load(fid)"
      ],
      "metadata": {
        "id": "ecumhkh_gB4O"
      },
      "execution_count": 13,
      "outputs": []
    },
    {
      "cell_type": "code",
      "source": [
        "stations_combos_df.head(2)"
      ],
      "metadata": {
        "colab": {
          "base_uri": "https://localhost:8080/",
          "height": 112
        },
        "id": "3SXrUem5MOkC",
        "outputId": "1f021d69-2338-4b41-a2c6-05b62f0e1662"
      },
      "execution_count": 14,
      "outputs": [
        {
          "output_type": "execute_result",
          "data": {
            "text/plain": [
              "  station_1_code station_1_name         station_1_coords station_2_code  \\\n",
              "0            BOS     Boston, MA  (42.348695, -71.059861)            BOS   \n",
              "1            BOS     Boston, MA  (42.348695, -71.059861)            RTE   \n",
              "\n",
              "  station_2_name          station_2_coords  distance_mi  route  \n",
              "0     Boston, MA   (42.348695, -71.059861)     0.000000  Acela  \n",
              "1  Route 128, MA  (42.2111905, -71.148665)    17.250466  Acela  "
            ],
            "text/html": [
              "\n",
              "  <div id=\"df-b5ecdf12-77dd-434e-b439-179804737fd5\">\n",
              "    <div class=\"colab-df-container\">\n",
              "      <div>\n",
              "<style scoped>\n",
              "    .dataframe tbody tr th:only-of-type {\n",
              "        vertical-align: middle;\n",
              "    }\n",
              "\n",
              "    .dataframe tbody tr th {\n",
              "        vertical-align: top;\n",
              "    }\n",
              "\n",
              "    .dataframe thead th {\n",
              "        text-align: right;\n",
              "    }\n",
              "</style>\n",
              "<table border=\"1\" class=\"dataframe\">\n",
              "  <thead>\n",
              "    <tr style=\"text-align: right;\">\n",
              "      <th></th>\n",
              "      <th>station_1_code</th>\n",
              "      <th>station_1_name</th>\n",
              "      <th>station_1_coords</th>\n",
              "      <th>station_2_code</th>\n",
              "      <th>station_2_name</th>\n",
              "      <th>station_2_coords</th>\n",
              "      <th>distance_mi</th>\n",
              "      <th>route</th>\n",
              "    </tr>\n",
              "  </thead>\n",
              "  <tbody>\n",
              "    <tr>\n",
              "      <th>0</th>\n",
              "      <td>BOS</td>\n",
              "      <td>Boston, MA</td>\n",
              "      <td>(42.348695, -71.059861)</td>\n",
              "      <td>BOS</td>\n",
              "      <td>Boston, MA</td>\n",
              "      <td>(42.348695, -71.059861)</td>\n",
              "      <td>0.000000</td>\n",
              "      <td>Acela</td>\n",
              "    </tr>\n",
              "    <tr>\n",
              "      <th>1</th>\n",
              "      <td>BOS</td>\n",
              "      <td>Boston, MA</td>\n",
              "      <td>(42.348695, -71.059861)</td>\n",
              "      <td>RTE</td>\n",
              "      <td>Route 128, MA</td>\n",
              "      <td>(42.2111905, -71.148665)</td>\n",
              "      <td>17.250466</td>\n",
              "      <td>Acela</td>\n",
              "    </tr>\n",
              "  </tbody>\n",
              "</table>\n",
              "</div>\n",
              "      <button class=\"colab-df-convert\" onclick=\"convertToInteractive('df-b5ecdf12-77dd-434e-b439-179804737fd5')\"\n",
              "              title=\"Convert this dataframe to an interactive table.\"\n",
              "              style=\"display:none;\">\n",
              "        \n",
              "  <svg xmlns=\"http://www.w3.org/2000/svg\" height=\"24px\"viewBox=\"0 0 24 24\"\n",
              "       width=\"24px\">\n",
              "    <path d=\"M0 0h24v24H0V0z\" fill=\"none\"/>\n",
              "    <path d=\"M18.56 5.44l.94 2.06.94-2.06 2.06-.94-2.06-.94-.94-2.06-.94 2.06-2.06.94zm-11 1L8.5 8.5l.94-2.06 2.06-.94-2.06-.94L8.5 2.5l-.94 2.06-2.06.94zm10 10l.94 2.06.94-2.06 2.06-.94-2.06-.94-.94-2.06-.94 2.06-2.06.94z\"/><path d=\"M17.41 7.96l-1.37-1.37c-.4-.4-.92-.59-1.43-.59-.52 0-1.04.2-1.43.59L10.3 9.45l-7.72 7.72c-.78.78-.78 2.05 0 2.83L4 21.41c.39.39.9.59 1.41.59.51 0 1.02-.2 1.41-.59l7.78-7.78 2.81-2.81c.8-.78.8-2.07 0-2.86zM5.41 20L4 18.59l7.72-7.72 1.47 1.35L5.41 20z\"/>\n",
              "  </svg>\n",
              "      </button>\n",
              "      \n",
              "  <style>\n",
              "    .colab-df-container {\n",
              "      display:flex;\n",
              "      flex-wrap:wrap;\n",
              "      gap: 12px;\n",
              "    }\n",
              "\n",
              "    .colab-df-convert {\n",
              "      background-color: #E8F0FE;\n",
              "      border: none;\n",
              "      border-radius: 50%;\n",
              "      cursor: pointer;\n",
              "      display: none;\n",
              "      fill: #1967D2;\n",
              "      height: 32px;\n",
              "      padding: 0 0 0 0;\n",
              "      width: 32px;\n",
              "    }\n",
              "\n",
              "    .colab-df-convert:hover {\n",
              "      background-color: #E2EBFA;\n",
              "      box-shadow: 0px 1px 2px rgba(60, 64, 67, 0.3), 0px 1px 3px 1px rgba(60, 64, 67, 0.15);\n",
              "      fill: #174EA6;\n",
              "    }\n",
              "\n",
              "    [theme=dark] .colab-df-convert {\n",
              "      background-color: #3B4455;\n",
              "      fill: #D2E3FC;\n",
              "    }\n",
              "\n",
              "    [theme=dark] .colab-df-convert:hover {\n",
              "      background-color: #434B5C;\n",
              "      box-shadow: 0px 1px 3px 1px rgba(0, 0, 0, 0.15);\n",
              "      filter: drop-shadow(0px 1px 2px rgba(0, 0, 0, 0.3));\n",
              "      fill: #FFFFFF;\n",
              "    }\n",
              "  </style>\n",
              "\n",
              "      <script>\n",
              "        const buttonEl =\n",
              "          document.querySelector('#df-b5ecdf12-77dd-434e-b439-179804737fd5 button.colab-df-convert');\n",
              "        buttonEl.style.display =\n",
              "          google.colab.kernel.accessAllowed ? 'block' : 'none';\n",
              "\n",
              "        async function convertToInteractive(key) {\n",
              "          const element = document.querySelector('#df-b5ecdf12-77dd-434e-b439-179804737fd5');\n",
              "          const dataTable =\n",
              "            await google.colab.kernel.invokeFunction('convertToInteractive',\n",
              "                                                     [key], {});\n",
              "          if (!dataTable) return;\n",
              "\n",
              "          const docLinkHtml = 'Like what you see? Visit the ' +\n",
              "            '<a target=\"_blank\" href=https://colab.research.google.com/notebooks/data_table.ipynb>data table notebook</a>'\n",
              "            + ' to learn more about interactive tables.';\n",
              "          element.innerHTML = '';\n",
              "          dataTable['output_type'] = 'display_data';\n",
              "          await google.colab.output.renderOutput(dataTable, element);\n",
              "          const docLink = document.createElement('div');\n",
              "          docLink.innerHTML = docLinkHtml;\n",
              "          element.appendChild(docLink);\n",
              "        }\n",
              "      </script>\n",
              "    </div>\n",
              "  </div>\n",
              "  "
            ]
          },
          "metadata": {},
          "execution_count": 14
        }
      ]
    },
    {
      "cell_type": "markdown",
      "source": [
        "Read in routes locations and clean it up data"
      ],
      "metadata": {
        "id": "68lHTDtqd5WU"
      }
    },
    {
      "cell_type": "code",
      "source": [
        "with open('routes_locations_df.pkl','rb') as fid:\n",
        "  routes_locations_df = pickle.load(fid)"
      ],
      "metadata": {
        "id": "L6uQOfi5d8Pf"
      },
      "execution_count": 15,
      "outputs": []
    },
    {
      "cell_type": "code",
      "source": [
        "# convert lists of locations to strings\n",
        "\n",
        "list_to_string = lambda x: \"; \".join(x)\n",
        "\n",
        "routes_locations_df['locations_per_route_str'] = routes_locations_df['locations_per_route'].map(list_to_string)"
      ],
      "metadata": {
        "id": "y1TXsSLelu0x"
      },
      "execution_count": 16,
      "outputs": []
    },
    {
      "cell_type": "code",
      "source": [
        "# create new column that combines route and its locations\n",
        "\n",
        "routes_locations_df['route_locations'] = routes_locations_df['route'] + ': ' + routes_locations_df['locations_per_route_str']"
      ],
      "metadata": {
        "id": "7QTekhT2l17v"
      },
      "execution_count": 17,
      "outputs": []
    },
    {
      "cell_type": "code",
      "source": [
        "# drop columns locations_per_route and locations_per_route_str\n",
        "\n",
        "routes_locations_df = routes_locations_df.drop(columns=['locations_per_route','locations_per_route_str'],axis=1)"
      ],
      "metadata": {
        "id": "x5rRw7xEmBCa"
      },
      "execution_count": 18,
      "outputs": []
    },
    {
      "cell_type": "code",
      "source": [
        "# add a color column\n",
        "\n",
        "routes_locations_df['color'] = '#ed1c24'"
      ],
      "metadata": {
        "id": "jmi0xNI1pGJz"
      },
      "execution_count": 19,
      "outputs": []
    },
    {
      "cell_type": "code",
      "source": [
        "routes_locations_df.tail()"
      ],
      "metadata": {
        "colab": {
          "base_uri": "https://localhost:8080/",
          "height": 206
        },
        "id": "nHvlkTheLLY1",
        "outputId": "490317ea-7242-4507-d153-3ffbe5d97ece"
      },
      "execution_count": 20,
      "outputs": [
        {
          "output_type": "execute_result",
          "data": {
            "text/plain": [
              "             route                                    coordinates_rev  \\\n",
              "37  Sunset Limited  [[-90.0795131, 29.9465427], [-90.8133297, 29.7...   \n",
              "38     Texas Eagle  [[-87.6403072, 41.8786625], [-88.0788927, 41.5...   \n",
              "39    Valley Flyer  [[-72.600656, 42.5858644], [-72.6274835, 42.31...   \n",
              "40       Vermonter  [[-73.0860737, 44.8122767], [-73.1101592, 44.4...   \n",
              "41       Wolverine  [[-87.6403072, 41.8786625], [-87.5066324, 41.6...   \n",
              "\n",
              "                                      route_locations    color  \n",
              "37  Sunset Limited: New Orleans, LA; Schriever, LA...  #ed1c24  \n",
              "38  Texas Eagle: Chicago, IL; Joliet, IL; Pontiac,...  #ed1c24  \n",
              "39  Valley Flyer: Greenfield, MA; Northampton, MA;...  #ed1c24  \n",
              "40  Vermonter: St. Albans, VT; Essex Junction-Burl...  #ed1c24  \n",
              "41  Wolverine: Chicago, IL; Hammond-Whiting, IN; M...  #ed1c24  "
            ],
            "text/html": [
              "\n",
              "  <div id=\"df-a99b4935-1276-4cab-9078-479ecbbe3706\">\n",
              "    <div class=\"colab-df-container\">\n",
              "      <div>\n",
              "<style scoped>\n",
              "    .dataframe tbody tr th:only-of-type {\n",
              "        vertical-align: middle;\n",
              "    }\n",
              "\n",
              "    .dataframe tbody tr th {\n",
              "        vertical-align: top;\n",
              "    }\n",
              "\n",
              "    .dataframe thead th {\n",
              "        text-align: right;\n",
              "    }\n",
              "</style>\n",
              "<table border=\"1\" class=\"dataframe\">\n",
              "  <thead>\n",
              "    <tr style=\"text-align: right;\">\n",
              "      <th></th>\n",
              "      <th>route</th>\n",
              "      <th>coordinates_rev</th>\n",
              "      <th>route_locations</th>\n",
              "      <th>color</th>\n",
              "    </tr>\n",
              "  </thead>\n",
              "  <tbody>\n",
              "    <tr>\n",
              "      <th>37</th>\n",
              "      <td>Sunset Limited</td>\n",
              "      <td>[[-90.0795131, 29.9465427], [-90.8133297, 29.7...</td>\n",
              "      <td>Sunset Limited: New Orleans, LA; Schriever, LA...</td>\n",
              "      <td>#ed1c24</td>\n",
              "    </tr>\n",
              "    <tr>\n",
              "      <th>38</th>\n",
              "      <td>Texas Eagle</td>\n",
              "      <td>[[-87.6403072, 41.8786625], [-88.0788927, 41.5...</td>\n",
              "      <td>Texas Eagle: Chicago, IL; Joliet, IL; Pontiac,...</td>\n",
              "      <td>#ed1c24</td>\n",
              "    </tr>\n",
              "    <tr>\n",
              "      <th>39</th>\n",
              "      <td>Valley Flyer</td>\n",
              "      <td>[[-72.600656, 42.5858644], [-72.6274835, 42.31...</td>\n",
              "      <td>Valley Flyer: Greenfield, MA; Northampton, MA;...</td>\n",
              "      <td>#ed1c24</td>\n",
              "    </tr>\n",
              "    <tr>\n",
              "      <th>40</th>\n",
              "      <td>Vermonter</td>\n",
              "      <td>[[-73.0860737, 44.8122767], [-73.1101592, 44.4...</td>\n",
              "      <td>Vermonter: St. Albans, VT; Essex Junction-Burl...</td>\n",
              "      <td>#ed1c24</td>\n",
              "    </tr>\n",
              "    <tr>\n",
              "      <th>41</th>\n",
              "      <td>Wolverine</td>\n",
              "      <td>[[-87.6403072, 41.8786625], [-87.5066324, 41.6...</td>\n",
              "      <td>Wolverine: Chicago, IL; Hammond-Whiting, IN; M...</td>\n",
              "      <td>#ed1c24</td>\n",
              "    </tr>\n",
              "  </tbody>\n",
              "</table>\n",
              "</div>\n",
              "      <button class=\"colab-df-convert\" onclick=\"convertToInteractive('df-a99b4935-1276-4cab-9078-479ecbbe3706')\"\n",
              "              title=\"Convert this dataframe to an interactive table.\"\n",
              "              style=\"display:none;\">\n",
              "        \n",
              "  <svg xmlns=\"http://www.w3.org/2000/svg\" height=\"24px\"viewBox=\"0 0 24 24\"\n",
              "       width=\"24px\">\n",
              "    <path d=\"M0 0h24v24H0V0z\" fill=\"none\"/>\n",
              "    <path d=\"M18.56 5.44l.94 2.06.94-2.06 2.06-.94-2.06-.94-.94-2.06-.94 2.06-2.06.94zm-11 1L8.5 8.5l.94-2.06 2.06-.94-2.06-.94L8.5 2.5l-.94 2.06-2.06.94zm10 10l.94 2.06.94-2.06 2.06-.94-2.06-.94-.94-2.06-.94 2.06-2.06.94z\"/><path d=\"M17.41 7.96l-1.37-1.37c-.4-.4-.92-.59-1.43-.59-.52 0-1.04.2-1.43.59L10.3 9.45l-7.72 7.72c-.78.78-.78 2.05 0 2.83L4 21.41c.39.39.9.59 1.41.59.51 0 1.02-.2 1.41-.59l7.78-7.78 2.81-2.81c.8-.78.8-2.07 0-2.86zM5.41 20L4 18.59l7.72-7.72 1.47 1.35L5.41 20z\"/>\n",
              "  </svg>\n",
              "      </button>\n",
              "      \n",
              "  <style>\n",
              "    .colab-df-container {\n",
              "      display:flex;\n",
              "      flex-wrap:wrap;\n",
              "      gap: 12px;\n",
              "    }\n",
              "\n",
              "    .colab-df-convert {\n",
              "      background-color: #E8F0FE;\n",
              "      border: none;\n",
              "      border-radius: 50%;\n",
              "      cursor: pointer;\n",
              "      display: none;\n",
              "      fill: #1967D2;\n",
              "      height: 32px;\n",
              "      padding: 0 0 0 0;\n",
              "      width: 32px;\n",
              "    }\n",
              "\n",
              "    .colab-df-convert:hover {\n",
              "      background-color: #E2EBFA;\n",
              "      box-shadow: 0px 1px 2px rgba(60, 64, 67, 0.3), 0px 1px 3px 1px rgba(60, 64, 67, 0.15);\n",
              "      fill: #174EA6;\n",
              "    }\n",
              "\n",
              "    [theme=dark] .colab-df-convert {\n",
              "      background-color: #3B4455;\n",
              "      fill: #D2E3FC;\n",
              "    }\n",
              "\n",
              "    [theme=dark] .colab-df-convert:hover {\n",
              "      background-color: #434B5C;\n",
              "      box-shadow: 0px 1px 3px 1px rgba(0, 0, 0, 0.15);\n",
              "      filter: drop-shadow(0px 1px 2px rgba(0, 0, 0, 0.3));\n",
              "      fill: #FFFFFF;\n",
              "    }\n",
              "  </style>\n",
              "\n",
              "      <script>\n",
              "        const buttonEl =\n",
              "          document.querySelector('#df-a99b4935-1276-4cab-9078-479ecbbe3706 button.colab-df-convert');\n",
              "        buttonEl.style.display =\n",
              "          google.colab.kernel.accessAllowed ? 'block' : 'none';\n",
              "\n",
              "        async function convertToInteractive(key) {\n",
              "          const element = document.querySelector('#df-a99b4935-1276-4cab-9078-479ecbbe3706');\n",
              "          const dataTable =\n",
              "            await google.colab.kernel.invokeFunction('convertToInteractive',\n",
              "                                                     [key], {});\n",
              "          if (!dataTable) return;\n",
              "\n",
              "          const docLinkHtml = 'Like what you see? Visit the ' +\n",
              "            '<a target=\"_blank\" href=https://colab.research.google.com/notebooks/data_table.ipynb>data table notebook</a>'\n",
              "            + ' to learn more about interactive tables.';\n",
              "          element.innerHTML = '';\n",
              "          dataTable['output_type'] = 'display_data';\n",
              "          await google.colab.output.renderOutput(dataTable, element);\n",
              "          const docLink = document.createElement('div');\n",
              "          docLink.innerHTML = docLinkHtml;\n",
              "          element.appendChild(docLink);\n",
              "        }\n",
              "      </script>\n",
              "    </div>\n",
              "  </div>\n",
              "  "
            ]
          },
          "metadata": {},
          "execution_count": 20
        }
      ]
    },
    {
      "cell_type": "markdown",
      "source": [
        "Download csv of routes_locations_df for map in streamlit app"
      ],
      "metadata": {
        "id": "lzhveZMOSsP2"
      }
    },
    {
      "cell_type": "code",
      "source": [
        "# routes_locations_df.to_csv('routes_locations.csv',index=False)\n",
        "# from google.colab import files\n",
        "# files.download(\"routes_locations.csv\")"
      ],
      "metadata": {
        "colab": {
          "base_uri": "https://localhost:8080/",
          "height": 17
        },
        "id": "pKD902b-StuW",
        "outputId": "fcfd1038-f7d2-4a3d-c286-5e98069bdff7"
      },
      "execution_count": null,
      "outputs": [
        {
          "output_type": "display_data",
          "data": {
            "text/plain": [
              "<IPython.core.display.Javascript object>"
            ],
            "application/javascript": [
              "\n",
              "    async function download(id, filename, size) {\n",
              "      if (!google.colab.kernel.accessAllowed) {\n",
              "        return;\n",
              "      }\n",
              "      const div = document.createElement('div');\n",
              "      const label = document.createElement('label');\n",
              "      label.textContent = `Downloading \"${filename}\": `;\n",
              "      div.appendChild(label);\n",
              "      const progress = document.createElement('progress');\n",
              "      progress.max = size;\n",
              "      div.appendChild(progress);\n",
              "      document.body.appendChild(div);\n",
              "\n",
              "      const buffers = [];\n",
              "      let downloaded = 0;\n",
              "\n",
              "      const channel = await google.colab.kernel.comms.open(id);\n",
              "      // Send a message to notify the kernel that we're ready.\n",
              "      channel.send({})\n",
              "\n",
              "      for await (const message of channel.messages) {\n",
              "        // Send a message to notify the kernel that we're ready.\n",
              "        channel.send({})\n",
              "        if (message.buffers) {\n",
              "          for (const buffer of message.buffers) {\n",
              "            buffers.push(buffer);\n",
              "            downloaded += buffer.byteLength;\n",
              "            progress.value = downloaded;\n",
              "          }\n",
              "        }\n",
              "      }\n",
              "      const blob = new Blob(buffers, {type: 'application/binary'});\n",
              "      const a = document.createElement('a');\n",
              "      a.href = window.URL.createObjectURL(blob);\n",
              "      a.download = filename;\n",
              "      div.appendChild(a);\n",
              "      a.click();\n",
              "      div.remove();\n",
              "    }\n",
              "  "
            ]
          },
          "metadata": {}
        },
        {
          "output_type": "display_data",
          "data": {
            "text/plain": [
              "<IPython.core.display.Javascript object>"
            ],
            "application/javascript": [
              "download(\"download_5e507d42-d91f-4b7a-a22c-bebebafa93f0\", \"routes_locations.csv\", 37374)"
            ]
          },
          "metadata": {}
        }
      ]
    },
    {
      "cell_type": "markdown",
      "source": [
        "Read in pickled train emissions data"
      ],
      "metadata": {
        "id": "4qNXo8J0eOED"
      }
    },
    {
      "cell_type": "code",
      "source": [
        "with open('climatiq_train_responses_dict_2_gmaps.pkl','rb') as fid:\n",
        "  train_responses_dict = pickle.load(fid)"
      ],
      "metadata": {
        "id": "JdX8_XPXegV4"
      },
      "execution_count": 21,
      "outputs": []
    },
    {
      "cell_type": "markdown",
      "source": [
        "Convert train emissions data to dataframe and merge with station combos"
      ],
      "metadata": {
        "id": "sYI3cpQFmDZS"
      }
    },
    {
      "cell_type": "code",
      "source": [
        "train_responses_dict_vals = train_responses_dict.values()\n",
        "climatiq_df = pd.json_normalize(train_responses_dict_vals)\n",
        "stations_combos_c02 = pd.concat([stations_combos_df, climatiq_df], axis=1)\n",
        "stations_combos_c02.shape"
      ],
      "metadata": {
        "colab": {
          "base_uri": "https://localhost:8080/"
        },
        "id": "6Xf84hYq6kW3",
        "outputId": "07d0f2ee-4769-444e-abb0-6aebaef1062d"
      },
      "execution_count": 22,
      "outputs": [
        {
          "output_type": "execute_result",
          "data": {
            "text/plain": [
              "(842, 16)"
            ]
          },
          "metadata": {},
          "execution_count": 22
        }
      ]
    },
    {
      "cell_type": "markdown",
      "source": [
        "Merge stations locations df with routes locations df"
      ],
      "metadata": {
        "id": "kNDPcDodeZst"
      }
    },
    {
      "cell_type": "code",
      "source": [
        "stations_combos_c02 = stations_combos_c02.merge(routes_locations_df, how='left', on='route')"
      ],
      "metadata": {
        "id": "Iuyyc6YWeYX_"
      },
      "execution_count": 23,
      "outputs": []
    },
    {
      "cell_type": "markdown",
      "source": [
        "Merge stations locations df with stations combos co2 df to pull in location data for origin station"
      ],
      "metadata": {
        "id": "ec7LpQ6Qdi_B"
      }
    },
    {
      "cell_type": "code",
      "source": [
        "stations_combos_c02_locs = stations_combos_c02.merge(stations_locations, how='left', left_on='station_1_code', right_on='code')"
      ],
      "metadata": {
        "id": "UZTBUgKpfYUa"
      },
      "execution_count": 24,
      "outputs": []
    },
    {
      "cell_type": "code",
      "source": [
        "stations_combos_c02_locs.head(2)"
      ],
      "metadata": {
        "colab": {
          "base_uri": "https://localhost:8080/",
          "height": 309
        },
        "id": "iWwoeRTTfxLL",
        "outputId": "4b27f1f5-b357-4f3c-fd35-710d0bfec312"
      },
      "execution_count": 25,
      "outputs": [
        {
          "output_type": "execute_result",
          "data": {
            "text/plain": [
              "  station_1_code station_1_name         station_1_coords station_2_code  \\\n",
              "0            BOS     Boston, MA  (42.348695, -71.059861)            BOS   \n",
              "1            BOS     Boston, MA  (42.348695, -71.059861)            RTE   \n",
              "\n",
              "  station_2_name          station_2_coords  distance_mi  route      co2e  \\\n",
              "0     Boston, MA   (42.348695, -71.059861)     0.000000  Acela  0.000000   \n",
              "1  Route 128, MA  (42.2111905, -71.148665)    17.250466  Acela  3.143035   \n",
              "\n",
              "  co2e_unit  ... region     category lca_activity  \\\n",
              "0        kg  ...     US  Rail Travel  unspecified   \n",
              "1        kg  ...     US  Rail Travel  unspecified   \n",
              "\n",
              "                                     coordinates_rev  \\\n",
              "0  [[-71.059861, 42.348695], [-71.148665, 42.2111...   \n",
              "1  [[-71.059861, 42.348695], [-71.148665, 42.2111...   \n",
              "\n",
              "                                     route_locations    color code  \\\n",
              "0  Acela: Boston, MA; Route 128, MA; Providence, ...  #ed1c24  BOS   \n",
              "1  Acela: Boston, MA; Route 128, MA; Providence, ...  #ed1c24  BOS   \n",
              "\n",
              "              city_state   latitude  longitude  \n",
              "0  Boston, Massachusetts  42.348695 -71.059861  \n",
              "1  Boston, Massachusetts  42.348695 -71.059861  \n",
              "\n",
              "[2 rows x 23 columns]"
            ],
            "text/html": [
              "\n",
              "  <div id=\"df-a30774d0-623f-4db0-a804-8f5c05324bc7\">\n",
              "    <div class=\"colab-df-container\">\n",
              "      <div>\n",
              "<style scoped>\n",
              "    .dataframe tbody tr th:only-of-type {\n",
              "        vertical-align: middle;\n",
              "    }\n",
              "\n",
              "    .dataframe tbody tr th {\n",
              "        vertical-align: top;\n",
              "    }\n",
              "\n",
              "    .dataframe thead th {\n",
              "        text-align: right;\n",
              "    }\n",
              "</style>\n",
              "<table border=\"1\" class=\"dataframe\">\n",
              "  <thead>\n",
              "    <tr style=\"text-align: right;\">\n",
              "      <th></th>\n",
              "      <th>station_1_code</th>\n",
              "      <th>station_1_name</th>\n",
              "      <th>station_1_coords</th>\n",
              "      <th>station_2_code</th>\n",
              "      <th>station_2_name</th>\n",
              "      <th>station_2_coords</th>\n",
              "      <th>distance_mi</th>\n",
              "      <th>route</th>\n",
              "      <th>co2e</th>\n",
              "      <th>co2e_unit</th>\n",
              "      <th>...</th>\n",
              "      <th>region</th>\n",
              "      <th>category</th>\n",
              "      <th>lca_activity</th>\n",
              "      <th>coordinates_rev</th>\n",
              "      <th>route_locations</th>\n",
              "      <th>color</th>\n",
              "      <th>code</th>\n",
              "      <th>city_state</th>\n",
              "      <th>latitude</th>\n",
              "      <th>longitude</th>\n",
              "    </tr>\n",
              "  </thead>\n",
              "  <tbody>\n",
              "    <tr>\n",
              "      <th>0</th>\n",
              "      <td>BOS</td>\n",
              "      <td>Boston, MA</td>\n",
              "      <td>(42.348695, -71.059861)</td>\n",
              "      <td>BOS</td>\n",
              "      <td>Boston, MA</td>\n",
              "      <td>(42.348695, -71.059861)</td>\n",
              "      <td>0.000000</td>\n",
              "      <td>Acela</td>\n",
              "      <td>0.000000</td>\n",
              "      <td>kg</td>\n",
              "      <td>...</td>\n",
              "      <td>US</td>\n",
              "      <td>Rail Travel</td>\n",
              "      <td>unspecified</td>\n",
              "      <td>[[-71.059861, 42.348695], [-71.148665, 42.2111...</td>\n",
              "      <td>Acela: Boston, MA; Route 128, MA; Providence, ...</td>\n",
              "      <td>#ed1c24</td>\n",
              "      <td>BOS</td>\n",
              "      <td>Boston, Massachusetts</td>\n",
              "      <td>42.348695</td>\n",
              "      <td>-71.059861</td>\n",
              "    </tr>\n",
              "    <tr>\n",
              "      <th>1</th>\n",
              "      <td>BOS</td>\n",
              "      <td>Boston, MA</td>\n",
              "      <td>(42.348695, -71.059861)</td>\n",
              "      <td>RTE</td>\n",
              "      <td>Route 128, MA</td>\n",
              "      <td>(42.2111905, -71.148665)</td>\n",
              "      <td>17.250466</td>\n",
              "      <td>Acela</td>\n",
              "      <td>3.143035</td>\n",
              "      <td>kg</td>\n",
              "      <td>...</td>\n",
              "      <td>US</td>\n",
              "      <td>Rail Travel</td>\n",
              "      <td>unspecified</td>\n",
              "      <td>[[-71.059861, 42.348695], [-71.148665, 42.2111...</td>\n",
              "      <td>Acela: Boston, MA; Route 128, MA; Providence, ...</td>\n",
              "      <td>#ed1c24</td>\n",
              "      <td>BOS</td>\n",
              "      <td>Boston, Massachusetts</td>\n",
              "      <td>42.348695</td>\n",
              "      <td>-71.059861</td>\n",
              "    </tr>\n",
              "  </tbody>\n",
              "</table>\n",
              "<p>2 rows × 23 columns</p>\n",
              "</div>\n",
              "      <button class=\"colab-df-convert\" onclick=\"convertToInteractive('df-a30774d0-623f-4db0-a804-8f5c05324bc7')\"\n",
              "              title=\"Convert this dataframe to an interactive table.\"\n",
              "              style=\"display:none;\">\n",
              "        \n",
              "  <svg xmlns=\"http://www.w3.org/2000/svg\" height=\"24px\"viewBox=\"0 0 24 24\"\n",
              "       width=\"24px\">\n",
              "    <path d=\"M0 0h24v24H0V0z\" fill=\"none\"/>\n",
              "    <path d=\"M18.56 5.44l.94 2.06.94-2.06 2.06-.94-2.06-.94-.94-2.06-.94 2.06-2.06.94zm-11 1L8.5 8.5l.94-2.06 2.06-.94-2.06-.94L8.5 2.5l-.94 2.06-2.06.94zm10 10l.94 2.06.94-2.06 2.06-.94-2.06-.94-.94-2.06-.94 2.06-2.06.94z\"/><path d=\"M17.41 7.96l-1.37-1.37c-.4-.4-.92-.59-1.43-.59-.52 0-1.04.2-1.43.59L10.3 9.45l-7.72 7.72c-.78.78-.78 2.05 0 2.83L4 21.41c.39.39.9.59 1.41.59.51 0 1.02-.2 1.41-.59l7.78-7.78 2.81-2.81c.8-.78.8-2.07 0-2.86zM5.41 20L4 18.59l7.72-7.72 1.47 1.35L5.41 20z\"/>\n",
              "  </svg>\n",
              "      </button>\n",
              "      \n",
              "  <style>\n",
              "    .colab-df-container {\n",
              "      display:flex;\n",
              "      flex-wrap:wrap;\n",
              "      gap: 12px;\n",
              "    }\n",
              "\n",
              "    .colab-df-convert {\n",
              "      background-color: #E8F0FE;\n",
              "      border: none;\n",
              "      border-radius: 50%;\n",
              "      cursor: pointer;\n",
              "      display: none;\n",
              "      fill: #1967D2;\n",
              "      height: 32px;\n",
              "      padding: 0 0 0 0;\n",
              "      width: 32px;\n",
              "    }\n",
              "\n",
              "    .colab-df-convert:hover {\n",
              "      background-color: #E2EBFA;\n",
              "      box-shadow: 0px 1px 2px rgba(60, 64, 67, 0.3), 0px 1px 3px 1px rgba(60, 64, 67, 0.15);\n",
              "      fill: #174EA6;\n",
              "    }\n",
              "\n",
              "    [theme=dark] .colab-df-convert {\n",
              "      background-color: #3B4455;\n",
              "      fill: #D2E3FC;\n",
              "    }\n",
              "\n",
              "    [theme=dark] .colab-df-convert:hover {\n",
              "      background-color: #434B5C;\n",
              "      box-shadow: 0px 1px 3px 1px rgba(0, 0, 0, 0.15);\n",
              "      filter: drop-shadow(0px 1px 2px rgba(0, 0, 0, 0.3));\n",
              "      fill: #FFFFFF;\n",
              "    }\n",
              "  </style>\n",
              "\n",
              "      <script>\n",
              "        const buttonEl =\n",
              "          document.querySelector('#df-a30774d0-623f-4db0-a804-8f5c05324bc7 button.colab-df-convert');\n",
              "        buttonEl.style.display =\n",
              "          google.colab.kernel.accessAllowed ? 'block' : 'none';\n",
              "\n",
              "        async function convertToInteractive(key) {\n",
              "          const element = document.querySelector('#df-a30774d0-623f-4db0-a804-8f5c05324bc7');\n",
              "          const dataTable =\n",
              "            await google.colab.kernel.invokeFunction('convertToInteractive',\n",
              "                                                     [key], {});\n",
              "          if (!dataTable) return;\n",
              "\n",
              "          const docLinkHtml = 'Like what you see? Visit the ' +\n",
              "            '<a target=\"_blank\" href=https://colab.research.google.com/notebooks/data_table.ipynb>data table notebook</a>'\n",
              "            + ' to learn more about interactive tables.';\n",
              "          element.innerHTML = '';\n",
              "          dataTable['output_type'] = 'display_data';\n",
              "          await google.colab.output.renderOutput(dataTable, element);\n",
              "          const docLink = document.createElement('div');\n",
              "          docLink.innerHTML = docLinkHtml;\n",
              "          element.appendChild(docLink);\n",
              "        }\n",
              "      </script>\n",
              "    </div>\n",
              "  </div>\n",
              "  "
            ]
          },
          "metadata": {},
          "execution_count": 25
        }
      ]
    },
    {
      "cell_type": "code",
      "source": [
        "# rename city_state, latitude and longitude columns so it's clear they correspond to the the origin station\n",
        "\n",
        "stations_combos_c02_locs.rename(columns={'city_state':'origin_location',\n",
        "                                         'latitude':'origin_lat',\n",
        "                                         'longitude':'origin_lon'},inplace=True)"
      ],
      "metadata": {
        "id": "4azTXPgdggka"
      },
      "execution_count": 26,
      "outputs": []
    },
    {
      "cell_type": "code",
      "source": [
        "# drop columns not needed\n",
        "stations_combos_c02_locs = stations_combos_c02_locs.drop(columns=['co2e_unit','id','source','year','region','category',\n",
        "                                                                  'lca_activity','code'])"
      ],
      "metadata": {
        "id": "d0tke-Xkfb3x"
      },
      "execution_count": 27,
      "outputs": []
    },
    {
      "cell_type": "markdown",
      "source": [
        "Merge stations locations df with stations combos co2 df to pull in location data for destination station"
      ],
      "metadata": {
        "id": "fWWyhhOJn6Cc"
      }
    },
    {
      "cell_type": "code",
      "source": [
        "stations_combos_c02_locs = stations_combos_c02_locs.merge(stations_locations, how='left', left_on='station_2_code', right_on='code')"
      ],
      "metadata": {
        "id": "1yTYI3PzhsCX"
      },
      "execution_count": 28,
      "outputs": []
    },
    {
      "cell_type": "code",
      "source": [
        "stations_combos_c02_locs.head(2)"
      ],
      "metadata": {
        "colab": {
          "base_uri": "https://localhost:8080/",
          "height": 280
        },
        "id": "KxrsaOucg_H7",
        "outputId": "9b4551f4-536c-49b9-fa9a-0554cceebfb0"
      },
      "execution_count": 29,
      "outputs": [
        {
          "output_type": "execute_result",
          "data": {
            "text/plain": [
              "  station_1_code station_1_name         station_1_coords station_2_code  \\\n",
              "0            BOS     Boston, MA  (42.348695, -71.059861)            BOS   \n",
              "1            BOS     Boston, MA  (42.348695, -71.059861)            RTE   \n",
              "\n",
              "  station_2_name          station_2_coords  distance_mi  route      co2e  \\\n",
              "0     Boston, MA   (42.348695, -71.059861)     0.000000  Acela  0.000000   \n",
              "1  Route 128, MA  (42.2111905, -71.148665)    17.250466  Acela  3.143035   \n",
              "\n",
              "                                     coordinates_rev  \\\n",
              "0  [[-71.059861, 42.348695], [-71.148665, 42.2111...   \n",
              "1  [[-71.059861, 42.348695], [-71.148665, 42.2111...   \n",
              "\n",
              "                                     route_locations    color  \\\n",
              "0  Acela: Boston, MA; Route 128, MA; Providence, ...  #ed1c24   \n",
              "1  Acela: Boston, MA; Route 128, MA; Providence, ...  #ed1c24   \n",
              "\n",
              "         origin_location origin_lat origin_lon code               city_state  \\\n",
              "0  Boston, Massachusetts  42.348695 -71.059861  BOS    Boston, Massachusetts   \n",
              "1  Boston, Massachusetts  42.348695 -71.059861  RTE  Westwood, Massachusetts   \n",
              "\n",
              "    latitude  longitude  \n",
              "0  42.348695 -71.059861  \n",
              "1  42.211191 -71.148665  "
            ],
            "text/html": [
              "\n",
              "  <div id=\"df-931f7faa-8b31-45a0-bac8-c9190a8d600c\">\n",
              "    <div class=\"colab-df-container\">\n",
              "      <div>\n",
              "<style scoped>\n",
              "    .dataframe tbody tr th:only-of-type {\n",
              "        vertical-align: middle;\n",
              "    }\n",
              "\n",
              "    .dataframe tbody tr th {\n",
              "        vertical-align: top;\n",
              "    }\n",
              "\n",
              "    .dataframe thead th {\n",
              "        text-align: right;\n",
              "    }\n",
              "</style>\n",
              "<table border=\"1\" class=\"dataframe\">\n",
              "  <thead>\n",
              "    <tr style=\"text-align: right;\">\n",
              "      <th></th>\n",
              "      <th>station_1_code</th>\n",
              "      <th>station_1_name</th>\n",
              "      <th>station_1_coords</th>\n",
              "      <th>station_2_code</th>\n",
              "      <th>station_2_name</th>\n",
              "      <th>station_2_coords</th>\n",
              "      <th>distance_mi</th>\n",
              "      <th>route</th>\n",
              "      <th>co2e</th>\n",
              "      <th>coordinates_rev</th>\n",
              "      <th>route_locations</th>\n",
              "      <th>color</th>\n",
              "      <th>origin_location</th>\n",
              "      <th>origin_lat</th>\n",
              "      <th>origin_lon</th>\n",
              "      <th>code</th>\n",
              "      <th>city_state</th>\n",
              "      <th>latitude</th>\n",
              "      <th>longitude</th>\n",
              "    </tr>\n",
              "  </thead>\n",
              "  <tbody>\n",
              "    <tr>\n",
              "      <th>0</th>\n",
              "      <td>BOS</td>\n",
              "      <td>Boston, MA</td>\n",
              "      <td>(42.348695, -71.059861)</td>\n",
              "      <td>BOS</td>\n",
              "      <td>Boston, MA</td>\n",
              "      <td>(42.348695, -71.059861)</td>\n",
              "      <td>0.000000</td>\n",
              "      <td>Acela</td>\n",
              "      <td>0.000000</td>\n",
              "      <td>[[-71.059861, 42.348695], [-71.148665, 42.2111...</td>\n",
              "      <td>Acela: Boston, MA; Route 128, MA; Providence, ...</td>\n",
              "      <td>#ed1c24</td>\n",
              "      <td>Boston, Massachusetts</td>\n",
              "      <td>42.348695</td>\n",
              "      <td>-71.059861</td>\n",
              "      <td>BOS</td>\n",
              "      <td>Boston, Massachusetts</td>\n",
              "      <td>42.348695</td>\n",
              "      <td>-71.059861</td>\n",
              "    </tr>\n",
              "    <tr>\n",
              "      <th>1</th>\n",
              "      <td>BOS</td>\n",
              "      <td>Boston, MA</td>\n",
              "      <td>(42.348695, -71.059861)</td>\n",
              "      <td>RTE</td>\n",
              "      <td>Route 128, MA</td>\n",
              "      <td>(42.2111905, -71.148665)</td>\n",
              "      <td>17.250466</td>\n",
              "      <td>Acela</td>\n",
              "      <td>3.143035</td>\n",
              "      <td>[[-71.059861, 42.348695], [-71.148665, 42.2111...</td>\n",
              "      <td>Acela: Boston, MA; Route 128, MA; Providence, ...</td>\n",
              "      <td>#ed1c24</td>\n",
              "      <td>Boston, Massachusetts</td>\n",
              "      <td>42.348695</td>\n",
              "      <td>-71.059861</td>\n",
              "      <td>RTE</td>\n",
              "      <td>Westwood, Massachusetts</td>\n",
              "      <td>42.211191</td>\n",
              "      <td>-71.148665</td>\n",
              "    </tr>\n",
              "  </tbody>\n",
              "</table>\n",
              "</div>\n",
              "      <button class=\"colab-df-convert\" onclick=\"convertToInteractive('df-931f7faa-8b31-45a0-bac8-c9190a8d600c')\"\n",
              "              title=\"Convert this dataframe to an interactive table.\"\n",
              "              style=\"display:none;\">\n",
              "        \n",
              "  <svg xmlns=\"http://www.w3.org/2000/svg\" height=\"24px\"viewBox=\"0 0 24 24\"\n",
              "       width=\"24px\">\n",
              "    <path d=\"M0 0h24v24H0V0z\" fill=\"none\"/>\n",
              "    <path d=\"M18.56 5.44l.94 2.06.94-2.06 2.06-.94-2.06-.94-.94-2.06-.94 2.06-2.06.94zm-11 1L8.5 8.5l.94-2.06 2.06-.94-2.06-.94L8.5 2.5l-.94 2.06-2.06.94zm10 10l.94 2.06.94-2.06 2.06-.94-2.06-.94-.94-2.06-.94 2.06-2.06.94z\"/><path d=\"M17.41 7.96l-1.37-1.37c-.4-.4-.92-.59-1.43-.59-.52 0-1.04.2-1.43.59L10.3 9.45l-7.72 7.72c-.78.78-.78 2.05 0 2.83L4 21.41c.39.39.9.59 1.41.59.51 0 1.02-.2 1.41-.59l7.78-7.78 2.81-2.81c.8-.78.8-2.07 0-2.86zM5.41 20L4 18.59l7.72-7.72 1.47 1.35L5.41 20z\"/>\n",
              "  </svg>\n",
              "      </button>\n",
              "      \n",
              "  <style>\n",
              "    .colab-df-container {\n",
              "      display:flex;\n",
              "      flex-wrap:wrap;\n",
              "      gap: 12px;\n",
              "    }\n",
              "\n",
              "    .colab-df-convert {\n",
              "      background-color: #E8F0FE;\n",
              "      border: none;\n",
              "      border-radius: 50%;\n",
              "      cursor: pointer;\n",
              "      display: none;\n",
              "      fill: #1967D2;\n",
              "      height: 32px;\n",
              "      padding: 0 0 0 0;\n",
              "      width: 32px;\n",
              "    }\n",
              "\n",
              "    .colab-df-convert:hover {\n",
              "      background-color: #E2EBFA;\n",
              "      box-shadow: 0px 1px 2px rgba(60, 64, 67, 0.3), 0px 1px 3px 1px rgba(60, 64, 67, 0.15);\n",
              "      fill: #174EA6;\n",
              "    }\n",
              "\n",
              "    [theme=dark] .colab-df-convert {\n",
              "      background-color: #3B4455;\n",
              "      fill: #D2E3FC;\n",
              "    }\n",
              "\n",
              "    [theme=dark] .colab-df-convert:hover {\n",
              "      background-color: #434B5C;\n",
              "      box-shadow: 0px 1px 3px 1px rgba(0, 0, 0, 0.15);\n",
              "      filter: drop-shadow(0px 1px 2px rgba(0, 0, 0, 0.3));\n",
              "      fill: #FFFFFF;\n",
              "    }\n",
              "  </style>\n",
              "\n",
              "      <script>\n",
              "        const buttonEl =\n",
              "          document.querySelector('#df-931f7faa-8b31-45a0-bac8-c9190a8d600c button.colab-df-convert');\n",
              "        buttonEl.style.display =\n",
              "          google.colab.kernel.accessAllowed ? 'block' : 'none';\n",
              "\n",
              "        async function convertToInteractive(key) {\n",
              "          const element = document.querySelector('#df-931f7faa-8b31-45a0-bac8-c9190a8d600c');\n",
              "          const dataTable =\n",
              "            await google.colab.kernel.invokeFunction('convertToInteractive',\n",
              "                                                     [key], {});\n",
              "          if (!dataTable) return;\n",
              "\n",
              "          const docLinkHtml = 'Like what you see? Visit the ' +\n",
              "            '<a target=\"_blank\" href=https://colab.research.google.com/notebooks/data_table.ipynb>data table notebook</a>'\n",
              "            + ' to learn more about interactive tables.';\n",
              "          element.innerHTML = '';\n",
              "          dataTable['output_type'] = 'display_data';\n",
              "          await google.colab.output.renderOutput(dataTable, element);\n",
              "          const docLink = document.createElement('div');\n",
              "          docLink.innerHTML = docLinkHtml;\n",
              "          element.appendChild(docLink);\n",
              "        }\n",
              "      </script>\n",
              "    </div>\n",
              "  </div>\n",
              "  "
            ]
          },
          "metadata": {},
          "execution_count": 29
        }
      ]
    },
    {
      "cell_type": "code",
      "source": [
        "# rename, drop and add columns\n",
        "\n",
        "stations_combos_c02_locs.columns = ['origin_code','origin_name','origin_coords','dest_code','dest_name','dest_coords','distance_mi',\n",
        "                                    'route','co2e_kg','coordinates_rev','route_locations','color','origin_location','origin_lat', 'origin_lon','code',\n",
        "                                    'dest_location','latitude','longitude']\n",
        "stations_combos_c02_locs = stations_combos_c02_locs.drop(columns=['code','latitude','longitude','color','coordinates_rev'],axis=1)                       \n",
        "stations_combos_c02_locs['co2e_kg_round'] = stations_combos_c02_locs['co2e_kg'].map(lambda x: int(x))\n",
        "stations_combos_c02_locs['co2e_lb'] = stations_combos_c02_locs['co2e_kg'].map(lambda x: int(x*2.2))"
      ],
      "metadata": {
        "id": "uF53OVnNfcWv"
      },
      "execution_count": 30,
      "outputs": []
    },
    {
      "cell_type": "code",
      "source": [
        "stations_combos_c02_locs.head(2)"
      ],
      "metadata": {
        "colab": {
          "base_uri": "https://localhost:8080/",
          "height": 245
        },
        "id": "lRXTqkYXwuKt",
        "outputId": "e281fc7f-fead-411c-9469-93c96051e704"
      },
      "execution_count": 31,
      "outputs": [
        {
          "output_type": "execute_result",
          "data": {
            "text/plain": [
              "  origin_code origin_name            origin_coords dest_code      dest_name  \\\n",
              "0         BOS  Boston, MA  (42.348695, -71.059861)       BOS     Boston, MA   \n",
              "1         BOS  Boston, MA  (42.348695, -71.059861)       RTE  Route 128, MA   \n",
              "\n",
              "                dest_coords  distance_mi  route   co2e_kg  \\\n",
              "0   (42.348695, -71.059861)     0.000000  Acela  0.000000   \n",
              "1  (42.2111905, -71.148665)    17.250466  Acela  3.143035   \n",
              "\n",
              "                                     route_locations        origin_location  \\\n",
              "0  Acela: Boston, MA; Route 128, MA; Providence, ...  Boston, Massachusetts   \n",
              "1  Acela: Boston, MA; Route 128, MA; Providence, ...  Boston, Massachusetts   \n",
              "\n",
              "  origin_lat origin_lon            dest_location  co2e_kg_round  co2e_lb  \n",
              "0  42.348695 -71.059861    Boston, Massachusetts              0        0  \n",
              "1  42.348695 -71.059861  Westwood, Massachusetts              3        6  "
            ],
            "text/html": [
              "\n",
              "  <div id=\"df-78b88d4d-6c26-4d35-919a-11d5bb005f76\">\n",
              "    <div class=\"colab-df-container\">\n",
              "      <div>\n",
              "<style scoped>\n",
              "    .dataframe tbody tr th:only-of-type {\n",
              "        vertical-align: middle;\n",
              "    }\n",
              "\n",
              "    .dataframe tbody tr th {\n",
              "        vertical-align: top;\n",
              "    }\n",
              "\n",
              "    .dataframe thead th {\n",
              "        text-align: right;\n",
              "    }\n",
              "</style>\n",
              "<table border=\"1\" class=\"dataframe\">\n",
              "  <thead>\n",
              "    <tr style=\"text-align: right;\">\n",
              "      <th></th>\n",
              "      <th>origin_code</th>\n",
              "      <th>origin_name</th>\n",
              "      <th>origin_coords</th>\n",
              "      <th>dest_code</th>\n",
              "      <th>dest_name</th>\n",
              "      <th>dest_coords</th>\n",
              "      <th>distance_mi</th>\n",
              "      <th>route</th>\n",
              "      <th>co2e_kg</th>\n",
              "      <th>route_locations</th>\n",
              "      <th>origin_location</th>\n",
              "      <th>origin_lat</th>\n",
              "      <th>origin_lon</th>\n",
              "      <th>dest_location</th>\n",
              "      <th>co2e_kg_round</th>\n",
              "      <th>co2e_lb</th>\n",
              "    </tr>\n",
              "  </thead>\n",
              "  <tbody>\n",
              "    <tr>\n",
              "      <th>0</th>\n",
              "      <td>BOS</td>\n",
              "      <td>Boston, MA</td>\n",
              "      <td>(42.348695, -71.059861)</td>\n",
              "      <td>BOS</td>\n",
              "      <td>Boston, MA</td>\n",
              "      <td>(42.348695, -71.059861)</td>\n",
              "      <td>0.000000</td>\n",
              "      <td>Acela</td>\n",
              "      <td>0.000000</td>\n",
              "      <td>Acela: Boston, MA; Route 128, MA; Providence, ...</td>\n",
              "      <td>Boston, Massachusetts</td>\n",
              "      <td>42.348695</td>\n",
              "      <td>-71.059861</td>\n",
              "      <td>Boston, Massachusetts</td>\n",
              "      <td>0</td>\n",
              "      <td>0</td>\n",
              "    </tr>\n",
              "    <tr>\n",
              "      <th>1</th>\n",
              "      <td>BOS</td>\n",
              "      <td>Boston, MA</td>\n",
              "      <td>(42.348695, -71.059861)</td>\n",
              "      <td>RTE</td>\n",
              "      <td>Route 128, MA</td>\n",
              "      <td>(42.2111905, -71.148665)</td>\n",
              "      <td>17.250466</td>\n",
              "      <td>Acela</td>\n",
              "      <td>3.143035</td>\n",
              "      <td>Acela: Boston, MA; Route 128, MA; Providence, ...</td>\n",
              "      <td>Boston, Massachusetts</td>\n",
              "      <td>42.348695</td>\n",
              "      <td>-71.059861</td>\n",
              "      <td>Westwood, Massachusetts</td>\n",
              "      <td>3</td>\n",
              "      <td>6</td>\n",
              "    </tr>\n",
              "  </tbody>\n",
              "</table>\n",
              "</div>\n",
              "      <button class=\"colab-df-convert\" onclick=\"convertToInteractive('df-78b88d4d-6c26-4d35-919a-11d5bb005f76')\"\n",
              "              title=\"Convert this dataframe to an interactive table.\"\n",
              "              style=\"display:none;\">\n",
              "        \n",
              "  <svg xmlns=\"http://www.w3.org/2000/svg\" height=\"24px\"viewBox=\"0 0 24 24\"\n",
              "       width=\"24px\">\n",
              "    <path d=\"M0 0h24v24H0V0z\" fill=\"none\"/>\n",
              "    <path d=\"M18.56 5.44l.94 2.06.94-2.06 2.06-.94-2.06-.94-.94-2.06-.94 2.06-2.06.94zm-11 1L8.5 8.5l.94-2.06 2.06-.94-2.06-.94L8.5 2.5l-.94 2.06-2.06.94zm10 10l.94 2.06.94-2.06 2.06-.94-2.06-.94-.94-2.06-.94 2.06-2.06.94z\"/><path d=\"M17.41 7.96l-1.37-1.37c-.4-.4-.92-.59-1.43-.59-.52 0-1.04.2-1.43.59L10.3 9.45l-7.72 7.72c-.78.78-.78 2.05 0 2.83L4 21.41c.39.39.9.59 1.41.59.51 0 1.02-.2 1.41-.59l7.78-7.78 2.81-2.81c.8-.78.8-2.07 0-2.86zM5.41 20L4 18.59l7.72-7.72 1.47 1.35L5.41 20z\"/>\n",
              "  </svg>\n",
              "      </button>\n",
              "      \n",
              "  <style>\n",
              "    .colab-df-container {\n",
              "      display:flex;\n",
              "      flex-wrap:wrap;\n",
              "      gap: 12px;\n",
              "    }\n",
              "\n",
              "    .colab-df-convert {\n",
              "      background-color: #E8F0FE;\n",
              "      border: none;\n",
              "      border-radius: 50%;\n",
              "      cursor: pointer;\n",
              "      display: none;\n",
              "      fill: #1967D2;\n",
              "      height: 32px;\n",
              "      padding: 0 0 0 0;\n",
              "      width: 32px;\n",
              "    }\n",
              "\n",
              "    .colab-df-convert:hover {\n",
              "      background-color: #E2EBFA;\n",
              "      box-shadow: 0px 1px 2px rgba(60, 64, 67, 0.3), 0px 1px 3px 1px rgba(60, 64, 67, 0.15);\n",
              "      fill: #174EA6;\n",
              "    }\n",
              "\n",
              "    [theme=dark] .colab-df-convert {\n",
              "      background-color: #3B4455;\n",
              "      fill: #D2E3FC;\n",
              "    }\n",
              "\n",
              "    [theme=dark] .colab-df-convert:hover {\n",
              "      background-color: #434B5C;\n",
              "      box-shadow: 0px 1px 3px 1px rgba(0, 0, 0, 0.15);\n",
              "      filter: drop-shadow(0px 1px 2px rgba(0, 0, 0, 0.3));\n",
              "      fill: #FFFFFF;\n",
              "    }\n",
              "  </style>\n",
              "\n",
              "      <script>\n",
              "        const buttonEl =\n",
              "          document.querySelector('#df-78b88d4d-6c26-4d35-919a-11d5bb005f76 button.colab-df-convert');\n",
              "        buttonEl.style.display =\n",
              "          google.colab.kernel.accessAllowed ? 'block' : 'none';\n",
              "\n",
              "        async function convertToInteractive(key) {\n",
              "          const element = document.querySelector('#df-78b88d4d-6c26-4d35-919a-11d5bb005f76');\n",
              "          const dataTable =\n",
              "            await google.colab.kernel.invokeFunction('convertToInteractive',\n",
              "                                                     [key], {});\n",
              "          if (!dataTable) return;\n",
              "\n",
              "          const docLinkHtml = 'Like what you see? Visit the ' +\n",
              "            '<a target=\"_blank\" href=https://colab.research.google.com/notebooks/data_table.ipynb>data table notebook</a>'\n",
              "            + ' to learn more about interactive tables.';\n",
              "          element.innerHTML = '';\n",
              "          dataTable['output_type'] = 'display_data';\n",
              "          await google.colab.output.renderOutput(dataTable, element);\n",
              "          const docLink = document.createElement('div');\n",
              "          docLink.innerHTML = docLinkHtml;\n",
              "          element.appendChild(docLink);\n",
              "        }\n",
              "      </script>\n",
              "    </div>\n",
              "  </div>\n",
              "  "
            ]
          },
          "metadata": {},
          "execution_count": 31
        }
      ]
    },
    {
      "cell_type": "code",
      "source": [
        "# reorder columns\n",
        "\n",
        "stations_combos_c02_locs = stations_combos_c02_locs[['origin_code','origin_name','origin_coords','origin_location','origin_lat','origin_lon','dest_code','dest_name',\n",
        "                                         'dest_coords','dest_location','route','route_locations','distance_mi','co2e_kg','co2e_kg_round','co2e_lb']]"
      ],
      "metadata": {
        "id": "NwJfsSv-ifJA"
      },
      "execution_count": 32,
      "outputs": []
    },
    {
      "cell_type": "code",
      "source": [
        "stations_combos_c02_locs.head(2)"
      ],
      "metadata": {
        "colab": {
          "base_uri": "https://localhost:8080/",
          "height": 245
        },
        "id": "ODE-UBSti9uB",
        "outputId": "c7b9c0bf-1f7b-4228-aabb-9cab4993ab8d"
      },
      "execution_count": 33,
      "outputs": [
        {
          "output_type": "execute_result",
          "data": {
            "text/plain": [
              "  origin_code origin_name            origin_coords        origin_location  \\\n",
              "0         BOS  Boston, MA  (42.348695, -71.059861)  Boston, Massachusetts   \n",
              "1         BOS  Boston, MA  (42.348695, -71.059861)  Boston, Massachusetts   \n",
              "\n",
              "  origin_lat origin_lon dest_code      dest_name               dest_coords  \\\n",
              "0  42.348695 -71.059861       BOS     Boston, MA   (42.348695, -71.059861)   \n",
              "1  42.348695 -71.059861       RTE  Route 128, MA  (42.2111905, -71.148665)   \n",
              "\n",
              "             dest_location  route  \\\n",
              "0    Boston, Massachusetts  Acela   \n",
              "1  Westwood, Massachusetts  Acela   \n",
              "\n",
              "                                     route_locations  distance_mi   co2e_kg  \\\n",
              "0  Acela: Boston, MA; Route 128, MA; Providence, ...     0.000000  0.000000   \n",
              "1  Acela: Boston, MA; Route 128, MA; Providence, ...    17.250466  3.143035   \n",
              "\n",
              "   co2e_kg_round  co2e_lb  \n",
              "0              0        0  \n",
              "1              3        6  "
            ],
            "text/html": [
              "\n",
              "  <div id=\"df-bb21071c-d5e0-4d7a-ad28-742ae7d6529f\">\n",
              "    <div class=\"colab-df-container\">\n",
              "      <div>\n",
              "<style scoped>\n",
              "    .dataframe tbody tr th:only-of-type {\n",
              "        vertical-align: middle;\n",
              "    }\n",
              "\n",
              "    .dataframe tbody tr th {\n",
              "        vertical-align: top;\n",
              "    }\n",
              "\n",
              "    .dataframe thead th {\n",
              "        text-align: right;\n",
              "    }\n",
              "</style>\n",
              "<table border=\"1\" class=\"dataframe\">\n",
              "  <thead>\n",
              "    <tr style=\"text-align: right;\">\n",
              "      <th></th>\n",
              "      <th>origin_code</th>\n",
              "      <th>origin_name</th>\n",
              "      <th>origin_coords</th>\n",
              "      <th>origin_location</th>\n",
              "      <th>origin_lat</th>\n",
              "      <th>origin_lon</th>\n",
              "      <th>dest_code</th>\n",
              "      <th>dest_name</th>\n",
              "      <th>dest_coords</th>\n",
              "      <th>dest_location</th>\n",
              "      <th>route</th>\n",
              "      <th>route_locations</th>\n",
              "      <th>distance_mi</th>\n",
              "      <th>co2e_kg</th>\n",
              "      <th>co2e_kg_round</th>\n",
              "      <th>co2e_lb</th>\n",
              "    </tr>\n",
              "  </thead>\n",
              "  <tbody>\n",
              "    <tr>\n",
              "      <th>0</th>\n",
              "      <td>BOS</td>\n",
              "      <td>Boston, MA</td>\n",
              "      <td>(42.348695, -71.059861)</td>\n",
              "      <td>Boston, Massachusetts</td>\n",
              "      <td>42.348695</td>\n",
              "      <td>-71.059861</td>\n",
              "      <td>BOS</td>\n",
              "      <td>Boston, MA</td>\n",
              "      <td>(42.348695, -71.059861)</td>\n",
              "      <td>Boston, Massachusetts</td>\n",
              "      <td>Acela</td>\n",
              "      <td>Acela: Boston, MA; Route 128, MA; Providence, ...</td>\n",
              "      <td>0.000000</td>\n",
              "      <td>0.000000</td>\n",
              "      <td>0</td>\n",
              "      <td>0</td>\n",
              "    </tr>\n",
              "    <tr>\n",
              "      <th>1</th>\n",
              "      <td>BOS</td>\n",
              "      <td>Boston, MA</td>\n",
              "      <td>(42.348695, -71.059861)</td>\n",
              "      <td>Boston, Massachusetts</td>\n",
              "      <td>42.348695</td>\n",
              "      <td>-71.059861</td>\n",
              "      <td>RTE</td>\n",
              "      <td>Route 128, MA</td>\n",
              "      <td>(42.2111905, -71.148665)</td>\n",
              "      <td>Westwood, Massachusetts</td>\n",
              "      <td>Acela</td>\n",
              "      <td>Acela: Boston, MA; Route 128, MA; Providence, ...</td>\n",
              "      <td>17.250466</td>\n",
              "      <td>3.143035</td>\n",
              "      <td>3</td>\n",
              "      <td>6</td>\n",
              "    </tr>\n",
              "  </tbody>\n",
              "</table>\n",
              "</div>\n",
              "      <button class=\"colab-df-convert\" onclick=\"convertToInteractive('df-bb21071c-d5e0-4d7a-ad28-742ae7d6529f')\"\n",
              "              title=\"Convert this dataframe to an interactive table.\"\n",
              "              style=\"display:none;\">\n",
              "        \n",
              "  <svg xmlns=\"http://www.w3.org/2000/svg\" height=\"24px\"viewBox=\"0 0 24 24\"\n",
              "       width=\"24px\">\n",
              "    <path d=\"M0 0h24v24H0V0z\" fill=\"none\"/>\n",
              "    <path d=\"M18.56 5.44l.94 2.06.94-2.06 2.06-.94-2.06-.94-.94-2.06-.94 2.06-2.06.94zm-11 1L8.5 8.5l.94-2.06 2.06-.94-2.06-.94L8.5 2.5l-.94 2.06-2.06.94zm10 10l.94 2.06.94-2.06 2.06-.94-2.06-.94-.94-2.06-.94 2.06-2.06.94z\"/><path d=\"M17.41 7.96l-1.37-1.37c-.4-.4-.92-.59-1.43-.59-.52 0-1.04.2-1.43.59L10.3 9.45l-7.72 7.72c-.78.78-.78 2.05 0 2.83L4 21.41c.39.39.9.59 1.41.59.51 0 1.02-.2 1.41-.59l7.78-7.78 2.81-2.81c.8-.78.8-2.07 0-2.86zM5.41 20L4 18.59l7.72-7.72 1.47 1.35L5.41 20z\"/>\n",
              "  </svg>\n",
              "      </button>\n",
              "      \n",
              "  <style>\n",
              "    .colab-df-container {\n",
              "      display:flex;\n",
              "      flex-wrap:wrap;\n",
              "      gap: 12px;\n",
              "    }\n",
              "\n",
              "    .colab-df-convert {\n",
              "      background-color: #E8F0FE;\n",
              "      border: none;\n",
              "      border-radius: 50%;\n",
              "      cursor: pointer;\n",
              "      display: none;\n",
              "      fill: #1967D2;\n",
              "      height: 32px;\n",
              "      padding: 0 0 0 0;\n",
              "      width: 32px;\n",
              "    }\n",
              "\n",
              "    .colab-df-convert:hover {\n",
              "      background-color: #E2EBFA;\n",
              "      box-shadow: 0px 1px 2px rgba(60, 64, 67, 0.3), 0px 1px 3px 1px rgba(60, 64, 67, 0.15);\n",
              "      fill: #174EA6;\n",
              "    }\n",
              "\n",
              "    [theme=dark] .colab-df-convert {\n",
              "      background-color: #3B4455;\n",
              "      fill: #D2E3FC;\n",
              "    }\n",
              "\n",
              "    [theme=dark] .colab-df-convert:hover {\n",
              "      background-color: #434B5C;\n",
              "      box-shadow: 0px 1px 3px 1px rgba(0, 0, 0, 0.15);\n",
              "      filter: drop-shadow(0px 1px 2px rgba(0, 0, 0, 0.3));\n",
              "      fill: #FFFFFF;\n",
              "    }\n",
              "  </style>\n",
              "\n",
              "      <script>\n",
              "        const buttonEl =\n",
              "          document.querySelector('#df-bb21071c-d5e0-4d7a-ad28-742ae7d6529f button.colab-df-convert');\n",
              "        buttonEl.style.display =\n",
              "          google.colab.kernel.accessAllowed ? 'block' : 'none';\n",
              "\n",
              "        async function convertToInteractive(key) {\n",
              "          const element = document.querySelector('#df-bb21071c-d5e0-4d7a-ad28-742ae7d6529f');\n",
              "          const dataTable =\n",
              "            await google.colab.kernel.invokeFunction('convertToInteractive',\n",
              "                                                     [key], {});\n",
              "          if (!dataTable) return;\n",
              "\n",
              "          const docLinkHtml = 'Like what you see? Visit the ' +\n",
              "            '<a target=\"_blank\" href=https://colab.research.google.com/notebooks/data_table.ipynb>data table notebook</a>'\n",
              "            + ' to learn more about interactive tables.';\n",
              "          element.innerHTML = '';\n",
              "          dataTable['output_type'] = 'display_data';\n",
              "          await google.colab.output.renderOutput(dataTable, element);\n",
              "          const docLink = document.createElement('div');\n",
              "          docLink.innerHTML = docLinkHtml;\n",
              "          element.appendChild(docLink);\n",
              "        }\n",
              "      </script>\n",
              "    </div>\n",
              "  </div>\n",
              "  "
            ]
          },
          "metadata": {},
          "execution_count": 33
        }
      ]
    },
    {
      "cell_type": "code",
      "source": [
        "stations_combos_c02_locs.shape"
      ],
      "metadata": {
        "colab": {
          "base_uri": "https://localhost:8080/"
        },
        "id": "2WE4ZVAqqMhA",
        "outputId": "6387a665-6e53-4536-dcc2-2ac991aab769"
      },
      "execution_count": 34,
      "outputs": [
        {
          "output_type": "execute_result",
          "data": {
            "text/plain": [
              "(842, 16)"
            ]
          },
          "metadata": {},
          "execution_count": 34
        }
      ]
    },
    {
      "cell_type": "code",
      "source": [
        "# from google.colab import files\n",
        "# stations_combos_c02_locs.to_csv('trains_emissions.csv', encoding = 'utf-8-sig', index=False) \n",
        "# files.download('trains_emissions_42.csv')"
      ],
      "metadata": {
        "colab": {
          "base_uri": "https://localhost:8080/",
          "height": 17
        },
        "id": "XZYPfgbFifDr",
        "outputId": "cf526669-a234-4e02-fcfd-964552382c5c"
      },
      "execution_count": null,
      "outputs": [
        {
          "output_type": "display_data",
          "data": {
            "text/plain": [
              "<IPython.core.display.Javascript object>"
            ],
            "application/javascript": [
              "\n",
              "    async function download(id, filename, size) {\n",
              "      if (!google.colab.kernel.accessAllowed) {\n",
              "        return;\n",
              "      }\n",
              "      const div = document.createElement('div');\n",
              "      const label = document.createElement('label');\n",
              "      label.textContent = `Downloading \"${filename}\": `;\n",
              "      div.appendChild(label);\n",
              "      const progress = document.createElement('progress');\n",
              "      progress.max = size;\n",
              "      div.appendChild(progress);\n",
              "      document.body.appendChild(div);\n",
              "\n",
              "      const buffers = [];\n",
              "      let downloaded = 0;\n",
              "\n",
              "      const channel = await google.colab.kernel.comms.open(id);\n",
              "      // Send a message to notify the kernel that we're ready.\n",
              "      channel.send({})\n",
              "\n",
              "      for await (const message of channel.messages) {\n",
              "        // Send a message to notify the kernel that we're ready.\n",
              "        channel.send({})\n",
              "        if (message.buffers) {\n",
              "          for (const buffer of message.buffers) {\n",
              "            buffers.push(buffer);\n",
              "            downloaded += buffer.byteLength;\n",
              "            progress.value = downloaded;\n",
              "          }\n",
              "        }\n",
              "      }\n",
              "      const blob = new Blob(buffers, {type: 'application/binary'});\n",
              "      const a = document.createElement('a');\n",
              "      a.href = window.URL.createObjectURL(blob);\n",
              "      a.download = filename;\n",
              "      div.appendChild(a);\n",
              "      a.click();\n",
              "      div.remove();\n",
              "    }\n",
              "  "
            ]
          },
          "metadata": {}
        },
        {
          "output_type": "display_data",
          "data": {
            "text/plain": [
              "<IPython.core.display.Javascript object>"
            ],
            "application/javascript": [
              "download(\"download_18b36481-220c-429d-a3ac-9f9011567e74\", \"trains_emissions.csv\", 536986)"
            ]
          },
          "metadata": {}
        }
      ]
    }
  ]
}