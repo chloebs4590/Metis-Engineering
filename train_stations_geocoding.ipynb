{
  "nbformat": 4,
  "nbformat_minor": 0,
  "metadata": {
    "colab": {
      "name": "train_stations_geocoding.ipynb",
      "provenance": [],
      "machine_shape": "hm",
      "authorship_tag": "ABX9TyPbTXCA1LY871CiZtUWKz+J",
      "include_colab_link": true
    },
    "kernelspec": {
      "name": "python3",
      "display_name": "Python 3"
    },
    "language_info": {
      "name": "python"
    }
  },
  "cells": [
    {
      "cell_type": "markdown",
      "metadata": {
        "id": "view-in-github",
        "colab_type": "text"
      },
      "source": [
        "<a href=\"https://colab.research.google.com/github/chloebs4590/Metis-Engineering/blob/main/train_stations_geocoding.ipynb\" target=\"_parent\"><img src=\"https://colab.research.google.com/assets/colab-badge.svg\" alt=\"Open In Colab\"/></a>"
      ]
    },
    {
      "cell_type": "markdown",
      "source": [
        "# Notebook Description\n",
        "\n",
        "This notebook is for geocoding train station locations"
      ],
      "metadata": {
        "id": "u01Yg9ENVsAx"
      }
    },
    {
      "cell_type": "code",
      "execution_count": null,
      "metadata": {
        "id": "m2zfxU1_Povp"
      },
      "outputs": [],
      "source": [
        "reset -fs"
      ]
    },
    {
      "cell_type": "code",
      "source": [
        "!pip install googlemaps"
      ],
      "metadata": {
        "id": "JHFva9wHZhrT"
      },
      "execution_count": null,
      "outputs": []
    },
    {
      "cell_type": "code",
      "source": [
        "import pandas as pd\n",
        "import os\n",
        "import pickle"
      ],
      "metadata": {
        "id": "4dKyjGRdPvSG"
      },
      "execution_count": null,
      "outputs": []
    },
    {
      "cell_type": "code",
      "source": [
        "# mount Google Drive\n",
        "from google.colab import drive # import drive from google colab\n",
        "from os.path import join\n",
        "ROOT = \"/content/drive\"     # default location for the drive\n",
        "print(ROOT)                 # print content of ROOT (Optional)\n",
        "\n",
        "drive.mount(ROOT)           # we mount the google drive at /content/drive"
      ],
      "metadata": {
        "colab": {
          "base_uri": "https://localhost:8080/"
        },
        "id": "csUSlTS0P0J2",
        "outputId": "fa480ed9-c5d5-4b63-96b9-d47cfe157df4"
      },
      "execution_count": null,
      "outputs": [
        {
          "output_type": "stream",
          "name": "stdout",
          "text": [
            "/content/drive\n",
            "Mounted at /content/drive\n"
          ]
        }
      ]
    },
    {
      "cell_type": "code",
      "source": [
        "from google.colab import auth\n",
        "auth.authenticate_user()\n",
        "\n",
        "import gspread\n",
        "from google.auth import default\n",
        "creds, _ = default()\n",
        "\n",
        "gc = gspread.authorize(creds)"
      ],
      "metadata": {
        "id": "ilwQDpJ3Q-aY"
      },
      "execution_count": null,
      "outputs": []
    },
    {
      "cell_type": "code",
      "source": [
        "os.getcwd()"
      ],
      "metadata": {
        "colab": {
          "base_uri": "https://localhost:8080/",
          "height": 35
        },
        "id": "GNg4aVX3P56B",
        "outputId": "672adc94-c152-4829-90cd-7ffee6472b20"
      },
      "execution_count": null,
      "outputs": [
        {
          "output_type": "execute_result",
          "data": {
            "text/plain": [
              "'/content'"
            ],
            "application/vnd.google.colaboratory.intrinsic+json": {
              "type": "string"
            }
          },
          "metadata": {},
          "execution_count": 6
        }
      ]
    },
    {
      "cell_type": "code",
      "source": [
        "os.chdir('/content/drive/MyDrive/Data Science Metis/Engineering')"
      ],
      "metadata": {
        "id": "TL10K-YsP7ut"
      },
      "execution_count": null,
      "outputs": []
    },
    {
      "cell_type": "markdown",
      "source": [
        "Read in data"
      ],
      "metadata": {
        "id": "om3gBjJAQB9H"
      }
    },
    {
      "cell_type": "code",
      "source": [
        "worksheet = gc.open('Amtrak Train and Bus Locations').sheet1\n",
        "rows = worksheet.get_all_values()\n",
        "stations_locations = pd.DataFrame.from_records(rows[1:])"
      ],
      "metadata": {
        "id": "8b1GegRvR0Wp"
      },
      "execution_count": null,
      "outputs": []
    },
    {
      "cell_type": "code",
      "source": [
        "stations_locations.columns = ['x','y','objectid_1','objectid','station_descripton','bus_or_train',\n",
        "                              'zip_code','state','city','address_2','address_1','name','code','station_name']"
      ],
      "metadata": {
        "id": "ThtLQNY4S3sV"
      },
      "execution_count": null,
      "outputs": []
    },
    {
      "cell_type": "code",
      "source": [
        "stations_locations.info()"
      ],
      "metadata": {
        "colab": {
          "base_uri": "https://localhost:8080/"
        },
        "id": "DBUI4ecEe70v",
        "outputId": "8ee3dbe9-cebc-4ae4-b709-4f33dacfdc78"
      },
      "execution_count": null,
      "outputs": [
        {
          "output_type": "stream",
          "name": "stdout",
          "text": [
            "<class 'pandas.core.frame.DataFrame'>\n",
            "RangeIndex: 1088 entries, 0 to 1087\n",
            "Data columns (total 14 columns):\n",
            " #   Column              Non-Null Count  Dtype \n",
            "---  ------              --------------  ----- \n",
            " 0   x                   1088 non-null   object\n",
            " 1   y                   1088 non-null   object\n",
            " 2   objectid_1          1088 non-null   object\n",
            " 3   objectid            1088 non-null   object\n",
            " 4   station_descripton  1088 non-null   object\n",
            " 5   bus_or_train        1088 non-null   object\n",
            " 6   zip_code            1088 non-null   object\n",
            " 7   state               1088 non-null   object\n",
            " 8   city                1088 non-null   object\n",
            " 9   address_2           1088 non-null   object\n",
            " 10  address_1           1088 non-null   object\n",
            " 11  name                1088 non-null   object\n",
            " 12  code                1088 non-null   object\n",
            " 13  station_name        1088 non-null   object\n",
            "dtypes: object(14)\n",
            "memory usage: 119.1+ KB\n"
          ]
        }
      ]
    },
    {
      "cell_type": "code",
      "source": [
        "stations_locations.head()"
      ],
      "metadata": {
        "colab": {
          "base_uri": "https://localhost:8080/",
          "height": 337
        },
        "id": "MPSiWxKDR-9A",
        "outputId": "42f5b4ac-99d0-43f4-b38f-985232eb848a"
      },
      "execution_count": null,
      "outputs": [
        {
          "output_type": "execute_result",
          "data": {
            "text/plain": [
              "              x            y objectid_1 objectid  \\\n",
              "0  -9422620.154  5371788.236          1        1   \n",
              "1  -8216400.947  5273162.596          2        2   \n",
              "2  -10053783.51   5610281.91          3        3   \n",
              "3   -8478455.55  4794767.297          4        4   \n",
              "4    -8208827.1  5257492.746         14       16   \n",
              "\n",
              "                     station_descripton bus_or_train zip_code state  \\\n",
              "0  Station Building (with waiting room)          BUS    48801    MI   \n",
              "1   Curbside Bus Stop only (no shelter)          BUS    12211    NY   \n",
              "2   Curbside Bus Stop only (no shelter)          BUS    54421    WI   \n",
              "3  Station Building (with waiting room)        TRAIN    21001    MD   \n",
              "4  Station Building (with waiting room)        TRAIN    12144    NY   \n",
              "\n",
              "         city              address_2                address_1  \\\n",
              "0        Alma  Transportation Center    1105 Willow Run Drive   \n",
              "1      Albany                          737 Albany Shaker Road   \n",
              "2       Colby                         1210 North Division St.   \n",
              "3    Aberdeen                          18 East Bel Air Avenue   \n",
              "4  Rensselaer                                 525 East Street   \n",
              "\n",
              "                  name code           station_name  \n",
              "0                       AAM               Alma, MI  \n",
              "1  Albany Intl Airport  ABA             Albany, NY  \n",
              "2                       ABB   Abbotsford-Colby, WI  \n",
              "3                       ABE           Aberdeen, MD  \n",
              "4                       ALB  Albany-Rensselaer, NY  "
            ],
            "text/html": [
              "\n",
              "  <div id=\"df-4507d77b-9886-4695-aab5-243f59198aae\">\n",
              "    <div class=\"colab-df-container\">\n",
              "      <div>\n",
              "<style scoped>\n",
              "    .dataframe tbody tr th:only-of-type {\n",
              "        vertical-align: middle;\n",
              "    }\n",
              "\n",
              "    .dataframe tbody tr th {\n",
              "        vertical-align: top;\n",
              "    }\n",
              "\n",
              "    .dataframe thead th {\n",
              "        text-align: right;\n",
              "    }\n",
              "</style>\n",
              "<table border=\"1\" class=\"dataframe\">\n",
              "  <thead>\n",
              "    <tr style=\"text-align: right;\">\n",
              "      <th></th>\n",
              "      <th>x</th>\n",
              "      <th>y</th>\n",
              "      <th>objectid_1</th>\n",
              "      <th>objectid</th>\n",
              "      <th>station_descripton</th>\n",
              "      <th>bus_or_train</th>\n",
              "      <th>zip_code</th>\n",
              "      <th>state</th>\n",
              "      <th>city</th>\n",
              "      <th>address_2</th>\n",
              "      <th>address_1</th>\n",
              "      <th>name</th>\n",
              "      <th>code</th>\n",
              "      <th>station_name</th>\n",
              "    </tr>\n",
              "  </thead>\n",
              "  <tbody>\n",
              "    <tr>\n",
              "      <th>0</th>\n",
              "      <td>-9422620.154</td>\n",
              "      <td>5371788.236</td>\n",
              "      <td>1</td>\n",
              "      <td>1</td>\n",
              "      <td>Station Building (with waiting room)</td>\n",
              "      <td>BUS</td>\n",
              "      <td>48801</td>\n",
              "      <td>MI</td>\n",
              "      <td>Alma</td>\n",
              "      <td>Transportation Center</td>\n",
              "      <td>1105 Willow Run Drive</td>\n",
              "      <td></td>\n",
              "      <td>AAM</td>\n",
              "      <td>Alma, MI</td>\n",
              "    </tr>\n",
              "    <tr>\n",
              "      <th>1</th>\n",
              "      <td>-8216400.947</td>\n",
              "      <td>5273162.596</td>\n",
              "      <td>2</td>\n",
              "      <td>2</td>\n",
              "      <td>Curbside Bus Stop only (no shelter)</td>\n",
              "      <td>BUS</td>\n",
              "      <td>12211</td>\n",
              "      <td>NY</td>\n",
              "      <td>Albany</td>\n",
              "      <td></td>\n",
              "      <td>737 Albany Shaker Road</td>\n",
              "      <td>Albany Intl Airport</td>\n",
              "      <td>ABA</td>\n",
              "      <td>Albany, NY</td>\n",
              "    </tr>\n",
              "    <tr>\n",
              "      <th>2</th>\n",
              "      <td>-10053783.51</td>\n",
              "      <td>5610281.91</td>\n",
              "      <td>3</td>\n",
              "      <td>3</td>\n",
              "      <td>Curbside Bus Stop only (no shelter)</td>\n",
              "      <td>BUS</td>\n",
              "      <td>54421</td>\n",
              "      <td>WI</td>\n",
              "      <td>Colby</td>\n",
              "      <td></td>\n",
              "      <td>1210 North Division St.</td>\n",
              "      <td></td>\n",
              "      <td>ABB</td>\n",
              "      <td>Abbotsford-Colby, WI</td>\n",
              "    </tr>\n",
              "    <tr>\n",
              "      <th>3</th>\n",
              "      <td>-8478455.55</td>\n",
              "      <td>4794767.297</td>\n",
              "      <td>4</td>\n",
              "      <td>4</td>\n",
              "      <td>Station Building (with waiting room)</td>\n",
              "      <td>TRAIN</td>\n",
              "      <td>21001</td>\n",
              "      <td>MD</td>\n",
              "      <td>Aberdeen</td>\n",
              "      <td></td>\n",
              "      <td>18 East Bel Air Avenue</td>\n",
              "      <td></td>\n",
              "      <td>ABE</td>\n",
              "      <td>Aberdeen, MD</td>\n",
              "    </tr>\n",
              "    <tr>\n",
              "      <th>4</th>\n",
              "      <td>-8208827.1</td>\n",
              "      <td>5257492.746</td>\n",
              "      <td>14</td>\n",
              "      <td>16</td>\n",
              "      <td>Station Building (with waiting room)</td>\n",
              "      <td>TRAIN</td>\n",
              "      <td>12144</td>\n",
              "      <td>NY</td>\n",
              "      <td>Rensselaer</td>\n",
              "      <td></td>\n",
              "      <td>525 East Street</td>\n",
              "      <td></td>\n",
              "      <td>ALB</td>\n",
              "      <td>Albany-Rensselaer, NY</td>\n",
              "    </tr>\n",
              "  </tbody>\n",
              "</table>\n",
              "</div>\n",
              "      <button class=\"colab-df-convert\" onclick=\"convertToInteractive('df-4507d77b-9886-4695-aab5-243f59198aae')\"\n",
              "              title=\"Convert this dataframe to an interactive table.\"\n",
              "              style=\"display:none;\">\n",
              "        \n",
              "  <svg xmlns=\"http://www.w3.org/2000/svg\" height=\"24px\"viewBox=\"0 0 24 24\"\n",
              "       width=\"24px\">\n",
              "    <path d=\"M0 0h24v24H0V0z\" fill=\"none\"/>\n",
              "    <path d=\"M18.56 5.44l.94 2.06.94-2.06 2.06-.94-2.06-.94-.94-2.06-.94 2.06-2.06.94zm-11 1L8.5 8.5l.94-2.06 2.06-.94-2.06-.94L8.5 2.5l-.94 2.06-2.06.94zm10 10l.94 2.06.94-2.06 2.06-.94-2.06-.94-.94-2.06-.94 2.06-2.06.94z\"/><path d=\"M17.41 7.96l-1.37-1.37c-.4-.4-.92-.59-1.43-.59-.52 0-1.04.2-1.43.59L10.3 9.45l-7.72 7.72c-.78.78-.78 2.05 0 2.83L4 21.41c.39.39.9.59 1.41.59.51 0 1.02-.2 1.41-.59l7.78-7.78 2.81-2.81c.8-.78.8-2.07 0-2.86zM5.41 20L4 18.59l7.72-7.72 1.47 1.35L5.41 20z\"/>\n",
              "  </svg>\n",
              "      </button>\n",
              "      \n",
              "  <style>\n",
              "    .colab-df-container {\n",
              "      display:flex;\n",
              "      flex-wrap:wrap;\n",
              "      gap: 12px;\n",
              "    }\n",
              "\n",
              "    .colab-df-convert {\n",
              "      background-color: #E8F0FE;\n",
              "      border: none;\n",
              "      border-radius: 50%;\n",
              "      cursor: pointer;\n",
              "      display: none;\n",
              "      fill: #1967D2;\n",
              "      height: 32px;\n",
              "      padding: 0 0 0 0;\n",
              "      width: 32px;\n",
              "    }\n",
              "\n",
              "    .colab-df-convert:hover {\n",
              "      background-color: #E2EBFA;\n",
              "      box-shadow: 0px 1px 2px rgba(60, 64, 67, 0.3), 0px 1px 3px 1px rgba(60, 64, 67, 0.15);\n",
              "      fill: #174EA6;\n",
              "    }\n",
              "\n",
              "    [theme=dark] .colab-df-convert {\n",
              "      background-color: #3B4455;\n",
              "      fill: #D2E3FC;\n",
              "    }\n",
              "\n",
              "    [theme=dark] .colab-df-convert:hover {\n",
              "      background-color: #434B5C;\n",
              "      box-shadow: 0px 1px 3px 1px rgba(0, 0, 0, 0.15);\n",
              "      filter: drop-shadow(0px 1px 2px rgba(0, 0, 0, 0.3));\n",
              "      fill: #FFFFFF;\n",
              "    }\n",
              "  </style>\n",
              "\n",
              "      <script>\n",
              "        const buttonEl =\n",
              "          document.querySelector('#df-4507d77b-9886-4695-aab5-243f59198aae button.colab-df-convert');\n",
              "        buttonEl.style.display =\n",
              "          google.colab.kernel.accessAllowed ? 'block' : 'none';\n",
              "\n",
              "        async function convertToInteractive(key) {\n",
              "          const element = document.querySelector('#df-4507d77b-9886-4695-aab5-243f59198aae');\n",
              "          const dataTable =\n",
              "            await google.colab.kernel.invokeFunction('convertToInteractive',\n",
              "                                                     [key], {});\n",
              "          if (!dataTable) return;\n",
              "\n",
              "          const docLinkHtml = 'Like what you see? Visit the ' +\n",
              "            '<a target=\"_blank\" href=https://colab.research.google.com/notebooks/data_table.ipynb>data table notebook</a>'\n",
              "            + ' to learn more about interactive tables.';\n",
              "          element.innerHTML = '';\n",
              "          dataTable['output_type'] = 'display_data';\n",
              "          await google.colab.output.renderOutput(dataTable, element);\n",
              "          const docLink = document.createElement('div');\n",
              "          docLink.innerHTML = docLinkHtml;\n",
              "          element.appendChild(docLink);\n",
              "        }\n",
              "      </script>\n",
              "    </div>\n",
              "  </div>\n",
              "  "
            ]
          },
          "metadata": {},
          "execution_count": 15
        }
      ]
    },
    {
      "cell_type": "markdown",
      "source": [
        "Prepare df for geocoding addresses"
      ],
      "metadata": {
        "id": "FHQIEYNZTSL1"
      }
    },
    {
      "cell_type": "code",
      "source": [
        "# drop bus stations\n",
        "\n",
        "stations_locations = stations_locations[stations_locations['bus_or_train'] == 'TRAIN'].reset_index(drop=True)"
      ],
      "metadata": {
        "id": "DYCVbTGi86QR"
      },
      "execution_count": null,
      "outputs": []
    },
    {
      "cell_type": "code",
      "source": [
        "def state(x):\n",
        "  if x == 'CA':\n",
        "    return 'California'\n",
        "  elif x == 'IL':\n",
        "    return 'Illinois'\n",
        "  elif x == 'NY':\n",
        "    return 'New York'\n",
        "  elif x == 'PA':\n",
        "    return 'Pennsylvania'\n",
        "  elif x == 'MI':\n",
        "    return 'Michigan'\n",
        "  elif x == 'VA':\n",
        "    return 'Virginia'\n",
        "  elif x == 'FL':\n",
        "    return 'Florida'\n",
        "  elif x == 'WA':\n",
        "    return 'Washington'\n",
        "  elif x == 'TX':\n",
        "    return 'Texas'\n",
        "  elif x == 'NC':\n",
        "    return 'North Carolina'\n",
        "  elif x == 'MO':\n",
        "    return 'Missouri'\n",
        "  elif x == 'CT':\n",
        "    return 'Connecticut'\n",
        "  elif x == 'MA':\n",
        "    return 'Massachusetts'\n",
        "  elif x == 'MT':\n",
        "    return 'Montana'\n",
        "  elif x == 'VT':\n",
        "    return 'Vermont'\n",
        "  elif x == 'IN':\n",
        "    return 'Indiana'\n",
        "  elif x == 'MS':\n",
        "    return 'Mississippi'\n",
        "  elif x == 'SC':\n",
        "    return 'South Carolina'\n",
        "  elif x == 'CO':\n",
        "    return 'Colorado'\n",
        "  elif x == 'WV':\n",
        "    return 'West Virginia'\n",
        "  elif x == 'AZ':\n",
        "    return 'Arizona'\n",
        "  elif x == 'OR':\n",
        "    return 'Oregon'\n",
        "  elif x == 'WI':\n",
        "    return 'Wisconsin'\n",
        "  elif x == 'ND':\n",
        "    return 'North Dakota'\n",
        "  elif x == 'LA':\n",
        "    return 'Louisiana'\n",
        "  elif x == 'OH':\n",
        "    return 'Ohio'\n",
        "  elif x == 'NM':\n",
        "    return 'New Mexico'\n",
        "  elif x == 'MN':\n",
        "    return 'Minnesota'\n",
        "  elif x == 'NJ':\n",
        "    return 'New Jersey'\n",
        "  elif x == 'KS':\n",
        "    return 'Kansas'\n",
        "  elif x == 'MD':\n",
        "    return 'Maryland'\n",
        "  elif x == 'ME':\n",
        "    return 'Maine'\n",
        "  elif x == 'AR':\n",
        "    return 'Arkansas'\n",
        "  elif x == 'ON':\n",
        "    return 'Ontario'\n",
        "  elif x == 'IA':\n",
        "    return 'Iowa'\n",
        "  elif x == 'GA':\n",
        "    return 'Georgia'\n",
        "  elif x == 'OK':\n",
        "    return 'Oklahoma'\n",
        "  elif x == 'NE':\n",
        "    return 'Nebraska'\n",
        "  elif x == 'NH':\n",
        "    return 'New Hampshire'\n",
        "  elif x == 'KY':\n",
        "    return 'Kentucky'\n",
        "  elif x == 'UT':\n",
        "    return 'Utah'\n",
        "  elif x == 'RI':\n",
        "    return 'Rhode Island'\n",
        "  elif x == 'AL':\n",
        "    return 'Alabama'\n",
        "  elif x == 'NV':\n",
        "    return 'Nevada'\n",
        "  elif x == 'TN':\n",
        "    return 'Tennessee'\n",
        "  elif x == 'QC':\n",
        "    return 'Quebec'\n",
        "  elif x == 'DE':\n",
        "    return 'Delaware'\n",
        "  elif x == 'ID':\n",
        "    return 'Idaho'\n",
        "  elif x == 'BC':\n",
        "    return 'British Columbia'\n",
        "  else:\n",
        "    return 'DC'"
      ],
      "metadata": {
        "id": "BrZtwuXpFsRO"
      },
      "execution_count": null,
      "outputs": []
    },
    {
      "cell_type": "code",
      "source": [
        "stations_locations['state_rev'] = stations_locations['state'].map(state)"
      ],
      "metadata": {
        "id": "ZpoCuLEyFj3m"
      },
      "execution_count": null,
      "outputs": []
    },
    {
      "cell_type": "code",
      "source": [
        "# create full address column for geocoding\n",
        "\n",
        "stations_locations['full_address'] = stations_locations['address_1'] + \",\" + \" \"+ stations_locations['city'] + \",\" + \" \" + stations_locations['state_rev'] + \" \" + stations_locations['zip_code']"
      ],
      "metadata": {
        "id": "ThaenrnRvXwX"
      },
      "execution_count": null,
      "outputs": []
    },
    {
      "cell_type": "code",
      "source": [
        "stations_locations.head()"
      ],
      "metadata": {
        "id": "I9-iRKVtIec9"
      },
      "execution_count": null,
      "outputs": []
    },
    {
      "cell_type": "markdown",
      "source": [
        "Geocode addresses (the below cells are commented out so they don't inadvertently run again)"
      ],
      "metadata": {
        "id": "Z0dWGinaWFw5"
      }
    },
    {
      "cell_type": "code",
      "source": [
        "# import googlemaps\n",
        "# #Set Google MAPS API_Key\n",
        "# g_API = \"my_key\"\n",
        "# gmaps_key = googlemaps.Client(key=g_API)"
      ],
      "metadata": {
        "id": "T_wJnpAuQiCW"
      },
      "execution_count": null,
      "outputs": []
    },
    {
      "cell_type": "code",
      "source": [
        "# # Create columns to store longitude and latitude\n",
        "# stations_locations[\"longitude\"] = None\n",
        "# stations_locations[\"latitude\"] = None\n",
        "# for i in stations_locations.index:\n",
        "#     geocode_obj = gmaps_key.geocode(stations_locations.loc[i, \"full_address\"])\n",
        "#     try:\n",
        "#         lat = geocode_obj[0]['geometry']['location']['lat']\n",
        "#         lon = geocode_obj[0]['geometry']['location']['lng']\n",
        "#         stations_locations.loc[i,'latitude'] = lat\n",
        "#         stations_locations.loc[i,'longitude'] = lon\n",
        "#     except:\n",
        "#         lat = None\n",
        "#         lon = None"
      ],
      "metadata": {
        "id": "Vz3IwTgUQ2iE"
      },
      "execution_count": null,
      "outputs": []
    },
    {
      "cell_type": "code",
      "source": [
        "# # pickle stations_locations df with geocoded longitude and latitude\n",
        "\n",
        "# with open('stations_locations_geocoded.pkl', 'wb') as fid:\n",
        "#      pickle.dump(stations_locations, fid)"
      ],
      "metadata": {
        "id": "WRACZZ4uTf61"
      },
      "execution_count": null,
      "outputs": []
    }
  ]
}