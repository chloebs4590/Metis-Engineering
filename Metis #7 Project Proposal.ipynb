{
 "cells": [
  {
   "cell_type": "markdown",
   "id": "12dd6457",
   "metadata": {},
   "source": [
    "# Project Proposal\n",
    "\n",
    "## Gentrification and Vulnerability Analysis of Grand Rapids, MI\n",
    "***\n",
    "### Question/Need:\n",
    "\n",
    "The topic of gentrification and concerns about its impacts on residential displacement comes up in conversations about cities all over the country. My hometown of Grand Rapids, MI is no exception; each time I return, I see more affluent white families living in what have, for decades, been neighborhoods of predominately poor communities of color.\n",
    "\n",
    "Inspired by the <a href=\"https://www.portland.gov/bps/adap/gentrification-and-displacement-studies\">research</a> of Dr. Lisa Bates on gentrification and displacement in Portland, Oregon in 2013 -- as well as the subsequent <a href=\n",
    "\"https://sites.utexas.edu/gentrificationproject/gentrification-mapping-methodology/\">study</a> on the same topic in Austin, Texas that adopted Dr. Bates' methodology -- I seek to map gentfrification in Grand Rapids, MI by first classifying every census tract as gentrifying or not and then classifying the gentrifying tracts into five stages of gentrification. I will do this by measuring census tracts based on their degree of vulnerability, demographic change and housing market change.\n",
    "\n",
    "The end goal is to create a web app displaying a map of Grand Rapids census tracts color coded by their stage of gentrification (if any) and an interactive tool allowing users to input an address and determine the gentrification status of its census tract. \n",
    "\n",
    "The primary audiences for this web app are members of city government and neighborhood associations.\n",
    "***\n",
    "### Data\n",
    "\n",
    "The data will primarily come from the U.S. Census Bureau (more specifically, the American Community Survey 5-year estimates between 2009 - 2019) via the Census API. Supplemental data will come from two additional sources:\n",
    "- the U.S. Department of Housing and Urban Development (in order to calculate one of the vulnerability factors - the percentage of households in a census tract who earn less than 80% of Houshold Area Median Family Income) via the Comprehensive Housing Affordability Strategy <a href=\"https://www.huduser.gov/portal/dataset/chas-api.html\">(CHAS) API</a>\n",
    "- the Longitudinal Tract Database <a href=\"https://s4.ad.brown.edu/Projects/Diversity/Researcher/Bridging.htm\">(LTDB)</a>, which provides a tool for creating estimates within 2010 census tract boundaries for any census tract-data available between 1970 and 2020\n",
    "***\n",
    "### Tools\n",
    "\n",
    "I plan to use the following tools for this project:\n",
    "\n",
    "- Data Collection: Census API, CHAS API and Python requests \n",
    "- Data Storage: SQLite\n",
    "- Data Analysis & Preparation: Numpy, Pandas, Geopandas and Google Colab\n",
    "- Web App Creation: Streamlit\n",
    "***\n",
    "### MVP\n",
    "\n",
    "An MVP for this project will be a Streamlit app displaying a map of census tracts color coded according to their vulnerability to displacement through gentrification and a feature allowing a user to input their address and find their census tract on the map."
   ]
  }
 ],
 "metadata": {
  "kernelspec": {
   "display_name": "Python 3",
   "language": "python",
   "name": "python3"
  },
  "language_info": {
   "codemirror_mode": {
    "name": "ipython",
    "version": 3
   },
   "file_extension": ".py",
   "mimetype": "text/x-python",
   "name": "python",
   "nbconvert_exporter": "python",
   "pygments_lexer": "ipython3",
   "version": "3.8.10"
  }
 },
 "nbformat": 4,
 "nbformat_minor": 5
}
